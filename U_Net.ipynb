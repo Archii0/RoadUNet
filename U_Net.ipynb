{
  "cells": [
    {
      "cell_type": "markdown",
      "metadata": {
        "id": "view-in-github",
        "colab_type": "text"
      },
      "source": [
        "<a href=\"https://colab.research.google.com/github/Archii0/U-Net-Autonomous-Driving/blob/main/U_Net.ipynb\" target=\"_parent\"><img src=\"https://colab.research.google.com/assets/colab-badge.svg\" alt=\"Open In Colab\"/></a>"
      ]
    },
    {
      "cell_type": "markdown",
      "metadata": {
        "id": "pJnv78w27_e0"
      },
      "source": [
        "### Connect Google Drive"
      ]
    },
    {
      "cell_type": "code",
      "execution_count": null,
      "metadata": {
        "id": "r2aalYVo7-Z-",
        "colab": {
          "base_uri": "https://localhost:8080/"
        },
        "outputId": "993dc356-fc7b-4353-8811-5367eda6cc2e"
      },
      "outputs": [
        {
          "output_type": "stream",
          "name": "stdout",
          "text": [
            "Drive already mounted at /content/drive; to attempt to forcibly remount, call drive.mount(\"/content/drive\", force_remount=True).\n"
          ]
        }
      ],
      "source": [
        "from google.colab import drive\n",
        "drive.mount('/content/drive')"
      ]
    },
    {
      "cell_type": "markdown",
      "source": [
        "### Image loading scripts"
      ],
      "metadata": {
        "id": "hbXb4R2ZQtVw"
      }
    },
    {
      "cell_type": "code",
      "execution_count": null,
      "metadata": {
        "id": "Qy-piyEZzpdU"
      },
      "outputs": [],
      "source": [
        "import os\n",
        "from PIL import Image\n",
        "from torch.utils.data import Dataset, DataLoader\n",
        "import numpy as np"
      ]
    },
    {
      "cell_type": "code",
      "execution_count": null,
      "metadata": {
        "id": "H73C9I8lFoDc"
      },
      "outputs": [],
      "source": [
        "\n",
        "# Function to collect all image paths from multiple folders\n",
        "def get_image_paths(base_dir, sub_dirs, sample_size=None):\n",
        "    all_image_paths = []\n",
        "    for sub_dir in sub_dirs:\n",
        "        image_dir = os.path.join(base_dir, sub_dir, 'camera', 'cam_front_center')\n",
        "        image_paths = [os.path.join(image_dir, file) for file in os.listdir(image_dir) if file.endswith('.png')]\n",
        "        all_image_paths.extend(image_paths)\n",
        "\n",
        "    if sample_size and sample_size < len(all_image_paths):\n",
        "        all_image_paths = random.sample(all_image_paths, sample_size)\n",
        "\n",
        "    return all_image_paths\n",
        "\n",
        "# Function to split data\n",
        "def split_data(image_paths, train_ratio=0.8, val_ratio=0.1):\n",
        "    total_count = len(image_paths)\n",
        "    random.shuffle(image_paths)\n",
        "    train_count = int(total_count * train_ratio)\n",
        "    val_count = int(total_count * val_ratio)\n",
        "    train_paths = image_paths[:train_count]\n",
        "    val_paths = image_paths[train_count:train_count + val_count]\n",
        "    test_paths = image_paths[train_count + val_count:]\n",
        "    return train_paths, val_paths, test_paths\n",
        "\n",
        "# Dataset class\n",
        "class A2D2Dataset(Dataset):\n",
        "    def __init__(self, image_paths, mask_base_dir, transform=None):\n",
        "        self.image_paths = image_paths\n",
        "        self.mask_base_dir = mask_base_dir\n",
        "        self.transform = transform\n",
        "\n",
        "        self.RGB_TO_CLASS = {\n",
        "          (255, 0, 0): 0,       # Car 1\n",
        "          (200, 0, 0): 1,       # Car 2\n",
        "          (150, 0, 0): 2,       # Car 3\n",
        "          (128, 0, 0): 3,       # Car 4\n",
        "          (182, 89, 6): 4,      # Bicycle 1\n",
        "          (150, 50, 4): 5,      # Bicycle 2\n",
        "          (90, 30, 1): 6,       # Bicycle 3\n",
        "          (90, 30, 30): 7,      # Bicycle 4\n",
        "          (204, 153, 255): 8,   # Pedestrian 1\n",
        "          (189, 73, 155): 9,    # Pedestrian 2\n",
        "          (239, 89, 191): 10,   # Pedestrian 3\n",
        "          (255, 128, 0): 11,    # Truck 1\n",
        "          (200, 128, 0): 12,    # Truck 2\n",
        "          (150, 128, 0): 13,    # Truck 3\n",
        "          (0, 255, 0): 14,      # Small vehicles 1\n",
        "          (0, 200, 0): 15,      # Small vehicles 2\n",
        "          (0, 150, 0): 16,      # Small vehicles 3\n",
        "          (0, 128, 255): 17,    # Traffic signal 1\n",
        "          (30, 28, 158): 18,    # Traffic signal 2\n",
        "          (60, 28, 100): 19,    # Traffic signal 3\n",
        "          (0, 255, 255): 20,    # Traffic sign 1\n",
        "          (30, 220, 220): 21,   # Traffic sign 2\n",
        "          (60, 157, 199): 22,   # Traffic sign 3\n",
        "          (255, 255, 0): 23,    # Utility vehicle 1\n",
        "          (255, 255, 200): 24,  # Utility vehicle 2\n",
        "          (233, 100, 0): 25,    # Sidebars\n",
        "          (110, 110, 0): 26,    # Speed bumper\n",
        "          (128, 128, 0): 27,    # Curbstone\n",
        "          (255, 193, 37): 28,   # Solid line\n",
        "          (64, 0, 64): 29,      # Irrelevant signs\n",
        "          (185, 122, 87): 30,   # Road blocks\n",
        "          (0, 0, 100): 31,      # Tractor\n",
        "          (139, 99, 108): 32,   # Non-drivable street\n",
        "          (210, 50, 115): 33,   # Zebra crossing\n",
        "          (255, 0, 128): 34,    # Obstacles / trash\n",
        "          (255, 246, 143): 35,  # Poles\n",
        "          (150, 0, 150): 36,    # RD restricted area\n",
        "          (204, 255, 153): 37,  # Animals\n",
        "          (238, 162, 173): 38,  # Grid structure\n",
        "          (33, 44, 177): 39,    # Signal corpus\n",
        "          (180, 50, 180): 40,   # Drivable cobblestone\n",
        "          (255, 70, 185): 41,   # Electronic traffic\n",
        "          (238, 233, 191): 42,  # Slow drive area\n",
        "          (147, 253, 194): 43,  # Nature object\n",
        "          (150, 150, 200): 44,  # Parking area\n",
        "          (180, 150, 200): 45,  # Sidewalk\n",
        "          (72, 209, 204): 46,   # Ego car\n",
        "          (200, 125, 210): 47,  # Painted driv. instr.\n",
        "          (159, 121, 238): 48,  # Traffic guide obj.\n",
        "          (128, 0, 255): 49,    # Dashed line\n",
        "          (255, 0, 255): 50,    # RD normal street\n",
        "          (135, 206, 255): 51,  # Sky\n",
        "          (241, 230, 255): 52,  # Buildings\n",
        "          (96, 69, 143): 53,    # Blurred area\n",
        "          (53, 46, 82): 54      # Rain dirt\n",
        "        }\n",
        "\n",
        "    def __len__(self):\n",
        "        return len(self.image_paths)\n",
        "\n",
        "    def rgb_to_class_index(self, rgb_mask):\n",
        "        class_mask = np.zeros((rgb_mask.shape[0], rgb_mask.shape[1]), dtype=np.uint8)\n",
        "        for rgb, class_idx in self.RGB_TO_CLASS.items():\n",
        "            matches = np.all(rgb_mask == np.array(rgb, dtype=np.uint8), axis=-1)\n",
        "            class_mask[matches] = class_idx\n",
        "        return class_mask\n",
        "\n",
        "    def __getitem__(self, index):\n",
        "        img_path = self.image_paths[index]\n",
        "        mask_path = img_path.replace('camera_frontcenter', 'label_frontcenter').replace('camera/cam_front_center', 'label/cam_front_center')\n",
        "        image = np.array(Image.open(img_path))\n",
        "        rgb_mask = np.array(Image.open(mask_path))\n",
        "\n",
        "        class_index_mask = self.rgb_to_class_index(rgb_mask)\n",
        "\n",
        "        if self.transform is not None:\n",
        "            augmentations = self.transform(image=image, mask=class_index_mask)\n",
        "            image = augmentations[\"image\"]\n",
        "            class_index_mask = augmentations[\"mask\"]\n",
        "\n",
        "        return image, class_index_mask"
      ]
    },
    {
      "cell_type": "code",
      "execution_count": null,
      "metadata": {
        "id": "uXuBh_1csbkt"
      },
      "outputs": [],
      "source": [
        "import torch\n",
        "import torch.nn as nn\n",
        "import torchvision.transforms.functional as TF\n",
        "import torchvision"
      ]
    },
    {
      "cell_type": "code",
      "execution_count": null,
      "metadata": {
        "id": "FkHCIYPJtBDK"
      },
      "outputs": [],
      "source": [
        "class DoubleConv(nn.Module):\n",
        "  def __init__(self, in_channels, out_channels):\n",
        "    super(DoubleConv, self).__init__()\n",
        "    self.conv = nn.Sequential(\n",
        "        nn.Conv2d(in_channels, out_channels, 3, 1, 1, bias=False),\n",
        "        nn.BatchNorm2d(out_channels),\n",
        "        nn.ReLU(inplace=True),\n",
        "        nn.Conv2d(out_channels, out_channels, 3, 1, 1, bias=False),\n",
        "        nn.BatchNorm2d(out_channels),\n",
        "        nn.ReLU(inplace=True),\n",
        "    )\n",
        "  def forward(self, x):\n",
        "    return self.conv(x)"
      ]
    },
    {
      "cell_type": "markdown",
      "metadata": {
        "id": "Wjkml5oZhV1Q"
      },
      "source": [
        "# UNET with skip connection (Ambar)"
      ]
    },
    {
      "cell_type": "code",
      "execution_count": null,
      "metadata": {
        "id": "PTgzV_snhU9y"
      },
      "outputs": [],
      "source": [
        "import torch\n",
        "import torch.nn as nn\n",
        "import torchvision.models as models\n",
        "\n",
        "class UNET(nn.Module):\n",
        "    def __init__(self, height,width,in_channels, out_channels):\n",
        "        super(UNET, self).__init__()\n",
        "\n",
        "        # Load a pre-trained ResNet model\n",
        "        self.resnet = models.resnet50(weights=models.ResNet50_Weights.DEFAULT)\n",
        "\n",
        "        # Modify the first convolutional layer to accept custom input channels, the orignal ResNet assumes 3 channels\n",
        "        original_conv1_weight = self.resnet.conv1.weight.data\n",
        "        new_conv1 = nn.Conv2d(in_channels, 64, kernel_size=(7, 7), stride=(2, 2), padding=(3, 3), bias=False)\n",
        "        with torch.no_grad():\n",
        "            new_conv1.weight[:, 0:in_channels, :, :] = original_conv1_weight[:, 0:in_channels, :, :]\n",
        "        self.resnet.conv1 = new_conv1\n",
        "\n",
        "        # Remove the last fully connected layer, average pool and layer4\n",
        "        self.encoder = nn.Sequential(*list(self.resnet.children())[:-3])\n",
        "\n",
        "        # Inspect the output shape after passing through the encoder\n",
        "        dummy_input = torch.randn((1, in_channels, height, width))\n",
        "        encoder = self.encoder(dummy_input)\n",
        "        num_channels_after_encoder = encoder.shape[1]\n",
        "\n",
        "        # Define features and the input channels for the bottleneck\n",
        "        features = [1024,512,256,64]\n",
        "        self.bottleneck = DoubleConv(num_channels_after_encoder, features[0])\n",
        "\n",
        "        # Decoder\n",
        "        self.ups = nn.ModuleList()\n",
        "\n",
        "        for i in range(0,len(features)-1):\n",
        "           # This stride depends on your image size\n",
        "           # you want your image height and width to be a multiple of stride**len(features)\n",
        "           # so this code will work for image whose height and width are multiples of 16 (2**4)\n",
        "            self.ups.append(\n",
        "                nn.ConvTranspose2d(features[i], features[i+1], kernel_size=2, stride=2)\n",
        "            )\n",
        "            #input channel wrong before\n",
        "            self.ups.append(DoubleConv(features[i+1]*2, features[i+1],features[i+1]))\n",
        "\n",
        "        self.ups.append(\n",
        "                nn.ConvTranspose2d(features[-1], 32, kernel_size=2, stride=2)\n",
        "            )\n",
        "            #input channel wrong before\n",
        "        self.ups.append(DoubleConv(32, 16,16))\n",
        "\n",
        "        # Final Convolution\n",
        "        self.final_conv = nn.Conv2d(16, out_channels, kernel_size=1)\n",
        "\n",
        "    def forward(self, x):\n",
        "\n",
        "        # Encoder part (ResNet)\n",
        "\n",
        "        skip_connections= []\n",
        "\n",
        "        count=0\n",
        "\n",
        "        x = self.encoder[0](x)\n",
        "        count+=1\n",
        "\n",
        "        for layer in self.encoder[1:]:\n",
        "\n",
        "            x = layer(x)\n",
        "            if count>1 and count<6 and count!=3:\n",
        "              skip_connections.append(x)\n",
        "\n",
        "            count+=1\n",
        "\n",
        "        # Bottleneck\n",
        "        x = self.bottleneck(x)\n",
        "        count=0\n",
        "        skip_connections.reverse()\n",
        "\n",
        "        for idx in range(0, len(self.ups), 2):\n",
        "\n",
        "            x = self.ups[idx](x)\n",
        "            if(count <len(skip_connections)):\n",
        "\n",
        "               x = torch.cat((skip_connections[count], x), dim=1)\n",
        "\n",
        "            count+=1\n",
        "            x = self.ups[idx + 1](x)\n",
        "\n",
        "        return self.final_conv(x)\n",
        "\n",
        "class DoubleConv(nn.Module):\n",
        "    # (Convolution -> [BatchNorm] -> ReLU) * 2\n",
        "    def __init__(self, in_channels, out_channels, mid_channels=None):\n",
        "        super().__init__()\n",
        "        if not mid_channels:\n",
        "            mid_channels = out_channels\n",
        "        self.double_conv = nn.Sequential(\n",
        "            nn.Conv2d(in_channels, mid_channels, kernel_size=3, padding=1),\n",
        "            nn.BatchNorm2d(mid_channels),\n",
        "            nn.ReLU(inplace=True),\n",
        "            nn.Conv2d(mid_channels, out_channels, kernel_size=3, padding=1),\n",
        "            nn.BatchNorm2d(out_channels),\n",
        "            nn.ReLU(inplace=True)\n",
        "        )\n",
        "\n",
        "    def forward(self, x):\n",
        "        return self.double_conv(x)"
      ]
    },
    {
      "cell_type": "markdown",
      "metadata": {
        "id": "dATq6OD2PZe-"
      },
      "source": [
        "# U-NET Model"
      ]
    },
    {
      "cell_type": "markdown",
      "metadata": {
        "id": "vHXEWnvgwpex"
      },
      "source": [
        "# TEST MODEL (with skips connections)"
      ]
    },
    {
      "cell_type": "code",
      "execution_count": null,
      "metadata": {
        "id": "89XjFCpKSbDn"
      },
      "outputs": [],
      "source": [
        "# Ignore this test function\n",
        "\n",
        "#height and width have to be multiples of 16\n",
        "def test(height,width):\n",
        "  x = torch.randn((3, 3, height, width))\n",
        "  model = UNET( height, width, in_channels=3, out_channels=55)\n",
        "  preds = model(x)\n",
        "  print(preds.shape)\n",
        "  print(x.shape)\n",
        "  assert preds.shape == x.shape"
      ]
    },
    {
      "cell_type": "code",
      "execution_count": null,
      "metadata": {
        "id": "Rr33pG_fy35v"
      },
      "outputs": [],
      "source": [
        "test(608, 608)"
      ]
    },
    {
      "cell_type": "markdown",
      "metadata": {
        "id": "lXvDjbKM3oax"
      },
      "source": [
        "Train"
      ]
    },
    {
      "cell_type": "code",
      "execution_count": null,
      "metadata": {
        "id": "uTRFkkI6_ICg"
      },
      "outputs": [],
      "source": [
        "def save_checkpoint(state, epoch_number, directory_path=\"/content/drive/MyDrive/Archie/\"):\n",
        "  print(\"=> Saving checkpoint\")\n",
        "  save_location = directory_path + \"UNET_Checkpoint\" + str(epoch_number + 1) + \".pth.tar\"\n",
        "  torch.save(state, save_location)\n",
        "\n",
        "def load_checkpoint(checkpoint, model):\n",
        "  print(\"=> Loading checkpoint\")\n",
        "  model.load_state_dict(checkpoint[\"state_dict\"])\n",
        "\n",
        "def get_loaders(train_paths, val_paths, test_paths, mask_base_dir, batch_size, train_transform, val_transform, test_transform, num_workers=4, pin_memory=True):\n",
        "    train_ds = A2D2Dataset(train_paths, mask_base_dir, transform=train_transform)\n",
        "    train_loader = DataLoader(train_ds, batch_size=batch_size, num_workers=num_workers, pin_memory=pin_memory, shuffle=True)\n",
        "\n",
        "    val_ds = A2D2Dataset(val_paths, mask_base_dir, transform=val_transform)\n",
        "    val_loader = DataLoader(val_ds, batch_size=batch_size, num_workers=num_workers, pin_memory=pin_memory, shuffle=False)\n",
        "\n",
        "    test_ds = A2D2Dataset(test_paths, mask_base_dir, transform=test_transform)\n",
        "    test_loader = DataLoader(test_ds, batch_size=batch_size, num_workers=num_workers, pin_memory=pin_memory, shuffle=False)\n",
        "\n",
        "    return train_loader, val_loader, test_loader\n",
        "\n",
        "def get_test_loader(test_paths, mask_base_dir, batch_size, test_transform, num_workers=4, pin_memory=True):\n",
        "\n",
        "  test_ds = A2D2Dataset(test_paths, mask_base_dir, transform=test_transform)\n",
        "  test_loader = DataLoader(test_ds, batch_size=batch_size, num_workers=num_workers, pin_memory=pin_memory, shuffle=False)\n",
        "\n",
        "  return test_loader\n",
        "\n"
      ]
    },
    {
      "cell_type": "code",
      "execution_count": null,
      "metadata": {
        "id": "_7KOs-4ny4zQ"
      },
      "outputs": [],
      "source": [
        "import torch\n",
        "import albumentations as A\n",
        "from albumentations.pytorch import ToTensorV2\n",
        "from tqdm import tqdm\n",
        "import torch.nn as nn\n",
        "import torch.optim as optim\n",
        "import random"
      ]
    },
    {
      "cell_type": "code",
      "execution_count": null,
      "metadata": {
        "id": "dyxVN1Kw34vp",
        "colab": {
          "base_uri": "https://localhost:8080/"
        },
        "outputId": "d653c75a-c69d-4ac9-cd97-38dcb10cbfa2"
      },
      "outputs": [
        {
          "output_type": "stream",
          "name": "stdout",
          "text": [
            "['/content/drive/MyDrive/Archie/edgecases/1.jpg', '/content/drive/MyDrive/Archie/edgecases/2.jpg', '/content/drive/MyDrive/Archie/edgecases/3.jpg', '/content/drive/MyDrive/Archie/edgecases/4.jpg', '/content/drive/MyDrive/Archie/edgecases/5.jpg', '/content/drive/MyDrive/Archie/edgecases/6.jpg', '/content/drive/MyDrive/Archie/edgecases/7.jpg', '/content/drive/MyDrive/Archie/edgecases/8.jpg', '/content/drive/MyDrive/Archie/edgecases/9.jpg', '/content/drive/MyDrive/Archie/edgecases/10.jpg', '/content/drive/MyDrive/Archie/edgecases/11.jpg', '/content/drive/MyDrive/Archie/edgecases/12.jpg', '/content/drive/MyDrive/Archie/edgecases/13.jpg', '/content/drive/MyDrive/Archie/edgecases/14.jpg', '/content/drive/MyDrive/Archie/edgecases/15.jpg', '/content/drive/MyDrive/Archie/edgecases/16.jpg', '/content/drive/MyDrive/Archie/edgecases/17.jpg', '/content/drive/MyDrive/Archie/edgecases/18.jpg', '/content/drive/MyDrive/Archie/edgecases/19.jpg', '/content/drive/MyDrive/Archie/edgecases/20.jpg', '/content/drive/MyDrive/Archie/edgecases/21.jpg', '/content/drive/MyDrive/Archie/edgecases/22.jpg', '/content/drive/MyDrive/Archie/edgecases/23.jpg', '/content/drive/MyDrive/Archie/edgecases/24.jpg', '/content/drive/MyDrive/Archie/edgecases/25.jpg', '/content/drive/MyDrive/Archie/edgecases/26.jpg', '/content/drive/MyDrive/Archie/edgecases/27.jpg', '/content/drive/MyDrive/Archie/edgecases/28.jpg', '/content/drive/MyDrive/Archie/edgecases/29.jpg', '/content/drive/MyDrive/Archie/edgecases/30.jpg', '/content/drive/MyDrive/Archie/edgecases/31.jpg', '/content/drive/MyDrive/Archie/edgecases/32.jpg', '/content/drive/MyDrive/Archie/edgecases/33.jpg', '/content/drive/MyDrive/Archie/edgecases/34.jpg', '/content/drive/MyDrive/Archie/edgecases/35.jpg', '/content/drive/MyDrive/Archie/edgecases/36.jpg', '/content/drive/MyDrive/Archie/edgecases/37.jpg', '/content/drive/MyDrive/Archie/edgecases/38.jpg', '/content/drive/MyDrive/Archie/edgecases/39.jpg', '/content/drive/MyDrive/Archie/edgecases/40.jpg', '/content/drive/MyDrive/Archie/edgecases/41.jpg', '/content/drive/MyDrive/Archie/edgecases/42.jpg', '/content/drive/MyDrive/Archie/edgecases/43.jpg', '/content/drive/MyDrive/Archie/edgecases/44.jpg', '/content/drive/MyDrive/Archie/edgecases/45.jpg', '/content/drive/MyDrive/Archie/edgecases/46.jpg', '/content/drive/MyDrive/Archie/edgecases/47.jpg', '/content/drive/MyDrive/Archie/edgecases/48.jpg', '/content/drive/MyDrive/Archie/edgecases/49.jpg', '/content/drive/MyDrive/Archie/edgecases/50.jpg', '/content/drive/MyDrive/Archie/edgecases/51.jpg', '/content/drive/MyDrive/Archie/edgecases/52.jpg', '/content/drive/MyDrive/Archie/edgecases/53.jpg', '/content/drive/MyDrive/Archie/edgecases/54.jpg', '/content/drive/MyDrive/Archie/edgecases/55.jpg', '/content/drive/MyDrive/Archie/edgecases/56.jpg', '/content/drive/MyDrive/Archie/edgecases/57.jpg', '/content/drive/MyDrive/Archie/edgecases/58.jpg', '/content/drive/MyDrive/Archie/edgecases/59.jpg', '/content/drive/MyDrive/Archie/edgecases/60.jpg', '/content/drive/MyDrive/Archie/edgecases/61.jpg', '/content/drive/MyDrive/Archie/edgecases/62.jpg', '/content/drive/MyDrive/Archie/edgecases/63.jpg', '/content/drive/MyDrive/Archie/edgecases/64.jpg', '/content/drive/MyDrive/Archie/edgecases/65.jpg', '/content/drive/MyDrive/Archie/edgecases/66.jpg', '/content/drive/MyDrive/Archie/edgecases/67.jpg', '/content/drive/MyDrive/Archie/edgecases/68.jpg', '/content/drive/MyDrive/Archie/edgecases/69.jpg', '/content/drive/MyDrive/Archie/edgecases/70.jpg', '/content/drive/MyDrive/Archie/edgecases/71.jpg', '/content/drive/MyDrive/Archie/edgecases/72.jpg', '/content/drive/MyDrive/Archie/edgecases/73.jpg']\n"
          ]
        }
      ],
      "source": [
        "# Hyperparameters\n",
        "LEARNING_RATE = 1e-4\n",
        "# DEVICE = \"cuda\" if torch.cuda.is_available() else \"cpu\"\n",
        "DEVICE = \"cpu\"\n",
        "NUM_EPOCHS = 2\n",
        "NUM_WORKERS = 2\n",
        "IMAGE_HEIGHT = 512 #1200 # 1208\n",
        "IMAGE_WIDTH = 512 #1920 # 1920\n",
        "PIN_MEMORY = True\n",
        "LOAD_MODEL = False\n",
        "\n",
        "BASE_DIR = \"/content/drive/MyDrive/camera_lidar_semantic2/camera_lidar_semantic/\"\n",
        "MASK_BASE_DIR = BASE_DIR\n",
        "\n",
        "# DATES = [\"20181204_170238\", \"20181108_091945\", \"20181204_154421\", \"20180807_145028\", \"20181204_191844\"]\n",
        "# DATES = [\"20181204_170238\"]\n",
        "\n",
        "# testing date\n",
        "DATES = [\"20180925_124435\"]\n",
        "\n",
        "# all_image_paths = get_image_paths(base_dir=\"/content/drive/MyDrive/camera_lidar_semantic2/camera_lidar_semantic/\", sub_dirs=DATES)\n",
        "# TRAIN_PATHS, VAL_PATHS, TEST_PATHS = split_data(all_image_paths)\n",
        "\n",
        "\n",
        "# TEST_PATHS = get_image_paths(base_dir=\"/content/drive/MyDrive/camera_lidar_semantic2/camera_lidar_semantic/\", sub_dirs=DATES)\n",
        "\n",
        "# TEST_PATHS = get_image_paths(base_dir=\"/content/drive/MyDrive/Archie/edgecases/\", sub_dirs=DATES)\n",
        "# TEST_PATHS = get_image_paths\n",
        "\n",
        "file_paths = [f\"/content/drive/MyDrive/Archie/edgecases/{i}.jpg\" for i in range(1, 74)]\n",
        "print(file_paths)\n",
        "\n",
        "TEST_PATHS = file_paths\n",
        "TEST_PATHS = [\"/content/drive/MyDrive/Archie/edgecases/70.jpg\", \"/content/drive/MyDrive/Archie/edgecases/71.jpeg\", \"/content/drive/MyDrive/Archie/edgecases/72.jpeg\", \"/content/drive/MyDrive/Archie/edgecases/73.jpg\"]\n",
        "# TRAIN_PATHS = []\n",
        "# with open(\"/content/drive/MyDrive/Archie/text/train_paths.txt\", 'r') as file:\n",
        "#   TRAIN_PATHS = [line.strip() for line in file.readlines()]\n",
        "\n",
        "\n",
        "# VAL_PATHS = []\n",
        "# with open(\"/content/drive/MyDrive/Archie/text/val_paths.txt\", 'r') as file:\n",
        "#   VAL_PATHS = [line.strip() for line in file.readlines()]\n",
        "\n",
        "# TEST_PATHS = []\n",
        "# with open(\"/content/drive/MyDrive/Archie/text/test_paths.txt\", 'r') as file:\n",
        "#   TEST_PATHS = [line.strip() for line in file.readlines()]\n",
        "\n",
        "\n",
        "# with open('/content/drive/MyDrive/Archie/text/train_paths.txt', 'w') as f:\n",
        "#     for item in TRAIN_PATHS:\n",
        "#         f.write(f\"{item}\\n\")\n",
        "\n",
        "\n",
        "# with open('/content/drive/MyDrive/Archie/text/val_paths.txt', 'w') as f:\n",
        "#     for item in VAL_PATHS:\n",
        "#         f.write(f\"{item}\\n\")\n",
        "\n",
        "# with open('/content/drive/MyDrive/Archie/text/test_paths.txt', 'w') as f:\n",
        "#     for item in TEST_PATHS:\n",
        "#         f.write(f\"{item}\\n\")\n",
        "\n",
        "\n",
        "\n",
        "# Old code\n",
        "# SUB_DIRS = ['20180807_145028', '20180810_142822', '20180925_101535', '20180925_124435', '20180925_135056', '20181008_095521', '20181016_082154', '20181016_095036', '20181016_125231', '20181107_132300', '20181107_132730', '20181107_133258', '20181107_133445', '20181108_084007', '20181108_103155', '20181108_123750', '20181108_141609', '20181204_135952', '20181204_154421', '20181204_170238', '20181204_191844', '20181108_091945']\n",
        "#  201809_25112730 exluded as incomplete folder\n",
        "# CHOSEN_SUB_DIRS = random.sample(SUB_DIRS, 6)\n",
        "# print(CHOSEN_SUB_DIRS)"
      ]
    },
    {
      "cell_type": "code",
      "execution_count": null,
      "metadata": {
        "colab": {
          "base_uri": "https://localhost:8080/"
        },
        "id": "P8mzf4OVBnnc",
        "outputId": "1535e52e-fedb-4be3-feb7-1db2818531de"
      },
      "outputs": [
        {
          "data": {
            "text/plain": [
              "7345"
            ]
          },
          "execution_count": 10,
          "metadata": {},
          "output_type": "execute_result"
        }
      ],
      "source": [
        "len(all_image_paths)"
      ]
    },
    {
      "cell_type": "code",
      "source": [
        "len(TEST_PATHS)"
      ],
      "metadata": {
        "colab": {
          "base_uri": "https://localhost:8080/"
        },
        "id": "R1I6oJqtO4_a",
        "outputId": "8a904f48-cdc3-4e5d-afa7-72fe9a06a7bb"
      },
      "execution_count": null,
      "outputs": [
        {
          "output_type": "execute_result",
          "data": {
            "text/plain": [
              "74"
            ]
          },
          "metadata": {},
          "execution_count": 20
        }
      ]
    },
    {
      "cell_type": "code",
      "execution_count": null,
      "metadata": {
        "id": "C8AnfxhQ_wIo"
      },
      "outputs": [],
      "source": [
        "BATCH_SIZE = 1"
      ]
    },
    {
      "cell_type": "code",
      "execution_count": null,
      "metadata": {
        "id": "6l32tBxZLQPn"
      },
      "outputs": [],
      "source": [
        "NUM_EPOCHS = 10"
      ]
    },
    {
      "cell_type": "code",
      "execution_count": null,
      "metadata": {
        "colab": {
          "base_uri": "https://localhost:8080/"
        },
        "id": "8XpgJU7PKRZC",
        "outputId": "90a453be-0ec9-4f2d-9abe-368e264de777"
      },
      "outputs": [
        {
          "name": "stdout",
          "output_type": "stream",
          "text": [
            "['/content/drive/MyDrive/camera_lidar_semantic2/camera_lidar_semantic/20181204_170238/camera/cam_front_center/20181204170238_camera_frontcenter_000091050.png', '/content/drive/MyDrive/camera_lidar_semantic2/camera_lidar_semantic/20181204_191844/camera/cam_front_center/20181204191844_camera_frontcenter_000011535.png', '/content/drive/MyDrive/camera_lidar_semantic2/camera_lidar_semantic/20181204_191844/camera/cam_front_center/20181204191844_camera_frontcenter_000013322.png', '/content/drive/MyDrive/camera_lidar_semantic2/camera_lidar_semantic/20181108_091945/camera/cam_front_center/20181108091945_camera_frontcenter_000059295.png', '/content/drive/MyDrive/camera_lidar_semantic2/camera_lidar_semantic/20181204_154421/camera/cam_front_center/20181204154421_camera_frontcenter_000083118.png', '/content/drive/MyDrive/camera_lidar_semantic2/camera_lidar_semantic/20180807_145028/camera/cam_front_center/20180807145028_camera_frontcenter_000006176.png', '/content/drive/MyDrive/camera_lidar_semantic2/camera_lidar_semantic/20181108_091945/camera/cam_front_center/20181108091945_camera_frontcenter_000015555.png', '/content/drive/MyDrive/camera_lidar_semantic2/camera_lidar_semantic/20181108_091945/camera/cam_front_center/20181108091945_camera_frontcenter_000066750.png', '/content/drive/MyDrive/camera_lidar_semantic2/camera_lidar_semantic/20181108_091945/camera/cam_front_center/20181108091945_camera_frontcenter_000012539.png', '/content/drive/MyDrive/camera_lidar_semantic2/camera_lidar_semantic/20180807_145028/camera/cam_front_center/20180807145028_camera_frontcenter_000011994.png', '/content/drive/MyDrive/camera_lidar_semantic2/camera_lidar_semantic/20180807_145028/camera/cam_front_center/20180807145028_camera_frontcenter_000040082.png', '/content/drive/MyDrive/camera_lidar_semantic2/camera_lidar_semantic/20181204_191844/camera/cam_front_center/20181204191844_camera_frontcenter_000020884.png', '/content/drive/MyDrive/camera_lidar_semantic2/camera_lidar_semantic/20181108_091945/camera/cam_front_center/20181108091945_camera_frontcenter_000017887.png', '/content/drive/MyDrive/camera_lidar_semantic2/camera_lidar_semantic/20181204_191844/camera/cam_front_center/20181204191844_camera_frontcenter_000013654.png', '/content/drive/MyDrive/camera_lidar_semantic2/camera_lidar_semantic/20181204_191844/camera/cam_front_center/20181204191844_camera_frontcenter_000011721.png', '/content/drive/MyDrive/camera_lidar_semantic2/camera_lidar_semantic/20181204_191844/camera/cam_front_center/20181204191844_camera_frontcenter_000019295.png', '/content/drive/MyDrive/camera_lidar_semantic2/camera_lidar_semantic/20181204_154421/camera/cam_front_center/20181204154421_camera_frontcenter_000073387.png', '/content/drive/MyDrive/camera_lidar_semantic2/camera_lidar_semantic/20181204_191844/camera/cam_front_center/20181204191844_camera_frontcenter_000013666.png', '/content/drive/MyDrive/camera_lidar_semantic2/camera_lidar_semantic/20181204_191844/camera/cam_front_center/20181204191844_camera_frontcenter_000013764.png', '/content/drive/MyDrive/camera_lidar_semantic2/camera_lidar_semantic/20181108_091945/camera/cam_front_center/20181108091945_camera_frontcenter_000022881.png', '/content/drive/MyDrive/camera_lidar_semantic2/camera_lidar_semantic/20181108_091945/camera/cam_front_center/20181108091945_camera_frontcenter_000064414.png', '/content/drive/MyDrive/camera_lidar_semantic2/camera_lidar_semantic/20181204_170238/camera/cam_front_center/20181204170238_camera_frontcenter_000124299.png', '/content/drive/MyDrive/camera_lidar_semantic2/camera_lidar_semantic/20181108_091945/camera/cam_front_center/20181108091945_camera_frontcenter_000024123.png', '/content/drive/MyDrive/camera_lidar_semantic2/camera_lidar_semantic/20181204_154421/camera/cam_front_center/20181204154421_camera_frontcenter_000055756.png', '/content/drive/MyDrive/camera_lidar_semantic2/camera_lidar_semantic/20181204_170238/camera/cam_front_center/20181204170238_camera_frontcenter_000046556.png', '/content/drive/MyDrive/camera_lidar_semantic2/camera_lidar_semantic/20181108_091945/camera/cam_front_center/20181108091945_camera_frontcenter_000025046.png', '/content/drive/MyDrive/camera_lidar_semantic2/camera_lidar_semantic/20181204_191844/camera/cam_front_center/20181204191844_camera_frontcenter_000009338.png', '/content/drive/MyDrive/camera_lidar_semantic2/camera_lidar_semantic/20181204_191844/camera/cam_front_center/20181204191844_camera_frontcenter_000009370.png', '/content/drive/MyDrive/camera_lidar_semantic2/camera_lidar_semantic/20181204_191844/camera/cam_front_center/20181204191844_camera_frontcenter_000012897.png', '/content/drive/MyDrive/camera_lidar_semantic2/camera_lidar_semantic/20181108_091945/camera/cam_front_center/20181108091945_camera_frontcenter_000041203.png', '/content/drive/MyDrive/camera_lidar_semantic2/camera_lidar_semantic/20181204_154421/camera/cam_front_center/20181204154421_camera_frontcenter_000080711.png', '/content/drive/MyDrive/camera_lidar_semantic2/camera_lidar_semantic/20181108_091945/camera/cam_front_center/20181108091945_camera_frontcenter_000045051.png', '/content/drive/MyDrive/camera_lidar_semantic2/camera_lidar_semantic/20181204_191844/camera/cam_front_center/20181204191844_camera_frontcenter_000009392.png', '/content/drive/MyDrive/camera_lidar_semantic2/camera_lidar_semantic/20181108_091945/camera/cam_front_center/20181108091945_camera_frontcenter_000026829.png', '/content/drive/MyDrive/camera_lidar_semantic2/camera_lidar_semantic/20180807_145028/camera/cam_front_center/20180807145028_camera_frontcenter_000018872.png', '/content/drive/MyDrive/camera_lidar_semantic2/camera_lidar_semantic/20181204_191844/camera/cam_front_center/20181204191844_camera_frontcenter_000019823.png', '/content/drive/MyDrive/camera_lidar_semantic2/camera_lidar_semantic/20181204_154421/camera/cam_front_center/20181204154421_camera_frontcenter_000105773.png', '/content/drive/MyDrive/camera_lidar_semantic2/camera_lidar_semantic/20181108_091945/camera/cam_front_center/20181108091945_camera_frontcenter_000006197.png', '/content/drive/MyDrive/camera_lidar_semantic2/camera_lidar_semantic/20181204_191844/camera/cam_front_center/20181204191844_camera_frontcenter_000016344.png', '/content/drive/MyDrive/camera_lidar_semantic2/camera_lidar_semantic/20181204_154421/camera/cam_front_center/20181204154421_camera_frontcenter_000055209.png', '/content/drive/MyDrive/camera_lidar_semantic2/camera_lidar_semantic/20181204_154421/camera/cam_front_center/20181204154421_camera_frontcenter_000068087.png', '/content/drive/MyDrive/camera_lidar_semantic2/camera_lidar_semantic/20181108_091945/camera/cam_front_center/20181108091945_camera_frontcenter_000034232.png', '/content/drive/MyDrive/camera_lidar_semantic2/camera_lidar_semantic/20181108_091945/camera/cam_front_center/20181108091945_camera_frontcenter_000063671.png', '/content/drive/MyDrive/camera_lidar_semantic2/camera_lidar_semantic/20181204_191844/camera/cam_front_center/20181204191844_camera_frontcenter_000017064.png', '/content/drive/MyDrive/camera_lidar_semantic2/camera_lidar_semantic/20181108_091945/camera/cam_front_center/20181108091945_camera_frontcenter_000035867.png', '/content/drive/MyDrive/camera_lidar_semantic2/camera_lidar_semantic/20180807_145028/camera/cam_front_center/20180807145028_camera_frontcenter_000014079.png', '/content/drive/MyDrive/camera_lidar_semantic2/camera_lidar_semantic/20181204_154421/camera/cam_front_center/20181204154421_camera_frontcenter_000042908.png', '/content/drive/MyDrive/camera_lidar_semantic2/camera_lidar_semantic/20181204_170238/camera/cam_front_center/20181204170238_camera_frontcenter_000076209.png', '/content/drive/MyDrive/camera_lidar_semantic2/camera_lidar_semantic/20181108_091945/camera/cam_front_center/20181108091945_camera_frontcenter_000004894.png', '/content/drive/MyDrive/camera_lidar_semantic2/camera_lidar_semantic/20181204_154421/camera/cam_front_center/20181204154421_camera_frontcenter_000013846.png', '/content/drive/MyDrive/camera_lidar_semantic2/camera_lidar_semantic/20181204_170238/camera/cam_front_center/20181204170238_camera_frontcenter_000121451.png', '/content/drive/MyDrive/camera_lidar_semantic2/camera_lidar_semantic/20181108_091945/camera/cam_front_center/20181108091945_camera_frontcenter_000031347.png', '/content/drive/MyDrive/camera_lidar_semantic2/camera_lidar_semantic/20181204_154421/camera/cam_front_center/20181204154421_camera_frontcenter_000070188.png', '/content/drive/MyDrive/camera_lidar_semantic2/camera_lidar_semantic/20180807_145028/camera/cam_front_center/20180807145028_camera_frontcenter_000056064.png', '/content/drive/MyDrive/camera_lidar_semantic2/camera_lidar_semantic/20181204_154421/camera/cam_front_center/20181204154421_camera_frontcenter_000013441.png', '/content/drive/MyDrive/camera_lidar_semantic2/camera_lidar_semantic/20181204_191844/camera/cam_front_center/20181204191844_camera_frontcenter_000019806.png', '/content/drive/MyDrive/camera_lidar_semantic2/camera_lidar_semantic/20181108_091945/camera/cam_front_center/20181108091945_camera_frontcenter_000033043.png', '/content/drive/MyDrive/camera_lidar_semantic2/camera_lidar_semantic/20180807_145028/camera/cam_front_center/20180807145028_camera_frontcenter_000002787.png', '/content/drive/MyDrive/camera_lidar_semantic2/camera_lidar_semantic/20181204_154421/camera/cam_front_center/20181204154421_camera_frontcenter_000116367.png', '/content/drive/MyDrive/camera_lidar_semantic2/camera_lidar_semantic/20181204_154421/camera/cam_front_center/20181204154421_camera_frontcenter_000109042.png', '/content/drive/MyDrive/camera_lidar_semantic2/camera_lidar_semantic/20181108_091945/camera/cam_front_center/20181108091945_camera_frontcenter_000029972.png', '/content/drive/MyDrive/camera_lidar_semantic2/camera_lidar_semantic/20181204_191844/camera/cam_front_center/20181204191844_camera_frontcenter_000011965.png', '/content/drive/MyDrive/camera_lidar_semantic2/camera_lidar_semantic/20181204_154421/camera/cam_front_center/20181204154421_camera_frontcenter_000085911.png', '/content/drive/MyDrive/camera_lidar_semantic2/camera_lidar_semantic/20181204_170238/camera/cam_front_center/20181204170238_camera_frontcenter_000130157.png', '/content/drive/MyDrive/camera_lidar_semantic2/camera_lidar_semantic/20180807_145028/camera/cam_front_center/20180807145028_camera_frontcenter_000061085.png', '/content/drive/MyDrive/camera_lidar_semantic2/camera_lidar_semantic/20180807_145028/camera/cam_front_center/20180807145028_camera_frontcenter_000046392.png', '/content/drive/MyDrive/camera_lidar_semantic2/camera_lidar_semantic/20180807_145028/camera/cam_front_center/20180807145028_camera_frontcenter_000058778.png', '/content/drive/MyDrive/camera_lidar_semantic2/camera_lidar_semantic/20181108_091945/camera/cam_front_center/20181108091945_camera_frontcenter_000068797.png', '/content/drive/MyDrive/camera_lidar_semantic2/camera_lidar_semantic/20181108_091945/camera/cam_front_center/20181108091945_camera_frontcenter_000022569.png', '/content/drive/MyDrive/camera_lidar_semantic2/camera_lidar_semantic/20180807_145028/camera/cam_front_center/20180807145028_camera_frontcenter_000024790.png', '/content/drive/MyDrive/camera_lidar_semantic2/camera_lidar_semantic/20181204_170238/camera/cam_front_center/20181204170238_camera_frontcenter_000092288.png', '/content/drive/MyDrive/camera_lidar_semantic2/camera_lidar_semantic/20181204_191844/camera/cam_front_center/20181204191844_camera_frontcenter_000015488.png', '/content/drive/MyDrive/camera_lidar_semantic2/camera_lidar_semantic/20181108_091945/camera/cam_front_center/20181108091945_camera_frontcenter_000008261.png', '/content/drive/MyDrive/camera_lidar_semantic2/camera_lidar_semantic/20181108_091945/camera/cam_front_center/20181108091945_camera_frontcenter_000007420.png', '/content/drive/MyDrive/camera_lidar_semantic2/camera_lidar_semantic/20181108_091945/camera/cam_front_center/20181108091945_camera_frontcenter_000087423.png', '/content/drive/MyDrive/camera_lidar_semantic2/camera_lidar_semantic/20181108_091945/camera/cam_front_center/20181108091945_camera_frontcenter_000016746.png', '/content/drive/MyDrive/camera_lidar_semantic2/camera_lidar_semantic/20180807_145028/camera/cam_front_center/20180807145028_camera_frontcenter_000023189.png', '/content/drive/MyDrive/camera_lidar_semantic2/camera_lidar_semantic/20181108_091945/camera/cam_front_center/20181108091945_camera_frontcenter_000017581.png', '/content/drive/MyDrive/camera_lidar_semantic2/camera_lidar_semantic/20181108_091945/camera/cam_front_center/20181108091945_camera_frontcenter_000006399.png', '/content/drive/MyDrive/camera_lidar_semantic2/camera_lidar_semantic/20181204_170238/camera/cam_front_center/20181204170238_camera_frontcenter_000103540.png', '/content/drive/MyDrive/camera_lidar_semantic2/camera_lidar_semantic/20181108_091945/camera/cam_front_center/20181108091945_camera_frontcenter_000029119.png', '/content/drive/MyDrive/camera_lidar_semantic2/camera_lidar_semantic/20181204_191844/camera/cam_front_center/20181204191844_camera_frontcenter_000011714.png', '/content/drive/MyDrive/camera_lidar_semantic2/camera_lidar_semantic/20181204_191844/camera/cam_front_center/20181204191844_camera_frontcenter_000019869.png', '/content/drive/MyDrive/camera_lidar_semantic2/camera_lidar_semantic/20180807_145028/camera/cam_front_center/20180807145028_camera_frontcenter_000056424.png', '/content/drive/MyDrive/camera_lidar_semantic2/camera_lidar_semantic/20181108_091945/camera/cam_front_center/20181108091945_camera_frontcenter_000010731.png', '/content/drive/MyDrive/camera_lidar_semantic2/camera_lidar_semantic/20180807_145028/camera/cam_front_center/20180807145028_camera_frontcenter_000027715.png', '/content/drive/MyDrive/camera_lidar_semantic2/camera_lidar_semantic/20180807_145028/camera/cam_front_center/20180807145028_camera_frontcenter_000055032.png', '/content/drive/MyDrive/camera_lidar_semantic2/camera_lidar_semantic/20181204_191844/camera/cam_front_center/20181204191844_camera_frontcenter_000016066.png', '/content/drive/MyDrive/camera_lidar_semantic2/camera_lidar_semantic/20181204_191844/camera/cam_front_center/20181204191844_camera_frontcenter_000016518.png', '/content/drive/MyDrive/camera_lidar_semantic2/camera_lidar_semantic/20181204_154421/camera/cam_front_center/20181204154421_camera_frontcenter_000086706.png', '/content/drive/MyDrive/camera_lidar_semantic2/camera_lidar_semantic/20181204_170238/camera/cam_front_center/20181204170238_camera_frontcenter_000022652.png', '/content/drive/MyDrive/camera_lidar_semantic2/camera_lidar_semantic/20180807_145028/camera/cam_front_center/20180807145028_camera_frontcenter_000066157.png', '/content/drive/MyDrive/camera_lidar_semantic2/camera_lidar_semantic/20181204_191844/camera/cam_front_center/20181204191844_camera_frontcenter_000022779.png', '/content/drive/MyDrive/camera_lidar_semantic2/camera_lidar_semantic/20181204_191844/camera/cam_front_center/20181204191844_camera_frontcenter_000019941.png', '/content/drive/MyDrive/camera_lidar_semantic2/camera_lidar_semantic/20180807_145028/camera/cam_front_center/20180807145028_camera_frontcenter_000050564.png', '/content/drive/MyDrive/camera_lidar_semantic2/camera_lidar_semantic/20181204_170238/camera/cam_front_center/20181204170238_camera_frontcenter_000080374.png', '/content/drive/MyDrive/camera_lidar_semantic2/camera_lidar_semantic/20180807_145028/camera/cam_front_center/20180807145028_camera_frontcenter_000006851.png', '/content/drive/MyDrive/camera_lidar_semantic2/camera_lidar_semantic/20181108_091945/camera/cam_front_center/20181108091945_camera_frontcenter_000026109.png', '/content/drive/MyDrive/camera_lidar_semantic2/camera_lidar_semantic/20181108_091945/camera/cam_front_center/20181108091945_camera_frontcenter_000053140.png', '/content/drive/MyDrive/camera_lidar_semantic2/camera_lidar_semantic/20181204_191844/camera/cam_front_center/20181204191844_camera_frontcenter_000014239.png', '/content/drive/MyDrive/camera_lidar_semantic2/camera_lidar_semantic/20181108_091945/camera/cam_front_center/20181108091945_camera_frontcenter_000018809.png', '/content/drive/MyDrive/camera_lidar_semantic2/camera_lidar_semantic/20181204_191844/camera/cam_front_center/20181204191844_camera_frontcenter_000010551.png', '/content/drive/MyDrive/camera_lidar_semantic2/camera_lidar_semantic/20180807_145028/camera/cam_front_center/20180807145028_camera_frontcenter_000045775.png', '/content/drive/MyDrive/camera_lidar_semantic2/camera_lidar_semantic/20180807_145028/camera/cam_front_center/20180807145028_camera_frontcenter_000038248.png', '/content/drive/MyDrive/camera_lidar_semantic2/camera_lidar_semantic/20181204_154421/camera/cam_front_center/20181204154421_camera_frontcenter_000084868.png', '/content/drive/MyDrive/camera_lidar_semantic2/camera_lidar_semantic/20181204_170238/camera/cam_front_center/20181204170238_camera_frontcenter_000054036.png', '/content/drive/MyDrive/camera_lidar_semantic2/camera_lidar_semantic/20181204_191844/camera/cam_front_center/20181204191844_camera_frontcenter_000014859.png', '/content/drive/MyDrive/camera_lidar_semantic2/camera_lidar_semantic/20181204_191844/camera/cam_front_center/20181204191844_camera_frontcenter_000020249.png', '/content/drive/MyDrive/camera_lidar_semantic2/camera_lidar_semantic/20181108_091945/camera/cam_front_center/20181108091945_camera_frontcenter_000035369.png', '/content/drive/MyDrive/camera_lidar_semantic2/camera_lidar_semantic/20181204_170238/camera/cam_front_center/20181204170238_camera_frontcenter_000089840.png', '/content/drive/MyDrive/camera_lidar_semantic2/camera_lidar_semantic/20181108_091945/camera/cam_front_center/20181108091945_camera_frontcenter_000022666.png', '/content/drive/MyDrive/camera_lidar_semantic2/camera_lidar_semantic/20180807_145028/camera/cam_front_center/20180807145028_camera_frontcenter_000065926.png', '/content/drive/MyDrive/camera_lidar_semantic2/camera_lidar_semantic/20181204_170238/camera/cam_front_center/20181204170238_camera_frontcenter_000021007.png', '/content/drive/MyDrive/camera_lidar_semantic2/camera_lidar_semantic/20181204_191844/camera/cam_front_center/20181204191844_camera_frontcenter_000009232.png', '/content/drive/MyDrive/camera_lidar_semantic2/camera_lidar_semantic/20181204_191844/camera/cam_front_center/20181204191844_camera_frontcenter_000013066.png', '/content/drive/MyDrive/camera_lidar_semantic2/camera_lidar_semantic/20180807_145028/camera/cam_front_center/20180807145028_camera_frontcenter_000030703.png', '/content/drive/MyDrive/camera_lidar_semantic2/camera_lidar_semantic/20181204_170238/camera/cam_front_center/20181204170238_camera_frontcenter_000074060.png', '/content/drive/MyDrive/camera_lidar_semantic2/camera_lidar_semantic/20181204_154421/camera/cam_front_center/20181204154421_camera_frontcenter_000085282.png', '/content/drive/MyDrive/camera_lidar_semantic2/camera_lidar_semantic/20181204_170238/camera/cam_front_center/20181204170238_camera_frontcenter_000012386.png', '/content/drive/MyDrive/camera_lidar_semantic2/camera_lidar_semantic/20181108_091945/camera/cam_front_center/20181108091945_camera_frontcenter_000026318.png', '/content/drive/MyDrive/camera_lidar_semantic2/camera_lidar_semantic/20181204_154421/camera/cam_front_center/20181204154421_camera_frontcenter_000051364.png', '/content/drive/MyDrive/camera_lidar_semantic2/camera_lidar_semantic/20181204_170238/camera/cam_front_center/20181204170238_camera_frontcenter_000020753.png', '/content/drive/MyDrive/camera_lidar_semantic2/camera_lidar_semantic/20181108_091945/camera/cam_front_center/20181108091945_camera_frontcenter_000047408.png', '/content/drive/MyDrive/camera_lidar_semantic2/camera_lidar_semantic/20181204_191844/camera/cam_front_center/20181204191844_camera_frontcenter_000011244.png', '/content/drive/MyDrive/camera_lidar_semantic2/camera_lidar_semantic/20181204_191844/camera/cam_front_center/20181204191844_camera_frontcenter_000018065.png', '/content/drive/MyDrive/camera_lidar_semantic2/camera_lidar_semantic/20181108_091945/camera/cam_front_center/20181108091945_camera_frontcenter_000041755.png', '/content/drive/MyDrive/camera_lidar_semantic2/camera_lidar_semantic/20181108_091945/camera/cam_front_center/20181108091945_camera_frontcenter_000085243.png', '/content/drive/MyDrive/camera_lidar_semantic2/camera_lidar_semantic/20181204_191844/camera/cam_front_center/20181204191844_camera_frontcenter_000013551.png', '/content/drive/MyDrive/camera_lidar_semantic2/camera_lidar_semantic/20181204_191844/camera/cam_front_center/20181204191844_camera_frontcenter_000012319.png', '/content/drive/MyDrive/camera_lidar_semantic2/camera_lidar_semantic/20181108_091945/camera/cam_front_center/20181108091945_camera_frontcenter_000022322.png', '/content/drive/MyDrive/camera_lidar_semantic2/camera_lidar_semantic/20181204_170238/camera/cam_front_center/20181204170238_camera_frontcenter_000101548.png', '/content/drive/MyDrive/camera_lidar_semantic2/camera_lidar_semantic/20181204_170238/camera/cam_front_center/20181204170238_camera_frontcenter_000104217.png', '/content/drive/MyDrive/camera_lidar_semantic2/camera_lidar_semantic/20181108_091945/camera/cam_front_center/20181108091945_camera_frontcenter_000082162.png', '/content/drive/MyDrive/camera_lidar_semantic2/camera_lidar_semantic/20181204_191844/camera/cam_front_center/20181204191844_camera_frontcenter_000020691.png', '/content/drive/MyDrive/camera_lidar_semantic2/camera_lidar_semantic/20181204_170238/camera/cam_front_center/20181204170238_camera_frontcenter_000023185.png', '/content/drive/MyDrive/camera_lidar_semantic2/camera_lidar_semantic/20181204_191844/camera/cam_front_center/20181204191844_camera_frontcenter_000011996.png', '/content/drive/MyDrive/camera_lidar_semantic2/camera_lidar_semantic/20181108_091945/camera/cam_front_center/20181108091945_camera_frontcenter_000035108.png', '/content/drive/MyDrive/camera_lidar_semantic2/camera_lidar_semantic/20181108_091945/camera/cam_front_center/20181108091945_camera_frontcenter_000037770.png', '/content/drive/MyDrive/camera_lidar_semantic2/camera_lidar_semantic/20181204_191844/camera/cam_front_center/20181204191844_camera_frontcenter_000010338.png', '/content/drive/MyDrive/camera_lidar_semantic2/camera_lidar_semantic/20181108_091945/camera/cam_front_center/20181108091945_camera_frontcenter_000030638.png', '/content/drive/MyDrive/camera_lidar_semantic2/camera_lidar_semantic/20181204_191844/camera/cam_front_center/20181204191844_camera_frontcenter_000013644.png', '/content/drive/MyDrive/camera_lidar_semantic2/camera_lidar_semantic/20181204_154421/camera/cam_front_center/20181204154421_camera_frontcenter_000055117.png', '/content/drive/MyDrive/camera_lidar_semantic2/camera_lidar_semantic/20181108_091945/camera/cam_front_center/20181108091945_camera_frontcenter_000026983.png', '/content/drive/MyDrive/camera_lidar_semantic2/camera_lidar_semantic/20181204_191844/camera/cam_front_center/20181204191844_camera_frontcenter_000016253.png', '/content/drive/MyDrive/camera_lidar_semantic2/camera_lidar_semantic/20181204_170238/camera/cam_front_center/20181204170238_camera_frontcenter_000030892.png', '/content/drive/MyDrive/camera_lidar_semantic2/camera_lidar_semantic/20181108_091945/camera/cam_front_center/20181108091945_camera_frontcenter_000013922.png', '/content/drive/MyDrive/camera_lidar_semantic2/camera_lidar_semantic/20181204_154421/camera/cam_front_center/20181204154421_camera_frontcenter_000034485.png', '/content/drive/MyDrive/camera_lidar_semantic2/camera_lidar_semantic/20181204_191844/camera/cam_front_center/20181204191844_camera_frontcenter_000016285.png', '/content/drive/MyDrive/camera_lidar_semantic2/camera_lidar_semantic/20181108_091945/camera/cam_front_center/20181108091945_camera_frontcenter_000072454.png', '/content/drive/MyDrive/camera_lidar_semantic2/camera_lidar_semantic/20181204_191844/camera/cam_front_center/20181204191844_camera_frontcenter_000011453.png', '/content/drive/MyDrive/camera_lidar_semantic2/camera_lidar_semantic/20181204_191844/camera/cam_front_center/20181204191844_camera_frontcenter_000014254.png', '/content/drive/MyDrive/camera_lidar_semantic2/camera_lidar_semantic/20180807_145028/camera/cam_front_center/20180807145028_camera_frontcenter_000043543.png', '/content/drive/MyDrive/camera_lidar_semantic2/camera_lidar_semantic/20181108_091945/camera/cam_front_center/20181108091945_camera_frontcenter_000051709.png', '/content/drive/MyDrive/camera_lidar_semantic2/camera_lidar_semantic/20181204_154421/camera/cam_front_center/20181204154421_camera_frontcenter_000016674.png', '/content/drive/MyDrive/camera_lidar_semantic2/camera_lidar_semantic/20181108_091945/camera/cam_front_center/20181108091945_camera_frontcenter_000006641.png', '/content/drive/MyDrive/camera_lidar_semantic2/camera_lidar_semantic/20180807_145028/camera/cam_front_center/20180807145028_camera_frontcenter_000040635.png', '/content/drive/MyDrive/camera_lidar_semantic2/camera_lidar_semantic/20181108_091945/camera/cam_front_center/20181108091945_camera_frontcenter_000089442.png', '/content/drive/MyDrive/camera_lidar_semantic2/camera_lidar_semantic/20181108_091945/camera/cam_front_center/20181108091945_camera_frontcenter_000042267.png', '/content/drive/MyDrive/camera_lidar_semantic2/camera_lidar_semantic/20181108_091945/camera/cam_front_center/20181108091945_camera_frontcenter_000019966.png', '/content/drive/MyDrive/camera_lidar_semantic2/camera_lidar_semantic/20181204_191844/camera/cam_front_center/20181204191844_camera_frontcenter_000018405.png', '/content/drive/MyDrive/camera_lidar_semantic2/camera_lidar_semantic/20181204_170238/camera/cam_front_center/20181204170238_camera_frontcenter_000128157.png', '/content/drive/MyDrive/camera_lidar_semantic2/camera_lidar_semantic/20181108_091945/camera/cam_front_center/20181108091945_camera_frontcenter_000076666.png', '/content/drive/MyDrive/camera_lidar_semantic2/camera_lidar_semantic/20181108_091945/camera/cam_front_center/20181108091945_camera_frontcenter_000069984.png', '/content/drive/MyDrive/camera_lidar_semantic2/camera_lidar_semantic/20181204_170238/camera/cam_front_center/20181204170238_camera_frontcenter_000130112.png', '/content/drive/MyDrive/camera_lidar_semantic2/camera_lidar_semantic/20181204_170238/camera/cam_front_center/20181204170238_camera_frontcenter_000101208.png', '/content/drive/MyDrive/camera_lidar_semantic2/camera_lidar_semantic/20180807_145028/camera/cam_front_center/20180807145028_camera_frontcenter_000052674.png', '/content/drive/MyDrive/camera_lidar_semantic2/camera_lidar_semantic/20181108_091945/camera/cam_front_center/20181108091945_camera_frontcenter_000003358.png', '/content/drive/MyDrive/camera_lidar_semantic2/camera_lidar_semantic/20181204_170238/camera/cam_front_center/20181204170238_camera_frontcenter_000037409.png', '/content/drive/MyDrive/camera_lidar_semantic2/camera_lidar_semantic/20181108_091945/camera/cam_front_center/20181108091945_camera_frontcenter_000061891.png', '/content/drive/MyDrive/camera_lidar_semantic2/camera_lidar_semantic/20181204_191844/camera/cam_front_center/20181204191844_camera_frontcenter_000014906.png', '/content/drive/MyDrive/camera_lidar_semantic2/camera_lidar_semantic/20181204_170238/camera/cam_front_center/20181204170238_camera_frontcenter_000061784.png', '/content/drive/MyDrive/camera_lidar_semantic2/camera_lidar_semantic/20181108_091945/camera/cam_front_center/20181108091945_camera_frontcenter_000046973.png', '/content/drive/MyDrive/camera_lidar_semantic2/camera_lidar_semantic/20181108_091945/camera/cam_front_center/20181108091945_camera_frontcenter_000041854.png', '/content/drive/MyDrive/camera_lidar_semantic2/camera_lidar_semantic/20181108_091945/camera/cam_front_center/20181108091945_camera_frontcenter_000057002.png', '/content/drive/MyDrive/camera_lidar_semantic2/camera_lidar_semantic/20181204_191844/camera/cam_front_center/20181204191844_camera_frontcenter_000016542.png', '/content/drive/MyDrive/camera_lidar_semantic2/camera_lidar_semantic/20181108_091945/camera/cam_front_center/20181108091945_camera_frontcenter_000071629.png', '/content/drive/MyDrive/camera_lidar_semantic2/camera_lidar_semantic/20181204_154421/camera/cam_front_center/20181204154421_camera_frontcenter_000097825.png', '/content/drive/MyDrive/camera_lidar_semantic2/camera_lidar_semantic/20181204_191844/camera/cam_front_center/20181204191844_camera_frontcenter_000015823.png', '/content/drive/MyDrive/camera_lidar_semantic2/camera_lidar_semantic/20181204_191844/camera/cam_front_center/20181204191844_camera_frontcenter_000019441.png', '/content/drive/MyDrive/camera_lidar_semantic2/camera_lidar_semantic/20181204_191844/camera/cam_front_center/20181204191844_camera_frontcenter_000015982.png', '/content/drive/MyDrive/camera_lidar_semantic2/camera_lidar_semantic/20181204_170238/camera/cam_front_center/20181204170238_camera_frontcenter_000004110.png', '/content/drive/MyDrive/camera_lidar_semantic2/camera_lidar_semantic/20181204_170238/camera/cam_front_center/20181204170238_camera_frontcenter_000100491.png', '/content/drive/MyDrive/camera_lidar_semantic2/camera_lidar_semantic/20181204_191844/camera/cam_front_center/20181204191844_camera_frontcenter_000022332.png', '/content/drive/MyDrive/camera_lidar_semantic2/camera_lidar_semantic/20181204_170238/camera/cam_front_center/20181204170238_camera_frontcenter_000100510.png', '/content/drive/MyDrive/camera_lidar_semantic2/camera_lidar_semantic/20181108_091945/camera/cam_front_center/20181108091945_camera_frontcenter_000032219.png', '/content/drive/MyDrive/camera_lidar_semantic2/camera_lidar_semantic/20181108_091945/camera/cam_front_center/20181108091945_camera_frontcenter_000084971.png', '/content/drive/MyDrive/camera_lidar_semantic2/camera_lidar_semantic/20181108_091945/camera/cam_front_center/20181108091945_camera_frontcenter_000010882.png', '/content/drive/MyDrive/camera_lidar_semantic2/camera_lidar_semantic/20181204_154421/camera/cam_front_center/20181204154421_camera_frontcenter_000068250.png', '/content/drive/MyDrive/camera_lidar_semantic2/camera_lidar_semantic/20181108_091945/camera/cam_front_center/20181108091945_camera_frontcenter_000051558.png', '/content/drive/MyDrive/camera_lidar_semantic2/camera_lidar_semantic/20181204_170238/camera/cam_front_center/20181204170238_camera_frontcenter_000070234.png', '/content/drive/MyDrive/camera_lidar_semantic2/camera_lidar_semantic/20181108_091945/camera/cam_front_center/20181108091945_camera_frontcenter_000004227.png', '/content/drive/MyDrive/camera_lidar_semantic2/camera_lidar_semantic/20181204_154421/camera/cam_front_center/20181204154421_camera_frontcenter_000111104.png', '/content/drive/MyDrive/camera_lidar_semantic2/camera_lidar_semantic/20181204_170238/camera/cam_front_center/20181204170238_camera_frontcenter_000054273.png', '/content/drive/MyDrive/camera_lidar_semantic2/camera_lidar_semantic/20181204_170238/camera/cam_front_center/20181204170238_camera_frontcenter_000105846.png', '/content/drive/MyDrive/camera_lidar_semantic2/camera_lidar_semantic/20181108_091945/camera/cam_front_center/20181108091945_camera_frontcenter_000022898.png', '/content/drive/MyDrive/camera_lidar_semantic2/camera_lidar_semantic/20181204_191844/camera/cam_front_center/20181204191844_camera_frontcenter_000019791.png', '/content/drive/MyDrive/camera_lidar_semantic2/camera_lidar_semantic/20181108_091945/camera/cam_front_center/20181108091945_camera_frontcenter_000032206.png', '/content/drive/MyDrive/camera_lidar_semantic2/camera_lidar_semantic/20180807_145028/camera/cam_front_center/20180807145028_camera_frontcenter_000043562.png', '/content/drive/MyDrive/camera_lidar_semantic2/camera_lidar_semantic/20181204_191844/camera/cam_front_center/20181204191844_camera_frontcenter_000010178.png', '/content/drive/MyDrive/camera_lidar_semantic2/camera_lidar_semantic/20181204_154421/camera/cam_front_center/20181204154421_camera_frontcenter_000012203.png', '/content/drive/MyDrive/camera_lidar_semantic2/camera_lidar_semantic/20181204_191844/camera/cam_front_center/20181204191844_camera_frontcenter_000018076.png', '/content/drive/MyDrive/camera_lidar_semantic2/camera_lidar_semantic/20181204_154421/camera/cam_front_center/20181204154421_camera_frontcenter_000086828.png', '/content/drive/MyDrive/camera_lidar_semantic2/camera_lidar_semantic/20180807_145028/camera/cam_front_center/20180807145028_camera_frontcenter_000021698.png', '/content/drive/MyDrive/camera_lidar_semantic2/camera_lidar_semantic/20181108_091945/camera/cam_front_center/20181108091945_camera_frontcenter_000005868.png', '/content/drive/MyDrive/camera_lidar_semantic2/camera_lidar_semantic/20181204_154421/camera/cam_front_center/20181204154421_camera_frontcenter_000079189.png', '/content/drive/MyDrive/camera_lidar_semantic2/camera_lidar_semantic/20181108_091945/camera/cam_front_center/20181108091945_camera_frontcenter_000082590.png', '/content/drive/MyDrive/camera_lidar_semantic2/camera_lidar_semantic/20181108_091945/camera/cam_front_center/20181108091945_camera_frontcenter_000007609.png', '/content/drive/MyDrive/camera_lidar_semantic2/camera_lidar_semantic/20181108_091945/camera/cam_front_center/20181108091945_camera_frontcenter_000076234.png', '/content/drive/MyDrive/camera_lidar_semantic2/camera_lidar_semantic/20181204_170238/camera/cam_front_center/20181204170238_camera_frontcenter_000047311.png', '/content/drive/MyDrive/camera_lidar_semantic2/camera_lidar_semantic/20181204_191844/camera/cam_front_center/20181204191844_camera_frontcenter_000017946.png', '/content/drive/MyDrive/camera_lidar_semantic2/camera_lidar_semantic/20181204_170238/camera/cam_front_center/20181204170238_camera_frontcenter_000074936.png', '/content/drive/MyDrive/camera_lidar_semantic2/camera_lidar_semantic/20181204_191844/camera/cam_front_center/20181204191844_camera_frontcenter_000013146.png', '/content/drive/MyDrive/camera_lidar_semantic2/camera_lidar_semantic/20181204_191844/camera/cam_front_center/20181204191844_camera_frontcenter_000017374.png', '/content/drive/MyDrive/camera_lidar_semantic2/camera_lidar_semantic/20181204_191844/camera/cam_front_center/20181204191844_camera_frontcenter_000013385.png', '/content/drive/MyDrive/camera_lidar_semantic2/camera_lidar_semantic/20180807_145028/camera/cam_front_center/20180807145028_camera_frontcenter_000060939.png', '/content/drive/MyDrive/camera_lidar_semantic2/camera_lidar_semantic/20181204_154421/camera/cam_front_center/20181204154421_camera_frontcenter_000046181.png', '/content/drive/MyDrive/camera_lidar_semantic2/camera_lidar_semantic/20181204_170238/camera/cam_front_center/20181204170238_camera_frontcenter_000052718.png', '/content/drive/MyDrive/camera_lidar_semantic2/camera_lidar_semantic/20180807_145028/camera/cam_front_center/20180807145028_camera_frontcenter_000032578.png', '/content/drive/MyDrive/camera_lidar_semantic2/camera_lidar_semantic/20180807_145028/camera/cam_front_center/20180807145028_camera_frontcenter_000062905.png', '/content/drive/MyDrive/camera_lidar_semantic2/camera_lidar_semantic/20181204_170238/camera/cam_front_center/20181204170238_camera_frontcenter_000041554.png', '/content/drive/MyDrive/camera_lidar_semantic2/camera_lidar_semantic/20181204_154421/camera/cam_front_center/20181204154421_camera_frontcenter_000037531.png', '/content/drive/MyDrive/camera_lidar_semantic2/camera_lidar_semantic/20181204_170238/camera/cam_front_center/20181204170238_camera_frontcenter_000112998.png', '/content/drive/MyDrive/camera_lidar_semantic2/camera_lidar_semantic/20181204_191844/camera/cam_front_center/20181204191844_camera_frontcenter_000014808.png', '/content/drive/MyDrive/camera_lidar_semantic2/camera_lidar_semantic/20180807_145028/camera/cam_front_center/20180807145028_camera_frontcenter_000015177.png', '/content/drive/MyDrive/camera_lidar_semantic2/camera_lidar_semantic/20181204_191844/camera/cam_front_center/20181204191844_camera_frontcenter_000022001.png', '/content/drive/MyDrive/camera_lidar_semantic2/camera_lidar_semantic/20181204_154421/camera/cam_front_center/20181204154421_camera_frontcenter_000038428.png', '/content/drive/MyDrive/camera_lidar_semantic2/camera_lidar_semantic/20181204_191844/camera/cam_front_center/20181204191844_camera_frontcenter_000015685.png', '/content/drive/MyDrive/camera_lidar_semantic2/camera_lidar_semantic/20181108_091945/camera/cam_front_center/20181108091945_camera_frontcenter_000074609.png', '/content/drive/MyDrive/camera_lidar_semantic2/camera_lidar_semantic/20181204_154421/camera/cam_front_center/20181204154421_camera_frontcenter_000094691.png', '/content/drive/MyDrive/camera_lidar_semantic2/camera_lidar_semantic/20180807_145028/camera/cam_front_center/20180807145028_camera_frontcenter_000057841.png', '/content/drive/MyDrive/camera_lidar_semantic2/camera_lidar_semantic/20180807_145028/camera/cam_front_center/20180807145028_camera_frontcenter_000064305.png', '/content/drive/MyDrive/camera_lidar_semantic2/camera_lidar_semantic/20181108_091945/camera/cam_front_center/20181108091945_camera_frontcenter_000077846.png', '/content/drive/MyDrive/camera_lidar_semantic2/camera_lidar_semantic/20180807_145028/camera/cam_front_center/20180807145028_camera_frontcenter_000002489.png', '/content/drive/MyDrive/camera_lidar_semantic2/camera_lidar_semantic/20181204_191844/camera/cam_front_center/20181204191844_camera_frontcenter_000014788.png', '/content/drive/MyDrive/camera_lidar_semantic2/camera_lidar_semantic/20181204_154421/camera/cam_front_center/20181204154421_camera_frontcenter_000092187.png', '/content/drive/MyDrive/camera_lidar_semantic2/camera_lidar_semantic/20180807_145028/camera/cam_front_center/20180807145028_camera_frontcenter_000034473.png', '/content/drive/MyDrive/camera_lidar_semantic2/camera_lidar_semantic/20180807_145028/camera/cam_front_center/20180807145028_camera_frontcenter_000022618.png', '/content/drive/MyDrive/camera_lidar_semantic2/camera_lidar_semantic/20181108_091945/camera/cam_front_center/20181108091945_camera_frontcenter_000015873.png', '/content/drive/MyDrive/camera_lidar_semantic2/camera_lidar_semantic/20181204_191844/camera/cam_front_center/20181204191844_camera_frontcenter_000018149.png', '/content/drive/MyDrive/camera_lidar_semantic2/camera_lidar_semantic/20180807_145028/camera/cam_front_center/20180807145028_camera_frontcenter_000059531.png', '/content/drive/MyDrive/camera_lidar_semantic2/camera_lidar_semantic/20181108_091945/camera/cam_front_center/20181108091945_camera_frontcenter_000007495.png', '/content/drive/MyDrive/camera_lidar_semantic2/camera_lidar_semantic/20181204_170238/camera/cam_front_center/20181204170238_camera_frontcenter_000114623.png', '/content/drive/MyDrive/camera_lidar_semantic2/camera_lidar_semantic/20181108_091945/camera/cam_front_center/20181108091945_camera_frontcenter_000026355.png', '/content/drive/MyDrive/camera_lidar_semantic2/camera_lidar_semantic/20181204_154421/camera/cam_front_center/20181204154421_camera_frontcenter_000011405.png', '/content/drive/MyDrive/camera_lidar_semantic2/camera_lidar_semantic/20181108_091945/camera/cam_front_center/20181108091945_camera_frontcenter_000070045.png', '/content/drive/MyDrive/camera_lidar_semantic2/camera_lidar_semantic/20181108_091945/camera/cam_front_center/20181108091945_camera_frontcenter_000041935.png', '/content/drive/MyDrive/camera_lidar_semantic2/camera_lidar_semantic/20181204_170238/camera/cam_front_center/20181204170238_camera_frontcenter_000069898.png', '/content/drive/MyDrive/camera_lidar_semantic2/camera_lidar_semantic/20181108_091945/camera/cam_front_center/20181108091945_camera_frontcenter_000063284.png', '/content/drive/MyDrive/camera_lidar_semantic2/camera_lidar_semantic/20181204_170238/camera/cam_front_center/20181204170238_camera_frontcenter_000085097.png', '/content/drive/MyDrive/camera_lidar_semantic2/camera_lidar_semantic/20181108_091945/camera/cam_front_center/20181108091945_camera_frontcenter_000019301.png', '/content/drive/MyDrive/camera_lidar_semantic2/camera_lidar_semantic/20181204_170238/camera/cam_front_center/20181204170238_camera_frontcenter_000103593.png', '/content/drive/MyDrive/camera_lidar_semantic2/camera_lidar_semantic/20180807_145028/camera/cam_front_center/20180807145028_camera_frontcenter_000013502.png', '/content/drive/MyDrive/camera_lidar_semantic2/camera_lidar_semantic/20181204_191844/camera/cam_front_center/20181204191844_camera_frontcenter_000022827.png', '/content/drive/MyDrive/camera_lidar_semantic2/camera_lidar_semantic/20181108_091945/camera/cam_front_center/20181108091945_camera_frontcenter_000036550.png', '/content/drive/MyDrive/camera_lidar_semantic2/camera_lidar_semantic/20180807_145028/camera/cam_front_center/20180807145028_camera_frontcenter_000023945.png', '/content/drive/MyDrive/camera_lidar_semantic2/camera_lidar_semantic/20181108_091945/camera/cam_front_center/20181108091945_camera_frontcenter_000058597.png', '/content/drive/MyDrive/camera_lidar_semantic2/camera_lidar_semantic/20181108_091945/camera/cam_front_center/20181108091945_camera_frontcenter_000081392.png', '/content/drive/MyDrive/camera_lidar_semantic2/camera_lidar_semantic/20181108_091945/camera/cam_front_center/20181108091945_camera_frontcenter_000088219.png', '/content/drive/MyDrive/camera_lidar_semantic2/camera_lidar_semantic/20181108_091945/camera/cam_front_center/20181108091945_camera_frontcenter_000005226.png', '/content/drive/MyDrive/camera_lidar_semantic2/camera_lidar_semantic/20181204_170238/camera/cam_front_center/20181204170238_camera_frontcenter_000032287.png', '/content/drive/MyDrive/camera_lidar_semantic2/camera_lidar_semantic/20181204_170238/camera/cam_front_center/20181204170238_camera_frontcenter_000072736.png', '/content/drive/MyDrive/camera_lidar_semantic2/camera_lidar_semantic/20181204_191844/camera/cam_front_center/20181204191844_camera_frontcenter_000018485.png', '/content/drive/MyDrive/camera_lidar_semantic2/camera_lidar_semantic/20181204_170238/camera/cam_front_center/20181204170238_camera_frontcenter_000100993.png', '/content/drive/MyDrive/camera_lidar_semantic2/camera_lidar_semantic/20181204_170238/camera/cam_front_center/20181204170238_camera_frontcenter_000032651.png', '/content/drive/MyDrive/camera_lidar_semantic2/camera_lidar_semantic/20181204_191844/camera/cam_front_center/20181204191844_camera_frontcenter_000019218.png', '/content/drive/MyDrive/camera_lidar_semantic2/camera_lidar_semantic/20181204_170238/camera/cam_front_center/20181204170238_camera_frontcenter_000119817.png', '/content/drive/MyDrive/camera_lidar_semantic2/camera_lidar_semantic/20181204_154421/camera/cam_front_center/20181204154421_camera_frontcenter_000087472.png', '/content/drive/MyDrive/camera_lidar_semantic2/camera_lidar_semantic/20181108_091945/camera/cam_front_center/20181108091945_camera_frontcenter_000050719.png', '/content/drive/MyDrive/camera_lidar_semantic2/camera_lidar_semantic/20181204_154421/camera/cam_front_center/20181204154421_camera_frontcenter_000116951.png', '/content/drive/MyDrive/camera_lidar_semantic2/camera_lidar_semantic/20181204_170238/camera/cam_front_center/20181204170238_camera_frontcenter_000085445.png', '/content/drive/MyDrive/camera_lidar_semantic2/camera_lidar_semantic/20181204_170238/camera/cam_front_center/20181204170238_camera_frontcenter_000082435.png', '/content/drive/MyDrive/camera_lidar_semantic2/camera_lidar_semantic/20181108_091945/camera/cam_front_center/20181108091945_camera_frontcenter_000028049.png', '/content/drive/MyDrive/camera_lidar_semantic2/camera_lidar_semantic/20180807_145028/camera/cam_front_center/20180807145028_camera_frontcenter_000043533.png', '/content/drive/MyDrive/camera_lidar_semantic2/camera_lidar_semantic/20181108_091945/camera/cam_front_center/20181108091945_camera_frontcenter_000007100.png', '/content/drive/MyDrive/camera_lidar_semantic2/camera_lidar_semantic/20181108_091945/camera/cam_front_center/20181108091945_camera_frontcenter_000083772.png', '/content/drive/MyDrive/camera_lidar_semantic2/camera_lidar_semantic/20181108_091945/camera/cam_front_center/20181108091945_camera_frontcenter_000045203.png', '/content/drive/MyDrive/camera_lidar_semantic2/camera_lidar_semantic/20181108_091945/camera/cam_front_center/20181108091945_camera_frontcenter_000027167.png', '/content/drive/MyDrive/camera_lidar_semantic2/camera_lidar_semantic/20181204_191844/camera/cam_front_center/20181204191844_camera_frontcenter_000014456.png', '/content/drive/MyDrive/camera_lidar_semantic2/camera_lidar_semantic/20181204_170238/camera/cam_front_center/20181204170238_camera_frontcenter_000079651.png', '/content/drive/MyDrive/camera_lidar_semantic2/camera_lidar_semantic/20180807_145028/camera/cam_front_center/20180807145028_camera_frontcenter_000009603.png', '/content/drive/MyDrive/camera_lidar_semantic2/camera_lidar_semantic/20181204_191844/camera/cam_front_center/20181204191844_camera_frontcenter_000017763.png', '/content/drive/MyDrive/camera_lidar_semantic2/camera_lidar_semantic/20181204_170238/camera/cam_front_center/20181204170238_camera_frontcenter_000127341.png', '/content/drive/MyDrive/camera_lidar_semantic2/camera_lidar_semantic/20181108_091945/camera/cam_front_center/20181108091945_camera_frontcenter_000037868.png', '/content/drive/MyDrive/camera_lidar_semantic2/camera_lidar_semantic/20181108_091945/camera/cam_front_center/20181108091945_camera_frontcenter_000060094.png', '/content/drive/MyDrive/camera_lidar_semantic2/camera_lidar_semantic/20181204_170238/camera/cam_front_center/20181204170238_camera_frontcenter_000126726.png', '/content/drive/MyDrive/camera_lidar_semantic2/camera_lidar_semantic/20180807_145028/camera/cam_front_center/20180807145028_camera_frontcenter_000040432.png', '/content/drive/MyDrive/camera_lidar_semantic2/camera_lidar_semantic/20181204_191844/camera/cam_front_center/20181204191844_camera_frontcenter_000019579.png', '/content/drive/MyDrive/camera_lidar_semantic2/camera_lidar_semantic/20181204_191844/camera/cam_front_center/20181204191844_camera_frontcenter_000012218.png', '/content/drive/MyDrive/camera_lidar_semantic2/camera_lidar_semantic/20181204_154421/camera/cam_front_center/20181204154421_camera_frontcenter_000011730.png', '/content/drive/MyDrive/camera_lidar_semantic2/camera_lidar_semantic/20181204_154421/camera/cam_front_center/20181204154421_camera_frontcenter_000110667.png', '/content/drive/MyDrive/camera_lidar_semantic2/camera_lidar_semantic/20181204_154421/camera/cam_front_center/20181204154421_camera_frontcenter_000087546.png', '/content/drive/MyDrive/camera_lidar_semantic2/camera_lidar_semantic/20180807_145028/camera/cam_front_center/20180807145028_camera_frontcenter_000036370.png', '/content/drive/MyDrive/camera_lidar_semantic2/camera_lidar_semantic/20181108_091945/camera/cam_front_center/20181108091945_camera_frontcenter_000017385.png', '/content/drive/MyDrive/camera_lidar_semantic2/camera_lidar_semantic/20181204_191844/camera/cam_front_center/20181204191844_camera_frontcenter_000012102.png', '/content/drive/MyDrive/camera_lidar_semantic2/camera_lidar_semantic/20181204_191844/camera/cam_front_center/20181204191844_camera_frontcenter_000014424.png', '/content/drive/MyDrive/camera_lidar_semantic2/camera_lidar_semantic/20181108_091945/camera/cam_front_center/20181108091945_camera_frontcenter_000055814.png', '/content/drive/MyDrive/camera_lidar_semantic2/camera_lidar_semantic/20181204_170238/camera/cam_front_center/20181204170238_camera_frontcenter_000105573.png', '/content/drive/MyDrive/camera_lidar_semantic2/camera_lidar_semantic/20181108_091945/camera/cam_front_center/20181108091945_camera_frontcenter_000014091.png', '/content/drive/MyDrive/camera_lidar_semantic2/camera_lidar_semantic/20181204_191844/camera/cam_front_center/20181204191844_camera_frontcenter_000012173.png', '/content/drive/MyDrive/camera_lidar_semantic2/camera_lidar_semantic/20181108_091945/camera/cam_front_center/20181108091945_camera_frontcenter_000064011.png', '/content/drive/MyDrive/camera_lidar_semantic2/camera_lidar_semantic/20181108_091945/camera/cam_front_center/20181108091945_camera_frontcenter_000074242.png', '/content/drive/MyDrive/camera_lidar_semantic2/camera_lidar_semantic/20181204_191844/camera/cam_front_center/20181204191844_camera_frontcenter_000010678.png', '/content/drive/MyDrive/camera_lidar_semantic2/camera_lidar_semantic/20181204_191844/camera/cam_front_center/20181204191844_camera_frontcenter_000008900.png', '/content/drive/MyDrive/camera_lidar_semantic2/camera_lidar_semantic/20181204_191844/camera/cam_front_center/20181204191844_camera_frontcenter_000012400.png', '/content/drive/MyDrive/camera_lidar_semantic2/camera_lidar_semantic/20181204_170238/camera/cam_front_center/20181204170238_camera_frontcenter_000078131.png', '/content/drive/MyDrive/camera_lidar_semantic2/camera_lidar_semantic/20181204_170238/camera/cam_front_center/20181204170238_camera_frontcenter_000047411.png', '/content/drive/MyDrive/camera_lidar_semantic2/camera_lidar_semantic/20181108_091945/camera/cam_front_center/20181108091945_camera_frontcenter_000032070.png', '/content/drive/MyDrive/camera_lidar_semantic2/camera_lidar_semantic/20180807_145028/camera/cam_front_center/20180807145028_camera_frontcenter_000067646.png', '/content/drive/MyDrive/camera_lidar_semantic2/camera_lidar_semantic/20180807_145028/camera/cam_front_center/20180807145028_camera_frontcenter_000040941.png', '/content/drive/MyDrive/camera_lidar_semantic2/camera_lidar_semantic/20181204_191844/camera/cam_front_center/20181204191844_camera_frontcenter_000012054.png', '/content/drive/MyDrive/camera_lidar_semantic2/camera_lidar_semantic/20181204_170238/camera/cam_front_center/20181204170238_camera_frontcenter_000034235.png', '/content/drive/MyDrive/camera_lidar_semantic2/camera_lidar_semantic/20181204_170238/camera/cam_front_center/20181204170238_camera_frontcenter_000119993.png', '/content/drive/MyDrive/camera_lidar_semantic2/camera_lidar_semantic/20181204_154421/camera/cam_front_center/20181204154421_camera_frontcenter_000066568.png', '/content/drive/MyDrive/camera_lidar_semantic2/camera_lidar_semantic/20181204_170238/camera/cam_front_center/20181204170238_camera_frontcenter_000102544.png', '/content/drive/MyDrive/camera_lidar_semantic2/camera_lidar_semantic/20181108_091945/camera/cam_front_center/20181108091945_camera_frontcenter_000062214.png', '/content/drive/MyDrive/camera_lidar_semantic2/camera_lidar_semantic/20181108_091945/camera/cam_front_center/20181108091945_camera_frontcenter_000018908.png', '/content/drive/MyDrive/camera_lidar_semantic2/camera_lidar_semantic/20181108_091945/camera/cam_front_center/20181108091945_camera_frontcenter_000041061.png', '/content/drive/MyDrive/camera_lidar_semantic2/camera_lidar_semantic/20181108_091945/camera/cam_front_center/20181108091945_camera_frontcenter_000025972.png', '/content/drive/MyDrive/camera_lidar_semantic2/camera_lidar_semantic/20181204_191844/camera/cam_front_center/20181204191844_camera_frontcenter_000011823.png', '/content/drive/MyDrive/camera_lidar_semantic2/camera_lidar_semantic/20181204_154421/camera/cam_front_center/20181204154421_camera_frontcenter_000013947.png', '/content/drive/MyDrive/camera_lidar_semantic2/camera_lidar_semantic/20181204_191844/camera/cam_front_center/20181204191844_camera_frontcenter_000011603.png', '/content/drive/MyDrive/camera_lidar_semantic2/camera_lidar_semantic/20181108_091945/camera/cam_front_center/20181108091945_camera_frontcenter_000085303.png', '/content/drive/MyDrive/camera_lidar_semantic2/camera_lidar_semantic/20181108_091945/camera/cam_front_center/20181108091945_camera_frontcenter_000014137.png', '/content/drive/MyDrive/camera_lidar_semantic2/camera_lidar_semantic/20181204_191844/camera/cam_front_center/20181204191844_camera_frontcenter_000022815.png', '/content/drive/MyDrive/camera_lidar_semantic2/camera_lidar_semantic/20181108_091945/camera/cam_front_center/20181108091945_camera_frontcenter_000079803.png', '/content/drive/MyDrive/camera_lidar_semantic2/camera_lidar_semantic/20181108_091945/camera/cam_front_center/20181108091945_camera_frontcenter_000063243.png', '/content/drive/MyDrive/camera_lidar_semantic2/camera_lidar_semantic/20181204_191844/camera/cam_front_center/20181204191844_camera_frontcenter_000010016.png', '/content/drive/MyDrive/camera_lidar_semantic2/camera_lidar_semantic/20181204_191844/camera/cam_front_center/20181204191844_camera_frontcenter_000018040.png', '/content/drive/MyDrive/camera_lidar_semantic2/camera_lidar_semantic/20181204_191844/camera/cam_front_center/20181204191844_camera_frontcenter_000019393.png', '/content/drive/MyDrive/camera_lidar_semantic2/camera_lidar_semantic/20181204_154421/camera/cam_front_center/20181204154421_camera_frontcenter_000057314.png', '/content/drive/MyDrive/camera_lidar_semantic2/camera_lidar_semantic/20181204_154421/camera/cam_front_center/20181204154421_camera_frontcenter_000087094.png', '/content/drive/MyDrive/camera_lidar_semantic2/camera_lidar_semantic/20180807_145028/camera/cam_front_center/20180807145028_camera_frontcenter_000015108.png', '/content/drive/MyDrive/camera_lidar_semantic2/camera_lidar_semantic/20180807_145028/camera/cam_front_center/20180807145028_camera_frontcenter_000055902.png', '/content/drive/MyDrive/camera_lidar_semantic2/camera_lidar_semantic/20181204_191844/camera/cam_front_center/20181204191844_camera_frontcenter_000019726.png', '/content/drive/MyDrive/camera_lidar_semantic2/camera_lidar_semantic/20181108_091945/camera/cam_front_center/20181108091945_camera_frontcenter_000007404.png', '/content/drive/MyDrive/camera_lidar_semantic2/camera_lidar_semantic/20181108_091945/camera/cam_front_center/20181108091945_camera_frontcenter_000021859.png', '/content/drive/MyDrive/camera_lidar_semantic2/camera_lidar_semantic/20181204_170238/camera/cam_front_center/20181204170238_camera_frontcenter_000115756.png', '/content/drive/MyDrive/camera_lidar_semantic2/camera_lidar_semantic/20181204_154421/camera/cam_front_center/20181204154421_camera_frontcenter_000068802.png', '/content/drive/MyDrive/camera_lidar_semantic2/camera_lidar_semantic/20181204_191844/camera/cam_front_center/20181204191844_camera_frontcenter_000011529.png', '/content/drive/MyDrive/camera_lidar_semantic2/camera_lidar_semantic/20181204_154421/camera/cam_front_center/20181204154421_camera_frontcenter_000015019.png', '/content/drive/MyDrive/camera_lidar_semantic2/camera_lidar_semantic/20181204_191844/camera/cam_front_center/20181204191844_camera_frontcenter_000012111.png', '/content/drive/MyDrive/camera_lidar_semantic2/camera_lidar_semantic/20181204_170238/camera/cam_front_center/20181204170238_camera_frontcenter_000039908.png', '/content/drive/MyDrive/camera_lidar_semantic2/camera_lidar_semantic/20181108_091945/camera/cam_front_center/20181108091945_camera_frontcenter_000052367.png', '/content/drive/MyDrive/camera_lidar_semantic2/camera_lidar_semantic/20180807_145028/camera/cam_front_center/20180807145028_camera_frontcenter_000005313.png', '/content/drive/MyDrive/camera_lidar_semantic2/camera_lidar_semantic/20181108_091945/camera/cam_front_center/20181108091945_camera_frontcenter_000019084.png', '/content/drive/MyDrive/camera_lidar_semantic2/camera_lidar_semantic/20181204_170238/camera/cam_front_center/20181204170238_camera_frontcenter_000089544.png', '/content/drive/MyDrive/camera_lidar_semantic2/camera_lidar_semantic/20181204_191844/camera/cam_front_center/20181204191844_camera_frontcenter_000014855.png', '/content/drive/MyDrive/camera_lidar_semantic2/camera_lidar_semantic/20181108_091945/camera/cam_front_center/20181108091945_camera_frontcenter_000004725.png', '/content/drive/MyDrive/camera_lidar_semantic2/camera_lidar_semantic/20181108_091945/camera/cam_front_center/20181108091945_camera_frontcenter_000066512.png', '/content/drive/MyDrive/camera_lidar_semantic2/camera_lidar_semantic/20181108_091945/camera/cam_front_center/20181108091945_camera_frontcenter_000006849.png', '/content/drive/MyDrive/camera_lidar_semantic2/camera_lidar_semantic/20181204_170238/camera/cam_front_center/20181204170238_camera_frontcenter_000014724.png', '/content/drive/MyDrive/camera_lidar_semantic2/camera_lidar_semantic/20181204_191844/camera/cam_front_center/20181204191844_camera_frontcenter_000016685.png', '/content/drive/MyDrive/camera_lidar_semantic2/camera_lidar_semantic/20181108_091945/camera/cam_front_center/20181108091945_camera_frontcenter_000087695.png', '/content/drive/MyDrive/camera_lidar_semantic2/camera_lidar_semantic/20181204_191844/camera/cam_front_center/20181204191844_camera_frontcenter_000023175.png', '/content/drive/MyDrive/camera_lidar_semantic2/camera_lidar_semantic/20181108_091945/camera/cam_front_center/20181108091945_camera_frontcenter_000008214.png', '/content/drive/MyDrive/camera_lidar_semantic2/camera_lidar_semantic/20181204_170238/camera/cam_front_center/20181204170238_camera_frontcenter_000021408.png', '/content/drive/MyDrive/camera_lidar_semantic2/camera_lidar_semantic/20181108_091945/camera/cam_front_center/20181108091945_camera_frontcenter_000020911.png', '/content/drive/MyDrive/camera_lidar_semantic2/camera_lidar_semantic/20181108_091945/camera/cam_front_center/20181108091945_camera_frontcenter_000026120.png', '/content/drive/MyDrive/camera_lidar_semantic2/camera_lidar_semantic/20181204_191844/camera/cam_front_center/20181204191844_camera_frontcenter_000020331.png', '/content/drive/MyDrive/camera_lidar_semantic2/camera_lidar_semantic/20181204_191844/camera/cam_front_center/20181204191844_camera_frontcenter_000010420.png', '/content/drive/MyDrive/camera_lidar_semantic2/camera_lidar_semantic/20181204_191844/camera/cam_front_center/20181204191844_camera_frontcenter_000017110.png', '/content/drive/MyDrive/camera_lidar_semantic2/camera_lidar_semantic/20181204_170238/camera/cam_front_center/20181204170238_camera_frontcenter_000129804.png', '/content/drive/MyDrive/camera_lidar_semantic2/camera_lidar_semantic/20181204_170238/camera/cam_front_center/20181204170238_camera_frontcenter_000099480.png', '/content/drive/MyDrive/camera_lidar_semantic2/camera_lidar_semantic/20181204_170238/camera/cam_front_center/20181204170238_camera_frontcenter_000120273.png', '/content/drive/MyDrive/camera_lidar_semantic2/camera_lidar_semantic/20181108_091945/camera/cam_front_center/20181108091945_camera_frontcenter_000088900.png', '/content/drive/MyDrive/camera_lidar_semantic2/camera_lidar_semantic/20181204_191844/camera/cam_front_center/20181204191844_camera_frontcenter_000013601.png', '/content/drive/MyDrive/camera_lidar_semantic2/camera_lidar_semantic/20180807_145028/camera/cam_front_center/20180807145028_camera_frontcenter_000005200.png', '/content/drive/MyDrive/camera_lidar_semantic2/camera_lidar_semantic/20181204_191844/camera/cam_front_center/20181204191844_camera_frontcenter_000012200.png', '/content/drive/MyDrive/camera_lidar_semantic2/camera_lidar_semantic/20181204_191844/camera/cam_front_center/20181204191844_camera_frontcenter_000013003.png', '/content/drive/MyDrive/camera_lidar_semantic2/camera_lidar_semantic/20181204_170238/camera/cam_front_center/20181204170238_camera_frontcenter_000082726.png', '/content/drive/MyDrive/camera_lidar_semantic2/camera_lidar_semantic/20181108_091945/camera/cam_front_center/20181108091945_camera_frontcenter_000016558.png', '/content/drive/MyDrive/camera_lidar_semantic2/camera_lidar_semantic/20181108_091945/camera/cam_front_center/20181108091945_camera_frontcenter_000067819.png', '/content/drive/MyDrive/camera_lidar_semantic2/camera_lidar_semantic/20181204_191844/camera/cam_front_center/20181204191844_camera_frontcenter_000011218.png', '/content/drive/MyDrive/camera_lidar_semantic2/camera_lidar_semantic/20181108_091945/camera/cam_front_center/20181108091945_camera_frontcenter_000028952.png', '/content/drive/MyDrive/camera_lidar_semantic2/camera_lidar_semantic/20181204_191844/camera/cam_front_center/20181204191844_camera_frontcenter_000016952.png', '/content/drive/MyDrive/camera_lidar_semantic2/camera_lidar_semantic/20181204_170238/camera/cam_front_center/20181204170238_camera_frontcenter_000016898.png', '/content/drive/MyDrive/camera_lidar_semantic2/camera_lidar_semantic/20181204_154421/camera/cam_front_center/20181204154421_camera_frontcenter_000089696.png', '/content/drive/MyDrive/camera_lidar_semantic2/camera_lidar_semantic/20181204_170238/camera/cam_front_center/20181204170238_camera_frontcenter_000021677.png', '/content/drive/MyDrive/camera_lidar_semantic2/camera_lidar_semantic/20181108_091945/camera/cam_front_center/20181108091945_camera_frontcenter_000063458.png', '/content/drive/MyDrive/camera_lidar_semantic2/camera_lidar_semantic/20181204_191844/camera/cam_front_center/20181204191844_camera_frontcenter_000010528.png', '/content/drive/MyDrive/camera_lidar_semantic2/camera_lidar_semantic/20181204_154421/camera/cam_front_center/20181204154421_camera_frontcenter_000102659.png', '/content/drive/MyDrive/camera_lidar_semantic2/camera_lidar_semantic/20181204_191844/camera/cam_front_center/20181204191844_camera_frontcenter_000015231.png', '/content/drive/MyDrive/camera_lidar_semantic2/camera_lidar_semantic/20181108_091945/camera/cam_front_center/20181108091945_camera_frontcenter_000012477.png', '/content/drive/MyDrive/camera_lidar_semantic2/camera_lidar_semantic/20181204_170238/camera/cam_front_center/20181204170238_camera_frontcenter_000129942.png', '/content/drive/MyDrive/camera_lidar_semantic2/camera_lidar_semantic/20181204_191844/camera/cam_front_center/20181204191844_camera_frontcenter_000011778.png', '/content/drive/MyDrive/camera_lidar_semantic2/camera_lidar_semantic/20181108_091945/camera/cam_front_center/20181108091945_camera_frontcenter_000014640.png', '/content/drive/MyDrive/camera_lidar_semantic2/camera_lidar_semantic/20181204_170238/camera/cam_front_center/20181204170238_camera_frontcenter_000119098.png', '/content/drive/MyDrive/camera_lidar_semantic2/camera_lidar_semantic/20181204_191844/camera/cam_front_center/20181204191844_camera_frontcenter_000012250.png', '/content/drive/MyDrive/camera_lidar_semantic2/camera_lidar_semantic/20181204_191844/camera/cam_front_center/20181204191844_camera_frontcenter_000022249.png', '/content/drive/MyDrive/camera_lidar_semantic2/camera_lidar_semantic/20181204_191844/camera/cam_front_center/20181204191844_camera_frontcenter_000010233.png', '/content/drive/MyDrive/camera_lidar_semantic2/camera_lidar_semantic/20181108_091945/camera/cam_front_center/20181108091945_camera_frontcenter_000053846.png', '/content/drive/MyDrive/camera_lidar_semantic2/camera_lidar_semantic/20181108_091945/camera/cam_front_center/20181108091945_camera_frontcenter_000010168.png', '/content/drive/MyDrive/camera_lidar_semantic2/camera_lidar_semantic/20181204_154421/camera/cam_front_center/20181204154421_camera_frontcenter_000072100.png', '/content/drive/MyDrive/camera_lidar_semantic2/camera_lidar_semantic/20181204_154421/camera/cam_front_center/20181204154421_camera_frontcenter_000115789.png', '/content/drive/MyDrive/camera_lidar_semantic2/camera_lidar_semantic/20181108_091945/camera/cam_front_center/20181108091945_camera_frontcenter_000011898.png', '/content/drive/MyDrive/camera_lidar_semantic2/camera_lidar_semantic/20181204_191844/camera/cam_front_center/20181204191844_camera_frontcenter_000010084.png', '/content/drive/MyDrive/camera_lidar_semantic2/camera_lidar_semantic/20181204_170238/camera/cam_front_center/20181204170238_camera_frontcenter_000101209.png', '/content/drive/MyDrive/camera_lidar_semantic2/camera_lidar_semantic/20180807_145028/camera/cam_front_center/20180807145028_camera_frontcenter_000010193.png', '/content/drive/MyDrive/camera_lidar_semantic2/camera_lidar_semantic/20181108_091945/camera/cam_front_center/20181108091945_camera_frontcenter_000039405.png', '/content/drive/MyDrive/camera_lidar_semantic2/camera_lidar_semantic/20181204_170238/camera/cam_front_center/20181204170238_camera_frontcenter_000077339.png', '/content/drive/MyDrive/camera_lidar_semantic2/camera_lidar_semantic/20181204_191844/camera/cam_front_center/20181204191844_camera_frontcenter_000023098.png', '/content/drive/MyDrive/camera_lidar_semantic2/camera_lidar_semantic/20181108_091945/camera/cam_front_center/20181108091945_camera_frontcenter_000079231.png', '/content/drive/MyDrive/camera_lidar_semantic2/camera_lidar_semantic/20181204_191844/camera/cam_front_center/20181204191844_camera_frontcenter_000014276.png', '/content/drive/MyDrive/camera_lidar_semantic2/camera_lidar_semantic/20181108_091945/camera/cam_front_center/20181108091945_camera_frontcenter_000008324.png', '/content/drive/MyDrive/camera_lidar_semantic2/camera_lidar_semantic/20181108_091945/camera/cam_front_center/20181108091945_camera_frontcenter_000033081.png', '/content/drive/MyDrive/camera_lidar_semantic2/camera_lidar_semantic/20180807_145028/camera/cam_front_center/20180807145028_camera_frontcenter_000031582.png', '/content/drive/MyDrive/camera_lidar_semantic2/camera_lidar_semantic/20181204_191844/camera/cam_front_center/20181204191844_camera_frontcenter_000010581.png', '/content/drive/MyDrive/camera_lidar_semantic2/camera_lidar_semantic/20181108_091945/camera/cam_front_center/20181108091945_camera_frontcenter_000005229.png', '/content/drive/MyDrive/camera_lidar_semantic2/camera_lidar_semantic/20181108_091945/camera/cam_front_center/20181108091945_camera_frontcenter_000004120.png', '/content/drive/MyDrive/camera_lidar_semantic2/camera_lidar_semantic/20181108_091945/camera/cam_front_center/20181108091945_camera_frontcenter_000063032.png', '/content/drive/MyDrive/camera_lidar_semantic2/camera_lidar_semantic/20181108_091945/camera/cam_front_center/20181108091945_camera_frontcenter_000088440.png', '/content/drive/MyDrive/camera_lidar_semantic2/camera_lidar_semantic/20180807_145028/camera/cam_front_center/20180807145028_camera_frontcenter_000063484.png', '/content/drive/MyDrive/camera_lidar_semantic2/camera_lidar_semantic/20181108_091945/camera/cam_front_center/20181108091945_camera_frontcenter_000024220.png', '/content/drive/MyDrive/camera_lidar_semantic2/camera_lidar_semantic/20181204_191844/camera/cam_front_center/20181204191844_camera_frontcenter_000021374.png', '/content/drive/MyDrive/camera_lidar_semantic2/camera_lidar_semantic/20181108_091945/camera/cam_front_center/20181108091945_camera_frontcenter_000055923.png', '/content/drive/MyDrive/camera_lidar_semantic2/camera_lidar_semantic/20181108_091945/camera/cam_front_center/20181108091945_camera_frontcenter_000023274.png', '/content/drive/MyDrive/camera_lidar_semantic2/camera_lidar_semantic/20180807_145028/camera/cam_front_center/20180807145028_camera_frontcenter_000016972.png', '/content/drive/MyDrive/camera_lidar_semantic2/camera_lidar_semantic/20181108_091945/camera/cam_front_center/20181108091945_camera_frontcenter_000041613.png', '/content/drive/MyDrive/camera_lidar_semantic2/camera_lidar_semantic/20181204_191844/camera/cam_front_center/20181204191844_camera_frontcenter_000012036.png', '/content/drive/MyDrive/camera_lidar_semantic2/camera_lidar_semantic/20181204_170238/camera/cam_front_center/20181204170238_camera_frontcenter_000014268.png', '/content/drive/MyDrive/camera_lidar_semantic2/camera_lidar_semantic/20181108_091945/camera/cam_front_center/20181108091945_camera_frontcenter_000006454.png', '/content/drive/MyDrive/camera_lidar_semantic2/camera_lidar_semantic/20181204_154421/camera/cam_front_center/20181204154421_camera_frontcenter_000100064.png', '/content/drive/MyDrive/camera_lidar_semantic2/camera_lidar_semantic/20180807_145028/camera/cam_front_center/20180807145028_camera_frontcenter_000050690.png', '/content/drive/MyDrive/camera_lidar_semantic2/camera_lidar_semantic/20181204_170238/camera/cam_front_center/20181204170238_camera_frontcenter_000072798.png', '/content/drive/MyDrive/camera_lidar_semantic2/camera_lidar_semantic/20181204_191844/camera/cam_front_center/20181204191844_camera_frontcenter_000021904.png', '/content/drive/MyDrive/camera_lidar_semantic2/camera_lidar_semantic/20181204_170238/camera/cam_front_center/20181204170238_camera_frontcenter_000024533.png', '/content/drive/MyDrive/camera_lidar_semantic2/camera_lidar_semantic/20181204_154421/camera/cam_front_center/20181204154421_camera_frontcenter_000072570.png', '/content/drive/MyDrive/camera_lidar_semantic2/camera_lidar_semantic/20181204_170238/camera/cam_front_center/20181204170238_camera_frontcenter_000092354.png', '/content/drive/MyDrive/camera_lidar_semantic2/camera_lidar_semantic/20180807_145028/camera/cam_front_center/20180807145028_camera_frontcenter_000047053.png', '/content/drive/MyDrive/camera_lidar_semantic2/camera_lidar_semantic/20181204_154421/camera/cam_front_center/20181204154421_camera_frontcenter_000037609.png', '/content/drive/MyDrive/camera_lidar_semantic2/camera_lidar_semantic/20181204_154421/camera/cam_front_center/20181204154421_camera_frontcenter_000088037.png', '/content/drive/MyDrive/camera_lidar_semantic2/camera_lidar_semantic/20181204_154421/camera/cam_front_center/20181204154421_camera_frontcenter_000091815.png', '/content/drive/MyDrive/camera_lidar_semantic2/camera_lidar_semantic/20181204_170238/camera/cam_front_center/20181204170238_camera_frontcenter_000037370.png', '/content/drive/MyDrive/camera_lidar_semantic2/camera_lidar_semantic/20181108_091945/camera/cam_front_center/20181108091945_camera_frontcenter_000025041.png', '/content/drive/MyDrive/camera_lidar_semantic2/camera_lidar_semantic/20181204_170238/camera/cam_front_center/20181204170238_camera_frontcenter_000103880.png', '/content/drive/MyDrive/camera_lidar_semantic2/camera_lidar_semantic/20181204_191844/camera/cam_front_center/20181204191844_camera_frontcenter_000015275.png', '/content/drive/MyDrive/camera_lidar_semantic2/camera_lidar_semantic/20181108_091945/camera/cam_front_center/20181108091945_camera_frontcenter_000033558.png', '/content/drive/MyDrive/camera_lidar_semantic2/camera_lidar_semantic/20181204_191844/camera/cam_front_center/20181204191844_camera_frontcenter_000012453.png', '/content/drive/MyDrive/camera_lidar_semantic2/camera_lidar_semantic/20180807_145028/camera/cam_front_center/20180807145028_camera_frontcenter_000034674.png', '/content/drive/MyDrive/camera_lidar_semantic2/camera_lidar_semantic/20181204_170238/camera/cam_front_center/20181204170238_camera_frontcenter_000070762.png', '/content/drive/MyDrive/camera_lidar_semantic2/camera_lidar_semantic/20181204_191844/camera/cam_front_center/20181204191844_camera_frontcenter_000013406.png', '/content/drive/MyDrive/camera_lidar_semantic2/camera_lidar_semantic/20181204_154421/camera/cam_front_center/20181204154421_camera_frontcenter_000026238.png', '/content/drive/MyDrive/camera_lidar_semantic2/camera_lidar_semantic/20181108_091945/camera/cam_front_center/20181108091945_camera_frontcenter_000019871.png', '/content/drive/MyDrive/camera_lidar_semantic2/camera_lidar_semantic/20181108_091945/camera/cam_front_center/20181108091945_camera_frontcenter_000028671.png', '/content/drive/MyDrive/camera_lidar_semantic2/camera_lidar_semantic/20180807_145028/camera/cam_front_center/20180807145028_camera_frontcenter_000062476.png', '/content/drive/MyDrive/camera_lidar_semantic2/camera_lidar_semantic/20181204_191844/camera/cam_front_center/20181204191844_camera_frontcenter_000011636.png', '/content/drive/MyDrive/camera_lidar_semantic2/camera_lidar_semantic/20181108_091945/camera/cam_front_center/20181108091945_camera_frontcenter_000083051.png', '/content/drive/MyDrive/camera_lidar_semantic2/camera_lidar_semantic/20181108_091945/camera/cam_front_center/20181108091945_camera_frontcenter_000060103.png', '/content/drive/MyDrive/camera_lidar_semantic2/camera_lidar_semantic/20181204_191844/camera/cam_front_center/20181204191844_camera_frontcenter_000020207.png', '/content/drive/MyDrive/camera_lidar_semantic2/camera_lidar_semantic/20181204_191844/camera/cam_front_center/20181204191844_camera_frontcenter_000011335.png', '/content/drive/MyDrive/camera_lidar_semantic2/camera_lidar_semantic/20181204_170238/camera/cam_front_center/20181204170238_camera_frontcenter_000069311.png', '/content/drive/MyDrive/camera_lidar_semantic2/camera_lidar_semantic/20181108_091945/camera/cam_front_center/20181108091945_camera_frontcenter_000012134.png', '/content/drive/MyDrive/camera_lidar_semantic2/camera_lidar_semantic/20181204_191844/camera/cam_front_center/20181204191844_camera_frontcenter_000020906.png', '/content/drive/MyDrive/camera_lidar_semantic2/camera_lidar_semantic/20181204_154421/camera/cam_front_center/20181204154421_camera_frontcenter_000041120.png', '/content/drive/MyDrive/camera_lidar_semantic2/camera_lidar_semantic/20181204_191844/camera/cam_front_center/20181204191844_camera_frontcenter_000018161.png', '/content/drive/MyDrive/camera_lidar_semantic2/camera_lidar_semantic/20181204_170238/camera/cam_front_center/20181204170238_camera_frontcenter_000124784.png', '/content/drive/MyDrive/camera_lidar_semantic2/camera_lidar_semantic/20181204_191844/camera/cam_front_center/20181204191844_camera_frontcenter_000013271.png', '/content/drive/MyDrive/camera_lidar_semantic2/camera_lidar_semantic/20181204_191844/camera/cam_front_center/20181204191844_camera_frontcenter_000019527.png', '/content/drive/MyDrive/camera_lidar_semantic2/camera_lidar_semantic/20181108_091945/camera/cam_front_center/20181108091945_camera_frontcenter_000044187.png', '/content/drive/MyDrive/camera_lidar_semantic2/camera_lidar_semantic/20181204_191844/camera/cam_front_center/20181204191844_camera_frontcenter_000012292.png', '/content/drive/MyDrive/camera_lidar_semantic2/camera_lidar_semantic/20181204_154421/camera/cam_front_center/20181204154421_camera_frontcenter_000026398.png', '/content/drive/MyDrive/camera_lidar_semantic2/camera_lidar_semantic/20181108_091945/camera/cam_front_center/20181108091945_camera_frontcenter_000027982.png', '/content/drive/MyDrive/camera_lidar_semantic2/camera_lidar_semantic/20181204_170238/camera/cam_front_center/20181204170238_camera_frontcenter_000079212.png', '/content/drive/MyDrive/camera_lidar_semantic2/camera_lidar_semantic/20181108_091945/camera/cam_front_center/20181108091945_camera_frontcenter_000015509.png', '/content/drive/MyDrive/camera_lidar_semantic2/camera_lidar_semantic/20181204_191844/camera/cam_front_center/20181204191844_camera_frontcenter_000019357.png', '/content/drive/MyDrive/camera_lidar_semantic2/camera_lidar_semantic/20181204_154421/camera/cam_front_center/20181204154421_camera_frontcenter_000092632.png', '/content/drive/MyDrive/camera_lidar_semantic2/camera_lidar_semantic/20181204_191844/camera/cam_front_center/20181204191844_camera_frontcenter_000011491.png', '/content/drive/MyDrive/camera_lidar_semantic2/camera_lidar_semantic/20181204_170238/camera/cam_front_center/20181204170238_camera_frontcenter_000062780.png', '/content/drive/MyDrive/camera_lidar_semantic2/camera_lidar_semantic/20181204_170238/camera/cam_front_center/20181204170238_camera_frontcenter_000039020.png', '/content/drive/MyDrive/camera_lidar_semantic2/camera_lidar_semantic/20181204_170238/camera/cam_front_center/20181204170238_camera_frontcenter_000034243.png', '/content/drive/MyDrive/camera_lidar_semantic2/camera_lidar_semantic/20181204_191844/camera/cam_front_center/20181204191844_camera_frontcenter_000011458.png', '/content/drive/MyDrive/camera_lidar_semantic2/camera_lidar_semantic/20181204_154421/camera/cam_front_center/20181204154421_camera_frontcenter_000022636.png', '/content/drive/MyDrive/camera_lidar_semantic2/camera_lidar_semantic/20181204_170238/camera/cam_front_center/20181204170238_camera_frontcenter_000028308.png', '/content/drive/MyDrive/camera_lidar_semantic2/camera_lidar_semantic/20181204_191844/camera/cam_front_center/20181204191844_camera_frontcenter_000019845.png', '/content/drive/MyDrive/camera_lidar_semantic2/camera_lidar_semantic/20180807_145028/camera/cam_front_center/20180807145028_camera_frontcenter_000062791.png', '/content/drive/MyDrive/camera_lidar_semantic2/camera_lidar_semantic/20181204_170238/camera/cam_front_center/20181204170238_camera_frontcenter_000103429.png', '/content/drive/MyDrive/camera_lidar_semantic2/camera_lidar_semantic/20181204_170238/camera/cam_front_center/20181204170238_camera_frontcenter_000116402.png', '/content/drive/MyDrive/camera_lidar_semantic2/camera_lidar_semantic/20181108_091945/camera/cam_front_center/20181108091945_camera_frontcenter_000015322.png', '/content/drive/MyDrive/camera_lidar_semantic2/camera_lidar_semantic/20181204_170238/camera/cam_front_center/20181204170238_camera_frontcenter_000016423.png', '/content/drive/MyDrive/camera_lidar_semantic2/camera_lidar_semantic/20181108_091945/camera/cam_front_center/20181108091945_camera_frontcenter_000007014.png', '/content/drive/MyDrive/camera_lidar_semantic2/camera_lidar_semantic/20181204_191844/camera/cam_front_center/20181204191844_camera_frontcenter_000016798.png', '/content/drive/MyDrive/camera_lidar_semantic2/camera_lidar_semantic/20181108_091945/camera/cam_front_center/20181108091945_camera_frontcenter_000027349.png', '/content/drive/MyDrive/camera_lidar_semantic2/camera_lidar_semantic/20181204_191844/camera/cam_front_center/20181204191844_camera_frontcenter_000009839.png', '/content/drive/MyDrive/camera_lidar_semantic2/camera_lidar_semantic/20180807_145028/camera/cam_front_center/20180807145028_camera_frontcenter_000054733.png', '/content/drive/MyDrive/camera_lidar_semantic2/camera_lidar_semantic/20181204_191844/camera/cam_front_center/20181204191844_camera_frontcenter_000014372.png', '/content/drive/MyDrive/camera_lidar_semantic2/camera_lidar_semantic/20181204_191844/camera/cam_front_center/20181204191844_camera_frontcenter_000013965.png', '/content/drive/MyDrive/camera_lidar_semantic2/camera_lidar_semantic/20181108_091945/camera/cam_front_center/20181108091945_camera_frontcenter_000006737.png', '/content/drive/MyDrive/camera_lidar_semantic2/camera_lidar_semantic/20181204_191844/camera/cam_front_center/20181204191844_camera_frontcenter_000021116.png', '/content/drive/MyDrive/camera_lidar_semantic2/camera_lidar_semantic/20181204_191844/camera/cam_front_center/20181204191844_camera_frontcenter_000019849.png', '/content/drive/MyDrive/camera_lidar_semantic2/camera_lidar_semantic/20181204_154421/camera/cam_front_center/20181204154421_camera_frontcenter_000100459.png', '/content/drive/MyDrive/camera_lidar_semantic2/camera_lidar_semantic/20180807_145028/camera/cam_front_center/20180807145028_camera_frontcenter_000063598.png', '/content/drive/MyDrive/camera_lidar_semantic2/camera_lidar_semantic/20181204_154421/camera/cam_front_center/20181204154421_camera_frontcenter_000036055.png', '/content/drive/MyDrive/camera_lidar_semantic2/camera_lidar_semantic/20181204_191844/camera/cam_front_center/20181204191844_camera_frontcenter_000017055.png', '/content/drive/MyDrive/camera_lidar_semantic2/camera_lidar_semantic/20181204_170238/camera/cam_front_center/20181204170238_camera_frontcenter_000060233.png', '/content/drive/MyDrive/camera_lidar_semantic2/camera_lidar_semantic/20181108_091945/camera/cam_front_center/20181108091945_camera_frontcenter_000035251.png', '/content/drive/MyDrive/camera_lidar_semantic2/camera_lidar_semantic/20181108_091945/camera/cam_front_center/20181108091945_camera_frontcenter_000020457.png', '/content/drive/MyDrive/camera_lidar_semantic2/camera_lidar_semantic/20181108_091945/camera/cam_front_center/20181108091945_camera_frontcenter_000012220.png', '/content/drive/MyDrive/camera_lidar_semantic2/camera_lidar_semantic/20180807_145028/camera/cam_front_center/20180807145028_camera_frontcenter_000011673.png', '/content/drive/MyDrive/camera_lidar_semantic2/camera_lidar_semantic/20181204_170238/camera/cam_front_center/20181204170238_camera_frontcenter_000119853.png', '/content/drive/MyDrive/camera_lidar_semantic2/camera_lidar_semantic/20181204_191844/camera/cam_front_center/20181204191844_camera_frontcenter_000012720.png', '/content/drive/MyDrive/camera_lidar_semantic2/camera_lidar_semantic/20181204_191844/camera/cam_front_center/20181204191844_camera_frontcenter_000010688.png', '/content/drive/MyDrive/camera_lidar_semantic2/camera_lidar_semantic/20180807_145028/camera/cam_front_center/20180807145028_camera_frontcenter_000049504.png', '/content/drive/MyDrive/camera_lidar_semantic2/camera_lidar_semantic/20180807_145028/camera/cam_front_center/20180807145028_camera_frontcenter_000057495.png', '/content/drive/MyDrive/camera_lidar_semantic2/camera_lidar_semantic/20181204_191844/camera/cam_front_center/20181204191844_camera_frontcenter_000008988.png', '/content/drive/MyDrive/camera_lidar_semantic2/camera_lidar_semantic/20181204_154421/camera/cam_front_center/20181204154421_camera_frontcenter_000027749.png', '/content/drive/MyDrive/camera_lidar_semantic2/camera_lidar_semantic/20181204_191844/camera/cam_front_center/20181204191844_camera_frontcenter_000009677.png', '/content/drive/MyDrive/camera_lidar_semantic2/camera_lidar_semantic/20181204_170238/camera/cam_front_center/20181204170238_camera_frontcenter_000012333.png', '/content/drive/MyDrive/camera_lidar_semantic2/camera_lidar_semantic/20181204_191844/camera/cam_front_center/20181204191844_camera_frontcenter_000012383.png', '/content/drive/MyDrive/camera_lidar_semantic2/camera_lidar_semantic/20180807_145028/camera/cam_front_center/20180807145028_camera_frontcenter_000055109.png', '/content/drive/MyDrive/camera_lidar_semantic2/camera_lidar_semantic/20181108_091945/camera/cam_front_center/20181108091945_camera_frontcenter_000021810.png', '/content/drive/MyDrive/camera_lidar_semantic2/camera_lidar_semantic/20181204_191844/camera/cam_front_center/20181204191844_camera_frontcenter_000010339.png', '/content/drive/MyDrive/camera_lidar_semantic2/camera_lidar_semantic/20181108_091945/camera/cam_front_center/20181108091945_camera_frontcenter_000043181.png', '/content/drive/MyDrive/camera_lidar_semantic2/camera_lidar_semantic/20181204_191844/camera/cam_front_center/20181204191844_camera_frontcenter_000010740.png', '/content/drive/MyDrive/camera_lidar_semantic2/camera_lidar_semantic/20181204_191844/camera/cam_front_center/20181204191844_camera_frontcenter_000020533.png', '/content/drive/MyDrive/camera_lidar_semantic2/camera_lidar_semantic/20181204_191844/camera/cam_front_center/20181204191844_camera_frontcenter_000017851.png', '/content/drive/MyDrive/camera_lidar_semantic2/camera_lidar_semantic/20181108_091945/camera/cam_front_center/20181108091945_camera_frontcenter_000064206.png', '/content/drive/MyDrive/camera_lidar_semantic2/camera_lidar_semantic/20181204_191844/camera/cam_front_center/20181204191844_camera_frontcenter_000016359.png', '/content/drive/MyDrive/camera_lidar_semantic2/camera_lidar_semantic/20180807_145028/camera/cam_front_center/20180807145028_camera_frontcenter_000034825.png', '/content/drive/MyDrive/camera_lidar_semantic2/camera_lidar_semantic/20181204_170238/camera/cam_front_center/20181204170238_camera_frontcenter_000064813.png', '/content/drive/MyDrive/camera_lidar_semantic2/camera_lidar_semantic/20181204_191844/camera/cam_front_center/20181204191844_camera_frontcenter_000012284.png', '/content/drive/MyDrive/camera_lidar_semantic2/camera_lidar_semantic/20181204_154421/camera/cam_front_center/20181204154421_camera_frontcenter_000017969.png', '/content/drive/MyDrive/camera_lidar_semantic2/camera_lidar_semantic/20180807_145028/camera/cam_front_center/20180807145028_camera_frontcenter_000042784.png', '/content/drive/MyDrive/camera_lidar_semantic2/camera_lidar_semantic/20181204_154421/camera/cam_front_center/20181204154421_camera_frontcenter_000054826.png', '/content/drive/MyDrive/camera_lidar_semantic2/camera_lidar_semantic/20181204_191844/camera/cam_front_center/20181204191844_camera_frontcenter_000013163.png', '/content/drive/MyDrive/camera_lidar_semantic2/camera_lidar_semantic/20181204_170238/camera/cam_front_center/20181204170238_camera_frontcenter_000077837.png', '/content/drive/MyDrive/camera_lidar_semantic2/camera_lidar_semantic/20181204_191844/camera/cam_front_center/20181204191844_camera_frontcenter_000015647.png', '/content/drive/MyDrive/camera_lidar_semantic2/camera_lidar_semantic/20180807_145028/camera/cam_front_center/20180807145028_camera_frontcenter_000013798.png', '/content/drive/MyDrive/camera_lidar_semantic2/camera_lidar_semantic/20181204_154421/camera/cam_front_center/20181204154421_camera_frontcenter_000052486.png', '/content/drive/MyDrive/camera_lidar_semantic2/camera_lidar_semantic/20181108_091945/camera/cam_front_center/20181108091945_camera_frontcenter_000011460.png', '/content/drive/MyDrive/camera_lidar_semantic2/camera_lidar_semantic/20181108_091945/camera/cam_front_center/20181108091945_camera_frontcenter_000057020.png', '/content/drive/MyDrive/camera_lidar_semantic2/camera_lidar_semantic/20181108_091945/camera/cam_front_center/20181108091945_camera_frontcenter_000008917.png', '/content/drive/MyDrive/camera_lidar_semantic2/camera_lidar_semantic/20181204_154421/camera/cam_front_center/20181204154421_camera_frontcenter_000054025.png', '/content/drive/MyDrive/camera_lidar_semantic2/camera_lidar_semantic/20181204_191844/camera/cam_front_center/20181204191844_camera_frontcenter_000015597.png', '/content/drive/MyDrive/camera_lidar_semantic2/camera_lidar_semantic/20181204_191844/camera/cam_front_center/20181204191844_camera_frontcenter_000012006.png', '/content/drive/MyDrive/camera_lidar_semantic2/camera_lidar_semantic/20181108_091945/camera/cam_front_center/20181108091945_camera_frontcenter_000073180.png', '/content/drive/MyDrive/camera_lidar_semantic2/camera_lidar_semantic/20181204_170238/camera/cam_front_center/20181204170238_camera_frontcenter_000081949.png', '/content/drive/MyDrive/camera_lidar_semantic2/camera_lidar_semantic/20181204_191844/camera/cam_front_center/20181204191844_camera_frontcenter_000020393.png', '/content/drive/MyDrive/camera_lidar_semantic2/camera_lidar_semantic/20180807_145028/camera/cam_front_center/20180807145028_camera_frontcenter_000001363.png', '/content/drive/MyDrive/camera_lidar_semantic2/camera_lidar_semantic/20181108_091945/camera/cam_front_center/20181108091945_camera_frontcenter_000036173.png', '/content/drive/MyDrive/camera_lidar_semantic2/camera_lidar_semantic/20181108_091945/camera/cam_front_center/20181108091945_camera_frontcenter_000080408.png', '/content/drive/MyDrive/camera_lidar_semantic2/camera_lidar_semantic/20181204_191844/camera/cam_front_center/20181204191844_camera_frontcenter_000021981.png', '/content/drive/MyDrive/camera_lidar_semantic2/camera_lidar_semantic/20181204_154421/camera/cam_front_center/20181204154421_camera_frontcenter_000080802.png', '/content/drive/MyDrive/camera_lidar_semantic2/camera_lidar_semantic/20180807_145028/camera/cam_front_center/20180807145028_camera_frontcenter_000032441.png', '/content/drive/MyDrive/camera_lidar_semantic2/camera_lidar_semantic/20181204_170238/camera/cam_front_center/20181204170238_camera_frontcenter_000121371.png', '/content/drive/MyDrive/camera_lidar_semantic2/camera_lidar_semantic/20181204_170238/camera/cam_front_center/20181204170238_camera_frontcenter_000118907.png', '/content/drive/MyDrive/camera_lidar_semantic2/camera_lidar_semantic/20180807_145028/camera/cam_front_center/20180807145028_camera_frontcenter_000055170.png', '/content/drive/MyDrive/camera_lidar_semantic2/camera_lidar_semantic/20181204_170238/camera/cam_front_center/20181204170238_camera_frontcenter_000023318.png', '/content/drive/MyDrive/camera_lidar_semantic2/camera_lidar_semantic/20181204_170238/camera/cam_front_center/20181204170238_camera_frontcenter_000056710.png', '/content/drive/MyDrive/camera_lidar_semantic2/camera_lidar_semantic/20181204_191844/camera/cam_front_center/20181204191844_camera_frontcenter_000009509.png', '/content/drive/MyDrive/camera_lidar_semantic2/camera_lidar_semantic/20181108_091945/camera/cam_front_center/20181108091945_camera_frontcenter_000014873.png', '/content/drive/MyDrive/camera_lidar_semantic2/camera_lidar_semantic/20181204_170238/camera/cam_front_center/20181204170238_camera_frontcenter_000006240.png', '/content/drive/MyDrive/camera_lidar_semantic2/camera_lidar_semantic/20180807_145028/camera/cam_front_center/20180807145028_camera_frontcenter_000016583.png', '/content/drive/MyDrive/camera_lidar_semantic2/camera_lidar_semantic/20181108_091945/camera/cam_front_center/20181108091945_camera_frontcenter_000018719.png', '/content/drive/MyDrive/camera_lidar_semantic2/camera_lidar_semantic/20181204_191844/camera/cam_front_center/20181204191844_camera_frontcenter_000014448.png', '/content/drive/MyDrive/camera_lidar_semantic2/camera_lidar_semantic/20181204_191844/camera/cam_front_center/20181204191844_camera_frontcenter_000014725.png', '/content/drive/MyDrive/camera_lidar_semantic2/camera_lidar_semantic/20181204_170238/camera/cam_front_center/20181204170238_camera_frontcenter_000071393.png', '/content/drive/MyDrive/camera_lidar_semantic2/camera_lidar_semantic/20181204_191844/camera/cam_front_center/20181204191844_camera_frontcenter_000023224.png', '/content/drive/MyDrive/camera_lidar_semantic2/camera_lidar_semantic/20181204_191844/camera/cam_front_center/20181204191844_camera_frontcenter_000021111.png', '/content/drive/MyDrive/camera_lidar_semantic2/camera_lidar_semantic/20181108_091945/camera/cam_front_center/20181108091945_camera_frontcenter_000083084.png', '/content/drive/MyDrive/camera_lidar_semantic2/camera_lidar_semantic/20181204_191844/camera/cam_front_center/20181204191844_camera_frontcenter_000013817.png', '/content/drive/MyDrive/camera_lidar_semantic2/camera_lidar_semantic/20181204_170238/camera/cam_front_center/20181204170238_camera_frontcenter_000087010.png', '/content/drive/MyDrive/camera_lidar_semantic2/camera_lidar_semantic/20181204_191844/camera/cam_front_center/20181204191844_camera_frontcenter_000019071.png', '/content/drive/MyDrive/camera_lidar_semantic2/camera_lidar_semantic/20181204_170238/camera/cam_front_center/20181204170238_camera_frontcenter_000083521.png', '/content/drive/MyDrive/camera_lidar_semantic2/camera_lidar_semantic/20180807_145028/camera/cam_front_center/20180807145028_camera_frontcenter_000031642.png', '/content/drive/MyDrive/camera_lidar_semantic2/camera_lidar_semantic/20181204_191844/camera/cam_front_center/20181204191844_camera_frontcenter_000020177.png', '/content/drive/MyDrive/camera_lidar_semantic2/camera_lidar_semantic/20181204_191844/camera/cam_front_center/20181204191844_camera_frontcenter_000019927.png', '/content/drive/MyDrive/camera_lidar_semantic2/camera_lidar_semantic/20181204_191844/camera/cam_front_center/20181204191844_camera_frontcenter_000009361.png', '/content/drive/MyDrive/camera_lidar_semantic2/camera_lidar_semantic/20181204_191844/camera/cam_front_center/20181204191844_camera_frontcenter_000011734.png', '/content/drive/MyDrive/camera_lidar_semantic2/camera_lidar_semantic/20181204_170238/camera/cam_front_center/20181204170238_camera_frontcenter_000025755.png', '/content/drive/MyDrive/camera_lidar_semantic2/camera_lidar_semantic/20181204_170238/camera/cam_front_center/20181204170238_camera_frontcenter_000023946.png', '/content/drive/MyDrive/camera_lidar_semantic2/camera_lidar_semantic/20181204_154421/camera/cam_front_center/20181204154421_camera_frontcenter_000037947.png', '/content/drive/MyDrive/camera_lidar_semantic2/camera_lidar_semantic/20181204_170238/camera/cam_front_center/20181204170238_camera_frontcenter_000073289.png', '/content/drive/MyDrive/camera_lidar_semantic2/camera_lidar_semantic/20181204_170238/camera/cam_front_center/20181204170238_camera_frontcenter_000100574.png', '/content/drive/MyDrive/camera_lidar_semantic2/camera_lidar_semantic/20181204_191844/camera/cam_front_center/20181204191844_camera_frontcenter_000009265.png', '/content/drive/MyDrive/camera_lidar_semantic2/camera_lidar_semantic/20181108_091945/camera/cam_front_center/20181108091945_camera_frontcenter_000063719.png', '/content/drive/MyDrive/camera_lidar_semantic2/camera_lidar_semantic/20180807_145028/camera/cam_front_center/20180807145028_camera_frontcenter_000000911.png', '/content/drive/MyDrive/camera_lidar_semantic2/camera_lidar_semantic/20181108_091945/camera/cam_front_center/20181108091945_camera_frontcenter_000034645.png', '/content/drive/MyDrive/camera_lidar_semantic2/camera_lidar_semantic/20181204_191844/camera/cam_front_center/20181204191844_camera_frontcenter_000023009.png', '/content/drive/MyDrive/camera_lidar_semantic2/camera_lidar_semantic/20181108_091945/camera/cam_front_center/20181108091945_camera_frontcenter_000034247.png', '/content/drive/MyDrive/camera_lidar_semantic2/camera_lidar_semantic/20181204_154421/camera/cam_front_center/20181204154421_camera_frontcenter_000112506.png', '/content/drive/MyDrive/camera_lidar_semantic2/camera_lidar_semantic/20181204_170238/camera/cam_front_center/20181204170238_camera_frontcenter_000088482.png', '/content/drive/MyDrive/camera_lidar_semantic2/camera_lidar_semantic/20181204_154421/camera/cam_front_center/20181204154421_camera_frontcenter_000031693.png', '/content/drive/MyDrive/camera_lidar_semantic2/camera_lidar_semantic/20181108_091945/camera/cam_front_center/20181108091945_camera_frontcenter_000002485.png', '/content/drive/MyDrive/camera_lidar_semantic2/camera_lidar_semantic/20180807_145028/camera/cam_front_center/20180807145028_camera_frontcenter_000015575.png', '/content/drive/MyDrive/camera_lidar_semantic2/camera_lidar_semantic/20181108_091945/camera/cam_front_center/20181108091945_camera_frontcenter_000030447.png', '/content/drive/MyDrive/camera_lidar_semantic2/camera_lidar_semantic/20181204_154421/camera/cam_front_center/20181204154421_camera_frontcenter_000049983.png', '/content/drive/MyDrive/camera_lidar_semantic2/camera_lidar_semantic/20180807_145028/camera/cam_front_center/20180807145028_camera_frontcenter_000015626.png', '/content/drive/MyDrive/camera_lidar_semantic2/camera_lidar_semantic/20181204_170238/camera/cam_front_center/20181204170238_camera_frontcenter_000077730.png', '/content/drive/MyDrive/camera_lidar_semantic2/camera_lidar_semantic/20181204_154421/camera/cam_front_center/20181204154421_camera_frontcenter_000068924.png', '/content/drive/MyDrive/camera_lidar_semantic2/camera_lidar_semantic/20181204_191844/camera/cam_front_center/20181204191844_camera_frontcenter_000012051.png', '/content/drive/MyDrive/camera_lidar_semantic2/camera_lidar_semantic/20181204_154421/camera/cam_front_center/20181204154421_camera_frontcenter_000015336.png', '/content/drive/MyDrive/camera_lidar_semantic2/camera_lidar_semantic/20181204_154421/camera/cam_front_center/20181204154421_camera_frontcenter_000045920.png', '/content/drive/MyDrive/camera_lidar_semantic2/camera_lidar_semantic/20181204_191844/camera/cam_front_center/20181204191844_camera_frontcenter_000021179.png', '/content/drive/MyDrive/camera_lidar_semantic2/camera_lidar_semantic/20181204_191844/camera/cam_front_center/20181204191844_camera_frontcenter_000010367.png', '/content/drive/MyDrive/camera_lidar_semantic2/camera_lidar_semantic/20181204_191844/camera/cam_front_center/20181204191844_camera_frontcenter_000014969.png', '/content/drive/MyDrive/camera_lidar_semantic2/camera_lidar_semantic/20181204_191844/camera/cam_front_center/20181204191844_camera_frontcenter_000014627.png', '/content/drive/MyDrive/camera_lidar_semantic2/camera_lidar_semantic/20181108_091945/camera/cam_front_center/20181108091945_camera_frontcenter_000077991.png', '/content/drive/MyDrive/camera_lidar_semantic2/camera_lidar_semantic/20181204_191844/camera/cam_front_center/20181204191844_camera_frontcenter_000009100.png', '/content/drive/MyDrive/camera_lidar_semantic2/camera_lidar_semantic/20181204_191844/camera/cam_front_center/20181204191844_camera_frontcenter_000018292.png', '/content/drive/MyDrive/camera_lidar_semantic2/camera_lidar_semantic/20181108_091945/camera/cam_front_center/20181108091945_camera_frontcenter_000066654.png', '/content/drive/MyDrive/camera_lidar_semantic2/camera_lidar_semantic/20181204_191844/camera/cam_front_center/20181204191844_camera_frontcenter_000018016.png', '/content/drive/MyDrive/camera_lidar_semantic2/camera_lidar_semantic/20181204_154421/camera/cam_front_center/20181204154421_camera_frontcenter_000049860.png', '/content/drive/MyDrive/camera_lidar_semantic2/camera_lidar_semantic/20181204_191844/camera/cam_front_center/20181204191844_camera_frontcenter_000016121.png', '/content/drive/MyDrive/camera_lidar_semantic2/camera_lidar_semantic/20181204_191844/camera/cam_front_center/20181204191844_camera_frontcenter_000020305.png', '/content/drive/MyDrive/camera_lidar_semantic2/camera_lidar_semantic/20181204_154421/camera/cam_front_center/20181204154421_camera_frontcenter_000103114.png', '/content/drive/MyDrive/camera_lidar_semantic2/camera_lidar_semantic/20180807_145028/camera/cam_front_center/20180807145028_camera_frontcenter_000052498.png', '/content/drive/MyDrive/camera_lidar_semantic2/camera_lidar_semantic/20181108_091945/camera/cam_front_center/20181108091945_camera_frontcenter_000023296.png', '/content/drive/MyDrive/camera_lidar_semantic2/camera_lidar_semantic/20181204_154421/camera/cam_front_center/20181204154421_camera_frontcenter_000108754.png', '/content/drive/MyDrive/camera_lidar_semantic2/camera_lidar_semantic/20181204_191844/camera/cam_front_center/20181204191844_camera_frontcenter_000016506.png', '/content/drive/MyDrive/camera_lidar_semantic2/camera_lidar_semantic/20181108_091945/camera/cam_front_center/20181108091945_camera_frontcenter_000034048.png', '/content/drive/MyDrive/camera_lidar_semantic2/camera_lidar_semantic/20181204_170238/camera/cam_front_center/20181204170238_camera_frontcenter_000039340.png', '/content/drive/MyDrive/camera_lidar_semantic2/camera_lidar_semantic/20181204_191844/camera/cam_front_center/20181204191844_camera_frontcenter_000009153.png', '/content/drive/MyDrive/camera_lidar_semantic2/camera_lidar_semantic/20180807_145028/camera/cam_front_center/20180807145028_camera_frontcenter_000036459.png', '/content/drive/MyDrive/camera_lidar_semantic2/camera_lidar_semantic/20181108_091945/camera/cam_front_center/20181108091945_camera_frontcenter_000070380.png', '/content/drive/MyDrive/camera_lidar_semantic2/camera_lidar_semantic/20181204_191844/camera/cam_front_center/20181204191844_camera_frontcenter_000016747.png', '/content/drive/MyDrive/camera_lidar_semantic2/camera_lidar_semantic/20180807_145028/camera/cam_front_center/20180807145028_camera_frontcenter_000045021.png', '/content/drive/MyDrive/camera_lidar_semantic2/camera_lidar_semantic/20181204_191844/camera/cam_front_center/20181204191844_camera_frontcenter_000010848.png', '/content/drive/MyDrive/camera_lidar_semantic2/camera_lidar_semantic/20181204_191844/camera/cam_front_center/20181204191844_camera_frontcenter_000018541.png', '/content/drive/MyDrive/camera_lidar_semantic2/camera_lidar_semantic/20181204_170238/camera/cam_front_center/20181204170238_camera_frontcenter_000120530.png', '/content/drive/MyDrive/camera_lidar_semantic2/camera_lidar_semantic/20181204_170238/camera/cam_front_center/20181204170238_camera_frontcenter_000042279.png', '/content/drive/MyDrive/camera_lidar_semantic2/camera_lidar_semantic/20181108_091945/camera/cam_front_center/20181108091945_camera_frontcenter_000037301.png', '/content/drive/MyDrive/camera_lidar_semantic2/camera_lidar_semantic/20181204_191844/camera/cam_front_center/20181204191844_camera_frontcenter_000014402.png', '/content/drive/MyDrive/camera_lidar_semantic2/camera_lidar_semantic/20181108_091945/camera/cam_front_center/20181108091945_camera_frontcenter_000078087.png', '/content/drive/MyDrive/camera_lidar_semantic2/camera_lidar_semantic/20181204_170238/camera/cam_front_center/20181204170238_camera_frontcenter_000017526.png', '/content/drive/MyDrive/camera_lidar_semantic2/camera_lidar_semantic/20180807_145028/camera/cam_front_center/20180807145028_camera_frontcenter_000039797.png', '/content/drive/MyDrive/camera_lidar_semantic2/camera_lidar_semantic/20181204_191844/camera/cam_front_center/20181204191844_camera_frontcenter_000018452.png', '/content/drive/MyDrive/camera_lidar_semantic2/camera_lidar_semantic/20181204_191844/camera/cam_front_center/20181204191844_camera_frontcenter_000019759.png', '/content/drive/MyDrive/camera_lidar_semantic2/camera_lidar_semantic/20181204_191844/camera/cam_front_center/20181204191844_camera_frontcenter_000010289.png', '/content/drive/MyDrive/camera_lidar_semantic2/camera_lidar_semantic/20181204_154421/camera/cam_front_center/20181204154421_camera_frontcenter_000098468.png', '/content/drive/MyDrive/camera_lidar_semantic2/camera_lidar_semantic/20181108_091945/camera/cam_front_center/20181108091945_camera_frontcenter_000013920.png', '/content/drive/MyDrive/camera_lidar_semantic2/camera_lidar_semantic/20181204_191844/camera/cam_front_center/20181204191844_camera_frontcenter_000020158.png', '/content/drive/MyDrive/camera_lidar_semantic2/camera_lidar_semantic/20181204_191844/camera/cam_front_center/20181204191844_camera_frontcenter_000013020.png', '/content/drive/MyDrive/camera_lidar_semantic2/camera_lidar_semantic/20181204_170238/camera/cam_front_center/20181204170238_camera_frontcenter_000030271.png', '/content/drive/MyDrive/camera_lidar_semantic2/camera_lidar_semantic/20180807_145028/camera/cam_front_center/20180807145028_camera_frontcenter_000039861.png', '/content/drive/MyDrive/camera_lidar_semantic2/camera_lidar_semantic/20180807_145028/camera/cam_front_center/20180807145028_camera_frontcenter_000041685.png', '/content/drive/MyDrive/camera_lidar_semantic2/camera_lidar_semantic/20181108_091945/camera/cam_front_center/20181108091945_camera_frontcenter_000039475.png', '/content/drive/MyDrive/camera_lidar_semantic2/camera_lidar_semantic/20180807_145028/camera/cam_front_center/20180807145028_camera_frontcenter_000056323.png', '/content/drive/MyDrive/camera_lidar_semantic2/camera_lidar_semantic/20180807_145028/camera/cam_front_center/20180807145028_camera_frontcenter_000053870.png', '/content/drive/MyDrive/camera_lidar_semantic2/camera_lidar_semantic/20180807_145028/camera/cam_front_center/20180807145028_camera_frontcenter_000030975.png', '/content/drive/MyDrive/camera_lidar_semantic2/camera_lidar_semantic/20181108_091945/camera/cam_front_center/20181108091945_camera_frontcenter_000040778.png', '/content/drive/MyDrive/camera_lidar_semantic2/camera_lidar_semantic/20181204_170238/camera/cam_front_center/20181204170238_camera_frontcenter_000026626.png', '/content/drive/MyDrive/camera_lidar_semantic2/camera_lidar_semantic/20181108_091945/camera/cam_front_center/20181108091945_camera_frontcenter_000039794.png', '/content/drive/MyDrive/camera_lidar_semantic2/camera_lidar_semantic/20181108_091945/camera/cam_front_center/20181108091945_camera_frontcenter_000085141.png', '/content/drive/MyDrive/camera_lidar_semantic2/camera_lidar_semantic/20181204_191844/camera/cam_front_center/20181204191844_camera_frontcenter_000016048.png', '/content/drive/MyDrive/camera_lidar_semantic2/camera_lidar_semantic/20181108_091945/camera/cam_front_center/20181108091945_camera_frontcenter_000038115.png', '/content/drive/MyDrive/camera_lidar_semantic2/camera_lidar_semantic/20181108_091945/camera/cam_front_center/20181108091945_camera_frontcenter_000003522.png', '/content/drive/MyDrive/camera_lidar_semantic2/camera_lidar_semantic/20181108_091945/camera/cam_front_center/20181108091945_camera_frontcenter_000082855.png', '/content/drive/MyDrive/camera_lidar_semantic2/camera_lidar_semantic/20181108_091945/camera/cam_front_center/20181108091945_camera_frontcenter_000011334.png', '/content/drive/MyDrive/camera_lidar_semantic2/camera_lidar_semantic/20181108_091945/camera/cam_front_center/20181108091945_camera_frontcenter_000080175.png', '/content/drive/MyDrive/camera_lidar_semantic2/camera_lidar_semantic/20181204_154421/camera/cam_front_center/20181204154421_camera_frontcenter_000043969.png', '/content/drive/MyDrive/camera_lidar_semantic2/camera_lidar_semantic/20181204_191844/camera/cam_front_center/20181204191844_camera_frontcenter_000012847.png', '/content/drive/MyDrive/camera_lidar_semantic2/camera_lidar_semantic/20180807_145028/camera/cam_front_center/20180807145028_camera_frontcenter_000049056.png', '/content/drive/MyDrive/camera_lidar_semantic2/camera_lidar_semantic/20181204_170238/camera/cam_front_center/20181204170238_camera_frontcenter_000017855.png', '/content/drive/MyDrive/camera_lidar_semantic2/camera_lidar_semantic/20181204_154421/camera/cam_front_center/20181204154421_camera_frontcenter_000102393.png', '/content/drive/MyDrive/camera_lidar_semantic2/camera_lidar_semantic/20181204_191844/camera/cam_front_center/20181204191844_camera_frontcenter_000019637.png', '/content/drive/MyDrive/camera_lidar_semantic2/camera_lidar_semantic/20181204_191844/camera/cam_front_center/20181204191844_camera_frontcenter_000015170.png', '/content/drive/MyDrive/camera_lidar_semantic2/camera_lidar_semantic/20181204_191844/camera/cam_front_center/20181204191844_camera_frontcenter_000019595.png', '/content/drive/MyDrive/camera_lidar_semantic2/camera_lidar_semantic/20181204_191844/camera/cam_front_center/20181204191844_camera_frontcenter_000009304.png', '/content/drive/MyDrive/camera_lidar_semantic2/camera_lidar_semantic/20181204_191844/camera/cam_front_center/20181204191844_camera_frontcenter_000018491.png', '/content/drive/MyDrive/camera_lidar_semantic2/camera_lidar_semantic/20181204_170238/camera/cam_front_center/20181204170238_camera_frontcenter_000011313.png', '/content/drive/MyDrive/camera_lidar_semantic2/camera_lidar_semantic/20181204_170238/camera/cam_front_center/20181204170238_camera_frontcenter_000074886.png', '/content/drive/MyDrive/camera_lidar_semantic2/camera_lidar_semantic/20180807_145028/camera/cam_front_center/20180807145028_camera_frontcenter_000058610.png', '/content/drive/MyDrive/camera_lidar_semantic2/camera_lidar_semantic/20181204_191844/camera/cam_front_center/20181204191844_camera_frontcenter_000009327.png', '/content/drive/MyDrive/camera_lidar_semantic2/camera_lidar_semantic/20181204_191844/camera/cam_front_center/20181204191844_camera_frontcenter_000019348.png', '/content/drive/MyDrive/camera_lidar_semantic2/camera_lidar_semantic/20181204_154421/camera/cam_front_center/20181204154421_camera_frontcenter_000115812.png', '/content/drive/MyDrive/camera_lidar_semantic2/camera_lidar_semantic/20181204_191844/camera/cam_front_center/20181204191844_camera_frontcenter_000022268.png', '/content/drive/MyDrive/camera_lidar_semantic2/camera_lidar_semantic/20181204_170238/camera/cam_front_center/20181204170238_camera_frontcenter_000101087.png', '/content/drive/MyDrive/camera_lidar_semantic2/camera_lidar_semantic/20181204_191844/camera/cam_front_center/20181204191844_camera_frontcenter_000016256.png', '/content/drive/MyDrive/camera_lidar_semantic2/camera_lidar_semantic/20181108_091945/camera/cam_front_center/20181108091945_camera_frontcenter_000002609.png', '/content/drive/MyDrive/camera_lidar_semantic2/camera_lidar_semantic/20181108_091945/camera/cam_front_center/20181108091945_camera_frontcenter_000023734.png', '/content/drive/MyDrive/camera_lidar_semantic2/camera_lidar_semantic/20181108_091945/camera/cam_front_center/20181108091945_camera_frontcenter_000049402.png', '/content/drive/MyDrive/camera_lidar_semantic2/camera_lidar_semantic/20181108_091945/camera/cam_front_center/20181108091945_camera_frontcenter_000054990.png', '/content/drive/MyDrive/camera_lidar_semantic2/camera_lidar_semantic/20180807_145028/camera/cam_front_center/20180807145028_camera_frontcenter_000032562.png', '/content/drive/MyDrive/camera_lidar_semantic2/camera_lidar_semantic/20181204_191844/camera/cam_front_center/20181204191844_camera_frontcenter_000022233.png', '/content/drive/MyDrive/camera_lidar_semantic2/camera_lidar_semantic/20181108_091945/camera/cam_front_center/20181108091945_camera_frontcenter_000084747.png', '/content/drive/MyDrive/camera_lidar_semantic2/camera_lidar_semantic/20181204_191844/camera/cam_front_center/20181204191844_camera_frontcenter_000018066.png', '/content/drive/MyDrive/camera_lidar_semantic2/camera_lidar_semantic/20181204_191844/camera/cam_front_center/20181204191844_camera_frontcenter_000011177.png', '/content/drive/MyDrive/camera_lidar_semantic2/camera_lidar_semantic/20181204_191844/camera/cam_front_center/20181204191844_camera_frontcenter_000021019.png', '/content/drive/MyDrive/camera_lidar_semantic2/camera_lidar_semantic/20181204_170238/camera/cam_front_center/20181204170238_camera_frontcenter_000053284.png', '/content/drive/MyDrive/camera_lidar_semantic2/camera_lidar_semantic/20180807_145028/camera/cam_front_center/20180807145028_camera_frontcenter_000055540.png', '/content/drive/MyDrive/camera_lidar_semantic2/camera_lidar_semantic/20181204_191844/camera/cam_front_center/20181204191844_camera_frontcenter_000023336.png', '/content/drive/MyDrive/camera_lidar_semantic2/camera_lidar_semantic/20180807_145028/camera/cam_front_center/20180807145028_camera_frontcenter_000031745.png', '/content/drive/MyDrive/camera_lidar_semantic2/camera_lidar_semantic/20181204_154421/camera/cam_front_center/20181204154421_camera_frontcenter_000073724.png', '/content/drive/MyDrive/camera_lidar_semantic2/camera_lidar_semantic/20181204_154421/camera/cam_front_center/20181204154421_camera_frontcenter_000090747.png', '/content/drive/MyDrive/camera_lidar_semantic2/camera_lidar_semantic/20181204_191844/camera/cam_front_center/20181204191844_camera_frontcenter_000013939.png', '/content/drive/MyDrive/camera_lidar_semantic2/camera_lidar_semantic/20181204_170238/camera/cam_front_center/20181204170238_camera_frontcenter_000093704.png', '/content/drive/MyDrive/camera_lidar_semantic2/camera_lidar_semantic/20181204_170238/camera/cam_front_center/20181204170238_camera_frontcenter_000108246.png', '/content/drive/MyDrive/camera_lidar_semantic2/camera_lidar_semantic/20181204_191844/camera/cam_front_center/20181204191844_camera_frontcenter_000019962.png', '/content/drive/MyDrive/camera_lidar_semantic2/camera_lidar_semantic/20181108_091945/camera/cam_front_center/20181108091945_camera_frontcenter_000020427.png', '/content/drive/MyDrive/camera_lidar_semantic2/camera_lidar_semantic/20181204_154421/camera/cam_front_center/20181204154421_camera_frontcenter_000111037.png', '/content/drive/MyDrive/camera_lidar_semantic2/camera_lidar_semantic/20181204_191844/camera/cam_front_center/20181204191844_camera_frontcenter_000018730.png', '/content/drive/MyDrive/camera_lidar_semantic2/camera_lidar_semantic/20181108_091945/camera/cam_front_center/20181108091945_camera_frontcenter_000033755.png', '/content/drive/MyDrive/camera_lidar_semantic2/camera_lidar_semantic/20181204_170238/camera/cam_front_center/20181204170238_camera_frontcenter_000065417.png', '/content/drive/MyDrive/camera_lidar_semantic2/camera_lidar_semantic/20181108_091945/camera/cam_front_center/20181108091945_camera_frontcenter_000067538.png', '/content/drive/MyDrive/camera_lidar_semantic2/camera_lidar_semantic/20181108_091945/camera/cam_front_center/20181108091945_camera_frontcenter_000039340.png', '/content/drive/MyDrive/camera_lidar_semantic2/camera_lidar_semantic/20181108_091945/camera/cam_front_center/20181108091945_camera_frontcenter_000038925.png', '/content/drive/MyDrive/camera_lidar_semantic2/camera_lidar_semantic/20181204_170238/camera/cam_front_center/20181204170238_camera_frontcenter_000050422.png', '/content/drive/MyDrive/camera_lidar_semantic2/camera_lidar_semantic/20180807_145028/camera/cam_front_center/20180807145028_camera_frontcenter_000021731.png', '/content/drive/MyDrive/camera_lidar_semantic2/camera_lidar_semantic/20181108_091945/camera/cam_front_center/20181108091945_camera_frontcenter_000002694.png', '/content/drive/MyDrive/camera_lidar_semantic2/camera_lidar_semantic/20181204_154421/camera/cam_front_center/20181204154421_camera_frontcenter_000070779.png', '/content/drive/MyDrive/camera_lidar_semantic2/camera_lidar_semantic/20181204_154421/camera/cam_front_center/20181204154421_camera_frontcenter_000089973.png', '/content/drive/MyDrive/camera_lidar_semantic2/camera_lidar_semantic/20181204_170238/camera/cam_front_center/20181204170238_camera_frontcenter_000031264.png', '/content/drive/MyDrive/camera_lidar_semantic2/camera_lidar_semantic/20181108_091945/camera/cam_front_center/20181108091945_camera_frontcenter_000007312.png', '/content/drive/MyDrive/camera_lidar_semantic2/camera_lidar_semantic/20181204_154421/camera/cam_front_center/20181204154421_camera_frontcenter_000087012.png', '/content/drive/MyDrive/camera_lidar_semantic2/camera_lidar_semantic/20180807_145028/camera/cam_front_center/20180807145028_camera_frontcenter_000057661.png', '/content/drive/MyDrive/camera_lidar_semantic2/camera_lidar_semantic/20181108_091945/camera/cam_front_center/20181108091945_camera_frontcenter_000025237.png', '/content/drive/MyDrive/camera_lidar_semantic2/camera_lidar_semantic/20181204_191844/camera/cam_front_center/20181204191844_camera_frontcenter_000015871.png', '/content/drive/MyDrive/camera_lidar_semantic2/camera_lidar_semantic/20181204_170238/camera/cam_front_center/20181204170238_camera_frontcenter_000058746.png', '/content/drive/MyDrive/camera_lidar_semantic2/camera_lidar_semantic/20181108_091945/camera/cam_front_center/20181108091945_camera_frontcenter_000040239.png', '/content/drive/MyDrive/camera_lidar_semantic2/camera_lidar_semantic/20181204_154421/camera/cam_front_center/20181204154421_camera_frontcenter_000012561.png', '/content/drive/MyDrive/camera_lidar_semantic2/camera_lidar_semantic/20181108_091945/camera/cam_front_center/20181108091945_camera_frontcenter_000024672.png', '/content/drive/MyDrive/camera_lidar_semantic2/camera_lidar_semantic/20181204_191844/camera/cam_front_center/20181204191844_camera_frontcenter_000014165.png', '/content/drive/MyDrive/camera_lidar_semantic2/camera_lidar_semantic/20181204_191844/camera/cam_front_center/20181204191844_camera_frontcenter_000013753.png', '/content/drive/MyDrive/camera_lidar_semantic2/camera_lidar_semantic/20181204_170238/camera/cam_front_center/20181204170238_camera_frontcenter_000031404.png', '/content/drive/MyDrive/camera_lidar_semantic2/camera_lidar_semantic/20181204_170238/camera/cam_front_center/20181204170238_camera_frontcenter_000024876.png', '/content/drive/MyDrive/camera_lidar_semantic2/camera_lidar_semantic/20181204_154421/camera/cam_front_center/20181204154421_camera_frontcenter_000048372.png', '/content/drive/MyDrive/camera_lidar_semantic2/camera_lidar_semantic/20181108_091945/camera/cam_front_center/20181108091945_camera_frontcenter_000040975.png', '/content/drive/MyDrive/camera_lidar_semantic2/camera_lidar_semantic/20181108_091945/camera/cam_front_center/20181108091945_camera_frontcenter_000089975.png', '/content/drive/MyDrive/camera_lidar_semantic2/camera_lidar_semantic/20181204_154421/camera/cam_front_center/20181204154421_camera_frontcenter_000057166.png', '/content/drive/MyDrive/camera_lidar_semantic2/camera_lidar_semantic/20181204_170238/camera/cam_front_center/20181204170238_camera_frontcenter_000017836.png', '/content/drive/MyDrive/camera_lidar_semantic2/camera_lidar_semantic/20181204_191844/camera/cam_front_center/20181204191844_camera_frontcenter_000013706.png', '/content/drive/MyDrive/camera_lidar_semantic2/camera_lidar_semantic/20181204_191844/camera/cam_front_center/20181204191844_camera_frontcenter_000019672.png', '/content/drive/MyDrive/camera_lidar_semantic2/camera_lidar_semantic/20181204_191844/camera/cam_front_center/20181204191844_camera_frontcenter_000022060.png', '/content/drive/MyDrive/camera_lidar_semantic2/camera_lidar_semantic/20181204_170238/camera/cam_front_center/20181204170238_camera_frontcenter_000055626.png', '/content/drive/MyDrive/camera_lidar_semantic2/camera_lidar_semantic/20181204_170238/camera/cam_front_center/20181204170238_camera_frontcenter_000064489.png', '/content/drive/MyDrive/camera_lidar_semantic2/camera_lidar_semantic/20181204_170238/camera/cam_front_center/20181204170238_camera_frontcenter_000073888.png', '/content/drive/MyDrive/camera_lidar_semantic2/camera_lidar_semantic/20181204_191844/camera/cam_front_center/20181204191844_camera_frontcenter_000017561.png', '/content/drive/MyDrive/camera_lidar_semantic2/camera_lidar_semantic/20181108_091945/camera/cam_front_center/20181108091945_camera_frontcenter_000018854.png', '/content/drive/MyDrive/camera_lidar_semantic2/camera_lidar_semantic/20181204_170238/camera/cam_front_center/20181204170238_camera_frontcenter_000120667.png', '/content/drive/MyDrive/camera_lidar_semantic2/camera_lidar_semantic/20180807_145028/camera/cam_front_center/20180807145028_camera_frontcenter_000038642.png', '/content/drive/MyDrive/camera_lidar_semantic2/camera_lidar_semantic/20181204_191844/camera/cam_front_center/20181204191844_camera_frontcenter_000010044.png', '/content/drive/MyDrive/camera_lidar_semantic2/camera_lidar_semantic/20181108_091945/camera/cam_front_center/20181108091945_camera_frontcenter_000080818.png', '/content/drive/MyDrive/camera_lidar_semantic2/camera_lidar_semantic/20181204_191844/camera/cam_front_center/20181204191844_camera_frontcenter_000022436.png', '/content/drive/MyDrive/camera_lidar_semantic2/camera_lidar_semantic/20181108_091945/camera/cam_front_center/20181108091945_camera_frontcenter_000053767.png', '/content/drive/MyDrive/camera_lidar_semantic2/camera_lidar_semantic/20181204_170238/camera/cam_front_center/20181204170238_camera_frontcenter_000056373.png']\n"
          ]
        }
      ],
      "source": [
        "print(TEST_PATHS)"
      ]
    },
    {
      "cell_type": "markdown",
      "metadata": {
        "id": "7d3TXvD4mRSX"
      },
      "source": [
        "### Functions to export some example images"
      ]
    },
    {
      "cell_type": "code",
      "execution_count": null,
      "metadata": {
        "id": "Nt12TcgOU5xF"
      },
      "outputs": [],
      "source": [
        "import os\n",
        "import torch\n",
        "from torchvision import transforms\n",
        "import numpy as np\n",
        "from PIL import Image\n",
        "\n",
        "def save_predictions_as_imgs(loader, model, folder=\"output/\", device=DEVICE):\n",
        "    \"\"\"\n",
        "    Saves the predictions of the model for the given loader as images.\n",
        "\n",
        "    Args:\n",
        "    loader (DataLoader): DataLoader containing the dataset.\n",
        "    model (torch.nn.Module): The trained model for generating predictions.\n",
        "    folder (str): The folder where images should be saved.\n",
        "    device (str): The device to run the model on ('cpu' or 'cuda').\n",
        "    \"\"\"\n",
        "    model.eval()  # Set the model to evaluation mode\n",
        "\n",
        "    # Create output folder if it does not exist\n",
        "    if not os.path.exists(folder):\n",
        "        os.makedirs(folder)\n",
        "\n",
        "    # Loop over the dataset\n",
        "    for i, (images, _) in enumerate(loader):\n",
        "        images = images.to(device)\n",
        "\n",
        "        with torch.no_grad():  # No need to track gradients\n",
        "            outputs = model(images)\n",
        "\n",
        "        # Convert model output to images\n",
        "        for j, output in enumerate(outputs):\n",
        "            output_img = output_processing(output)\n",
        "            img = Image.fromarray(output_img)\n",
        "            img.save(os.path.join(folder, f\"prediction_{i+j+1}.png\"))\n",
        "            print(\"Image: \" + str(i+j+1))\n",
        "\n",
        "    model.train()\n",
        "\n",
        "def output_processing(output_tensor):\n",
        "    \"\"\"\n",
        "    Converts the output tensor from the model to an RGB image.\n",
        "    \"\"\"\n",
        "    # Convert to a class index map\n",
        "    class_map = torch.argmax(output_tensor, dim=0)\n",
        "\n",
        "    # Define your specific color mapping\n",
        "    color_mapping = {\n",
        "    0: (255, 0, 0),       # Car 1\n",
        "    1: (200, 0, 0),       # Car 2\n",
        "    2: (150, 0, 0),       # Car 3\n",
        "    3: (128, 0, 0),       # Car 4\n",
        "    4: (182, 89, 6),      # Bicycle 1\n",
        "    5: (150, 50, 4),      # Bicycle 2\n",
        "    6: (90, 30, 1),       # Bicycle 3\n",
        "    7: (90, 30, 30),      # Bicycle 4\n",
        "    8: (204, 153, 255),   # Pedestrian 1\n",
        "    9: (189, 73, 155),    # Pedestrian 2\n",
        "    10: (239, 89, 191),   # Pedestrian 3\n",
        "    11: (255, 128, 0),    # Truck 1\n",
        "    12: (200, 128, 0),    # Truck 2\n",
        "    13: (150, 128, 0),    # Truck 3\n",
        "    14: (0, 255, 0),      # Small vehicles 1\n",
        "    15: (0, 200, 0),      # Small vehicles 2\n",
        "    16: (0, 150, 0),      # Small vehicles 3\n",
        "    17: (0, 128, 255),    # Traffic signal 1\n",
        "    18: (30, 28, 158),    # Traffic signal 2\n",
        "    19: (60, 28, 100),    # Traffic signal 3\n",
        "    20: (0, 255, 255),    # Traffic sign 1\n",
        "    21: (30, 220, 220),   # Traffic sign 2\n",
        "    22: (60, 157, 199),   # Traffic sign 3\n",
        "    23: (255, 255, 0),    # Utility vehicle 1\n",
        "    24: (255, 255, 200),  # Utility vehicle 2\n",
        "    25: (233, 100, 0),    # Sidebars\n",
        "    26: (110, 110, 0),    # Speed bumper\n",
        "    27: (128, 128, 0),    # Curbstone\n",
        "    28: (255, 193, 37),   # Solid line\n",
        "    29: (64, 0, 64),      # Irrelevant signs\n",
        "    30: (185, 122, 87),   # Road blocks\n",
        "    31: (0, 0, 100),      # Tractor\n",
        "    32: (139, 99, 108),   # Non-drivable street\n",
        "    33: (210, 50, 115),   # Zebra crossing\n",
        "    34: (255, 0, 128),    # Obstacles / trash\n",
        "    35: (255, 246, 143),  # Poles\n",
        "    36: (150, 0, 150),    # RD restricted area\n",
        "    37: (204, 255, 153),  # Animals\n",
        "    38: (238, 162, 173),  # Grid structure\n",
        "    39: (33, 44, 177),    # Signal corpus\n",
        "    40: (180, 50, 180),   # Drivable cobblestone\n",
        "    41: (255, 70, 185),   # Electronic traffic\n",
        "    42: (238, 233, 191),  # Slow drive area\n",
        "    43: (147, 253, 194),  # Nature object\n",
        "    44: (150, 150, 200),  # Parking area\n",
        "    45: (180, 150, 200),  # Sidewalk\n",
        "    46: (72, 209, 204),   # Ego car\n",
        "    47: (200, 125, 210),  # Painted driv. instr.\n",
        "    48: (159, 121, 238),  # Traffic guide obj.\n",
        "    49: (128, 0, 255),    # Dashed line\n",
        "    50: (255, 0, 255),    # RD normal street\n",
        "    51: (135, 206, 255),  # Sky\n",
        "    52: (241, 230, 255),  # Buildings\n",
        "    53: (96, 69, 143),    # Blurred area\n",
        "    54: (53, 46, 82)      # Rain dirt\n",
        "}\n",
        "\n",
        "    # Decode the segmentation mask\n",
        "    decoded_image = decode_segmentation_masks(class_map.cpu().numpy(), color_mapping)\n",
        "    return decoded_image\n",
        "\n",
        "def decode_segmentation_masks(mask, color_mapping):\n",
        "    \"\"\"\n",
        "    Convert a one-channel segmentation mask to a 3-channel RGB image.\n",
        "    \"\"\"\n",
        "    height, width = mask.shape\n",
        "    rgb_image = np.zeros((height, width, 3), dtype=np.uint8)\n",
        "\n",
        "    for class_id, color in color_mapping.items():\n",
        "        rgb_image[mask == class_id] = color\n",
        "\n",
        "    return rgb_image"
      ]
    },
    {
      "cell_type": "markdown",
      "source": [
        "### Evaluate Model Function"
      ],
      "metadata": {
        "id": "4RbULmXGSWoE"
      }
    },
    {
      "cell_type": "code",
      "execution_count": null,
      "metadata": {
        "id": "DB2XPhSIhVKp"
      },
      "outputs": [],
      "source": [
        "from tensorflow.keras.metrics import MeanIoU\n",
        "\n",
        "\n",
        "def evaluate_model(model, loader, num_classes, device=DEVICE):\n",
        "    \"\"\"\n",
        "    Evaluates the given model using the Mean Intersection Over Union (IoU) metric.\n",
        "\n",
        "    Args:\n",
        "    model (torch.nn.Module): The trained model for generating predictions.\n",
        "    loader (DataLoader): DataLoader containing the dataset for evaluation.\n",
        "    num_classes (int): The number of classes in the segmentation task.\n",
        "    device (str): The device to run the model on ('cpu' or 'cuda').\n",
        "\n",
        "    Returns:\n",
        "    float: The mean IoU score.\n",
        "    \"\"\"\n",
        "    model.eval()  # Set the model to evaluation mode\n",
        "    mean_iou = MeanIoU(num_classes=num_classes)\n",
        "\n",
        "    with torch.no_grad():  # No need to track gradients during evaluation\n",
        "        for images, true_masks in loader:\n",
        "            images = images.to(device)\n",
        "            true_masks = true_masks.to(device)\n",
        "            pred_masks = model(images)\n",
        "\n",
        "            # Convert predictions to class indices\n",
        "            pred_masks = torch.argmax(pred_masks, dim=1)\n",
        "\n",
        "            # Update mean IoU with current batch\n",
        "            mean_iou.update_state(true_masks.cpu().numpy(), pred_masks.cpu().numpy())\n",
        "\n",
        "    return mean_iou.result().numpy()"
      ]
    },
    {
      "cell_type": "markdown",
      "source": [
        "### Training function"
      ],
      "metadata": {
        "id": "QLnsFNmoSRKX"
      }
    },
    {
      "cell_type": "code",
      "execution_count": null,
      "metadata": {
        "id": "9xYSRnYb6ikR"
      },
      "outputs": [],
      "source": [
        "def train_fn(loader, model, optimizer, loss_fn, scaler):\n",
        "  model.train() # Added this but not sure if needed\n",
        "  loop = tqdm(loader)\n",
        "\n",
        "  for batch_idx, (data, targets) in enumerate(loop):\n",
        "    data = data.to(device=DEVICE)\n",
        "    targets = targets.long()\n",
        "    # targets = targets.float()\n",
        "    targets = targets.to(device=DEVICE)\n",
        "\n",
        "    # forward\n",
        "    with torch.cuda.amp.autocast():\n",
        "      predictions = model(data)\n",
        "      loss = loss_fn(predictions, targets)\n",
        "\n",
        "    # backward\n",
        "    optimizer.zero_grad()\n",
        "    scaler.scale(loss).backward()\n",
        "    scaler.step(optimizer)\n",
        "    scaler.update()\n",
        "\n",
        "    # update tqdm loop\n",
        "    loop.set_postfix(loss=loss.item())\n",
        "\n",
        "def run():\n",
        "  train_transform = A.Compose(\n",
        "      [\n",
        "          A.CenterCrop(height=IMAGE_HEIGHT, width=IMAGE_WIDTH),\n",
        "          A.Normalize(\n",
        "              mean=[0.0, 0.0, 0.0],\n",
        "              std=[1.0, 1.0, 1.0],\n",
        "              max_pixel_value=255.0,\n",
        "          ),\n",
        "          ToTensorV2(),\n",
        "      ],\n",
        "  )\n",
        "\n",
        "  val_transform = A.Compose(\n",
        "      [\n",
        "          A.CenterCrop(height=IMAGE_HEIGHT, width=IMAGE_WIDTH),\n",
        "          A.Normalize(\n",
        "              mean=[0.0, 0.0, 0.0],\n",
        "              std=[1.0, 1.0, 1.0],\n",
        "              max_pixel_value=255.0,\n",
        "          ),\n",
        "          ToTensorV2(),\n",
        "      ],\n",
        "  )\n",
        "\n",
        "  test_transform = A.Compose(\n",
        "      [\n",
        "          A.CenterCrop(height=IMAGE_HEIGHT, width=IMAGE_WIDTH),\n",
        "          A.Normalize(\n",
        "              mean=[0.0, 0.0, 0.0],\n",
        "              std=[1.0, 1.0, 1.0],\n",
        "              max_pixel_value=255.0,\n",
        "          ),\n",
        "          ToTensorV2(),\n",
        "      ]\n",
        "  )\n",
        "\n",
        "  # for different classes, change out_channels to the number of classes\n",
        "  model = UNET(512, 512, in_channels=3, out_channels=55).to(DEVICE)\n",
        "\n",
        "  checkpoint = torch.load('/content/drive/MyDrive/Archie/UNET_Checkpoint8.pth.tar')\n",
        "  model.load_state_dict(checkpoint['state_dict'])\n",
        "  # optimizer.load_state_dict(checkpoint['optimizer'])\n",
        "\n",
        "\n",
        "  loss_fn = nn.CrossEntropyLoss()\n",
        "  # binary cross entropy loss for 1 class\n",
        "  # cross entropy loss for multiple classes\n",
        "\n",
        "  optimizer = optim.Adam(model.parameters(), lr=LEARNING_RATE)\n",
        "\n",
        "  train_loader, val_loader, test_loader = get_loaders(TRAIN_PATHS, VAL_PATHS, TEST_PATHS, MASK_BASE_DIR, BATCH_SIZE, train_transform, val_transform, test_transform, NUM_WORKERS, PIN_MEMORY)\n",
        "\n",
        "  scaler = torch.cuda.amp.GradScaler()\n",
        "  for epoch in range(NUM_EPOCHS):\n",
        "    train_fn(train_loader, model, optimizer, loss_fn, scaler)\n",
        "\n",
        "    # save model\n",
        "    checkpoint = {\n",
        "        \"state_dict\": model.state_dict(),\n",
        "        \"optimizer\": optimizer.state_dict(),\n",
        "    }\n",
        "    save_checkpoint(checkpoint, epoch_number = epoch + 9)\n",
        "\n",
        "    # print(\"Evaluating model...\")\n",
        "    # mean_iou_score = evaluate_model(model, val_loader, num_classes=55, device='cuda')\n",
        "    # print(f\"Mean IoU score: {mean_iou_score}\")\n",
        "\n",
        "\n",
        "    total_loss = 0.0\n",
        "    total_samples = 0\n",
        "    with torch.no_grad():\n",
        "      for data, targets in val_loader:\n",
        "        targets = targets.long()\n",
        "        data, targets = data.to(DEVICE), targets.to(DEVICE)\n",
        "\n",
        "        # Forward pass\n",
        "        predictions = model(data)\n",
        "\n",
        "        # Calculate the loss\n",
        "        loss = loss_fn(predictions, targets)\n",
        "\n",
        "        # Update the total loss and number of samples\n",
        "        total_loss += loss.item()\n",
        "        total_samples += targets.size(0)\n",
        "\n",
        "    # Calculate the average validation loss\n",
        "    average_loss = total_loss / total_samples\n",
        "    print(f'Validation Loss: {average_loss}')\n",
        "\n",
        "    # print examples to a folder\n",
        "    if epoch == NUM_EPOCHS - 1:\n",
        "      print(\"Attempting to print to folder...\")\n",
        "      save_predictions_as_imgs(\n",
        "          val_loader, model, folder=\"/content/drive/MyDrive/Archie/output\", device=DEVICE\n",
        "      )\n",
        "      print(\"Success\")\n",
        "\n",
        "      print(\"Testing model on train dataset\")\n",
        "  print(\"Evaluating model...\")\n",
        "  mean_iou_score = evaluate_model(model, test_loader, num_classes=55, device='cuda')\n",
        "  print(f\"Mean IoU score: {mean_iou_score}\")\n"
      ]
    },
    {
      "cell_type": "code",
      "execution_count": null,
      "metadata": {
        "id": "vnsbE0SVKFuo"
      },
      "outputs": [],
      "source": [
        "def train_fn(loader, model, optimizer, loss_fn, scaler):\n",
        "  model.train() # Added this but not sure if needed\n",
        "  loop = tqdm(loader)\n",
        "\n",
        "  for batch_idx, (data, targets) in enumerate(loop):\n",
        "    data = data.to(device=DEVICE)\n",
        "    targets = targets.long()\n",
        "    # targets = targets.float()\n",
        "    targets = targets.to(device=DEVICE)\n",
        "\n",
        "    # forward\n",
        "    with torch.cuda.amp.autocast():\n",
        "      predictions = model(data)\n",
        "      loss = loss_fn(predictions, targets)\n",
        "\n",
        "    # backward\n",
        "    optimizer.zero_grad()\n",
        "    scaler.scale(loss).backward()\n",
        "    scaler.step(optimizer)\n",
        "    scaler.update()\n",
        "\n",
        "    # update tqdm loop\n",
        "    loop.set_postfix(loss=loss.item())\n",
        "\n",
        "def run():\n",
        "  train_transform = A.Compose(\n",
        "      [\n",
        "          A.CenterCrop(height=IMAGE_HEIGHT, width=IMAGE_WIDTH),\n",
        "          A.Normalize(\n",
        "              mean=[0.0, 0.0, 0.0],\n",
        "              std=[1.0, 1.0, 1.0],\n",
        "              max_pixel_value=255.0,\n",
        "          ),\n",
        "          ToTensorV2(),\n",
        "      ],\n",
        "  )\n",
        "\n",
        "  val_transform = A.Compose(\n",
        "      [\n",
        "          A.CenterCrop(height=IMAGE_HEIGHT, width=IMAGE_WIDTH),\n",
        "          A.Normalize(\n",
        "              mean=[0.0, 0.0, 0.0],\n",
        "              std=[1.0, 1.0, 1.0],\n",
        "              max_pixel_value=255.0,\n",
        "          ),\n",
        "          ToTensorV2(),\n",
        "      ],\n",
        "  )\n",
        "\n",
        "  test_transform = A.Compose(\n",
        "      [\n",
        "          A.CenterCrop(height=IMAGE_HEIGHT, width=IMAGE_WIDTH),\n",
        "          A.Normalize(\n",
        "              mean=[0.0, 0.0, 0.0],\n",
        "              std=[1.0, 1.0, 1.0],\n",
        "              max_pixel_value=255.0,\n",
        "          ),\n",
        "          ToTensorV2(),\n",
        "      ]\n",
        "  )\n",
        "\n",
        "  # for different classes, change out_channels to the number of classes\n",
        "  model = UNET(512, 512, in_channels=3, out_channels=55).to(DEVICE)\n",
        "\n",
        "  checkpoint = torch.load('/content/drive/MyDrive/Archie/UNET_Checkpoint11.pth.tar')\n",
        "  model.load_state_dict(checkpoint['state_dict'])\n",
        "  # optimizer.load_state_dict(checkpoint['optimizer'])\n",
        "\n",
        "\n",
        "  loss_fn = nn.CrossEntropyLoss()\n",
        "  # binary cross entropy loss for 1 class\n",
        "  # cross entropy loss for multiple classes\n",
        "\n",
        "  optimizer = optim.Adam(model.parameters(), lr=LEARNING_RATE)\n",
        "\n",
        "  # train_loader, val_loader, test_loader = get_loaders(TRAIN_PATHS, VAL_PATHS, TEST_PATHS, MASK_BASE_DIR, BATCH_SIZE, train_transform, val_transform, test_transform, NUM_WORKERS, PIN_MEMORY)\n",
        "\n",
        "\n",
        "  test_loader = get_test_loader(TEST_PATHS, MASK_BASE_DIR, BATCH_SIZE, test_transform, NUM_WORKERS, PIN_MEMORY)\n",
        "  # scaler = torch.cuda.amp.GradScaler()\n",
        "\n",
        "  print(\"Evaluating model...\")\n",
        "  mean_iou_score = evaluate_model(model, test_loader, num_classes=55, device='cuda')\n",
        "  print(f\"Mean IoU score: {mean_iou_score}\")\n",
        "  # for epoch in range(NUM_EPOCHS):\n",
        "  #   train_fn(train_loader, model, optimizer, loss_fn, scaler)\n",
        "\n",
        "  #   # save model\n",
        "  #   checkpoint = {\n",
        "  #       \"state_dict\": model.state_dict(),\n",
        "  #       \"optimizer\": optimizer.state_dict(),\n",
        "  #   }\n",
        "  #   save_checkpoint(checkpoint, epoch_number = epoch + 9)\n",
        "\n",
        "    # print(\"Evaluating model...\")\n",
        "    # mean_iou_score = evaluate_model(model, val_loader, num_classes=55, device='cuda')\n",
        "    # print(f\"Mean IoU score: {mean_iou_score}\")\n",
        "\n",
        "\n",
        "    # total_loss = 0.0\n",
        "    # total_samples = 0\n",
        "    # with torch.no_grad():\n",
        "    #   for data, targets in val_loader:\n",
        "    #     targets = targets.long()\n",
        "    #     data, targets = data.to(DEVICE), targets.to(DEVICE)\n",
        "\n",
        "    #     # Forward pass\n",
        "    #     predictions = model(data)\n",
        "\n",
        "    #     # Calculate the loss\n",
        "    #     loss = loss_fn(predictions, targets)\n",
        "\n",
        "    #     # Update the total loss and number of samples\n",
        "    #     total_loss += loss.item()\n",
        "    #     total_samples += targets.size(0)\n",
        "\n",
        "    # Calculate the average validation loss\n",
        "    # average_loss = total_loss / total_samples\n",
        "    # print(f'Validation Loss: {average_loss}')\n",
        "\n",
        "    # print examples to a folder\n",
        "    # if epoch == NUM_EPOCHS - 1:\n",
        "    #   print(\"Attempting to print to folder...\")\n",
        "    #   save_predictions_as_imgs(\n",
        "    #       val_loader, model, folder=\"/content/drive/MyDrive/Archie/output\", device=DEVICE\n",
        "    #   )\n",
        "    #   print(\"Success\")\n",
        "\n",
        "    #   print(\"Testing model on train dataset\")\n",
        "  # print(\"Evaluating model...\")\n",
        "  # mean_iou_score = evaluate_model(model, test_loader, num_classes=55, device='cuda')\n",
        "  # print(f\"Mean IoU score: {mean_iou_score}\")\n"
      ]
    },
    {
      "cell_type": "markdown",
      "source": [
        "### Run some images through the model"
      ],
      "metadata": {
        "id": "KmOqAilASqnD"
      }
    },
    {
      "cell_type": "code",
      "source": [
        "def run():\n",
        "  train_transform = A.Compose(\n",
        "      [\n",
        "          A.CenterCrop(height=IMAGE_HEIGHT, width=IMAGE_WIDTH),\n",
        "          A.Normalize(\n",
        "              mean=[0.0, 0.0, 0.0],\n",
        "              std=[1.0, 1.0, 1.0],\n",
        "              max_pixel_value=255.0,\n",
        "          ),\n",
        "          ToTensorV2(),\n",
        "      ],\n",
        "  )\n",
        "\n",
        "  val_transform = A.Compose(\n",
        "      [\n",
        "          A.CenterCrop(height=IMAGE_HEIGHT, width=IMAGE_WIDTH),\n",
        "          A.Normalize(\n",
        "              mean=[0.0, 0.0, 0.0],\n",
        "              std=[1.0, 1.0, 1.0],\n",
        "              max_pixel_value=255.0,\n",
        "          ),\n",
        "          ToTensorV2(),\n",
        "      ],\n",
        "  )\n",
        "\n",
        "  test_transform = A.Compose(\n",
        "      [\n",
        "          A.CenterCrop(height=IMAGE_HEIGHT, width=IMAGE_WIDTH),\n",
        "          A.Normalize(\n",
        "              mean=[0.0, 0.0, 0.0],\n",
        "              std=[1.0, 1.0, 1.0],\n",
        "              max_pixel_value=255.0,\n",
        "          ),\n",
        "          ToTensorV2(),\n",
        "      ]\n",
        "  )\n",
        "\n",
        "  # for different classes, change out_channels to the number of classes\n",
        "  model = UNET(512, 512, in_channels=3, out_channels=55).to(DEVICE)\n",
        "\n",
        "  checkpoint = torch.load('/content/drive/MyDrive/Archie/UNET_Checkpoint11.pth.tar', map_location=torch.device('cpu'))\n",
        "  model.load_state_dict(checkpoint['state_dict'])\n",
        "  # optimizer.load_state_dict(checkpoint['optimizer'])\n",
        "\n",
        "\n",
        "  # loss_fn = nn.CrossEntropyLoss()\n",
        "  # binary cross entropy loss for 1 class\n",
        "  # cross entropy loss for multiple classes\n",
        "\n",
        "  # optimizer = optim.Adam(model.parameters(), lr=LEARNING_RATE)\n",
        "\n",
        "  # train_loader, val_loader, test_loader = get_loaders(TRAIN_PATHS, VAL_PATHS, TEST_PATHS, MASK_BASE_DIR, BATCH_SIZE, train_transform, val_transform, test_transform, NUM_WORKERS, PIN_MEMORY)\n",
        "\n",
        "\n",
        "  test_loader = get_test_loader(TEST_PATHS, MASK_BASE_DIR, BATCH_SIZE, test_transform, NUM_WORKERS, PIN_MEMORY)\n",
        "\n",
        "  # test_ds = A2D2Dataset(test_paths, mask_base_dir, transform=test_transform)\n",
        "  # test_loader = DataLoader(test_ds, batch_size=batch_size, num_workers=num_workers, pin_memory=pin_memory, shuffle=False)\n",
        "\n",
        "  # scaler = torch.cuda.amp.GradScaler()\n",
        "\n",
        "  save_predictions_as_imgs(test_loader, model, folder = \"/content/drive/MyDrive/Archie/ICUR\", device=DEVICE)\n",
        "\n",
        "  # print(\"Evaluating model...\")\n",
        "  # mean_iou_score = evaluate_model(model, test_loader, num_classes=55, device='cuda')\n",
        "  # print(f\"Mean IoU score: {mean_iou_score}\")\n",
        "\n",
        "    # print examples to a folder\n",
        "    # if epoch == NUM_EPOCHS - 1:\n",
        "    #   print(\"Attempting to print to folder...\")\n",
        "    #   save_predictions_as_imgs(\n",
        "    #       val_loader, model, folder=\"/content/drive/MyDrive/Archie/output\", device=DEVICE\n",
        "    #   )\n",
        "    #   print(\"Success\")\n",
        "\n",
        "  print(\"Success!\")\n"
      ],
      "metadata": {
        "id": "3wwVZb_mSvUt"
      },
      "execution_count": null,
      "outputs": []
    },
    {
      "cell_type": "markdown",
      "source": [
        "### Confusion Matrix"
      ],
      "metadata": {
        "id": "85-V8t-6RFaj"
      }
    },
    {
      "cell_type": "code",
      "source": [
        "import seaborn as sn\n",
        "import matplotlib.pyplot as plt\n",
        "import numpy as np\n",
        "\n",
        "def plot_matrix(data):\n",
        "    y_labels = [\n",
        "        \"Car 1\", \"Car 2\", \"Car 3\", \"Car 4\",\n",
        "        \"Bicycle 1\", \"Bicycle 2\", \"Bicycle 3\", \"Bicycle 4\",\n",
        "        \"Pedestrian 1\", \"Pedestrian 2\", \"Pedestrian 3\",\n",
        "        \"Truck 1\", \"Truck 2\", \"Truck 3\",\n",
        "        \"Small vehicles 1\", \"Small vehicles 2\", \"Small vehicles 3\",\n",
        "        \"Traffic signal 1\", \"Traffic signal 2\", \"Traffic signal 3\",\n",
        "        \"Traffic sign 1\", \"Traffic sign 2\", \"Traffic sign 3\",\n",
        "        \"Utility vehicle 1\", \"Utility vehicle 2\",\n",
        "        \"Sidebars\", \"Speed bumper\", \"Curbstone\", \"Solid line\",\n",
        "        \"Irrelevant signs\", \"Road blocks\", \"Tractor\",\n",
        "        \"Non-drivable street\", \"Zebra crossing\", \"Obstacles / trash\", \"Poles\",\n",
        "        \"RD restricted area\", \"Animals\", \"Grid structure\", \"Signal corpus\",\n",
        "        \"Drivable cobblestone\", \"Electronic traffic\", \"Slow drive area\",\n",
        "        \"Nature object\", \"Parking area\", \"Sidewalk\", \"Ego car\",\n",
        "        \"Painted driv. instr.\", \"Traffic guide obj.\", \"Dashed line\",\n",
        "        \"RD normal street\", \"Sky\", \"Buildings\", \"Blurred area\", \"Rain dirt\"\n",
        "    ]\n",
        "\n",
        "    x_labels = [\n",
        "        \"Car 1\", \"Car 2\", \"Car 3\", \"Car 4\",\n",
        "        \"Bicycle 1\", \"Bicycle 2\", \"Bicycle 3\", \"Bicycle 4\",\n",
        "        \"Pedestrian 1\", \"Pedestrian 2\", \"Pedestrian 3\",\n",
        "        \"Truck 1\", \"Truck 2\", \"Truck 3\",\n",
        "        \"Small vehicles 1\", \"Small vehicles 2\", \"Small vehicles 3\",\n",
        "        \"Traffic signal 1\", \"Traffic signal 2\", \"Traffic signal 3\",\n",
        "        \"Traffic sign 1\", \"Traffic sign 2\", \"Traffic sign 3\",\n",
        "        \"Utility vehicle 1\", \"Utility vehicle 2\",\n",
        "        \"Sidebars\", \"Speed bumper\", \"Curbstone\", \"Solid line\",\n",
        "        \"Irrelevant signs\", \"Road blocks\", \"Tractor\",\n",
        "        \"Non-drivable street\", \"Zebra crossing\", \"Obstacles / trash\", \"Poles\",\n",
        "        \"RD restricted area\", \"Animals\", \"Grid structure\", \"Signal corpus\",\n",
        "        \"Drivable cobblestone\", \"Electronic traffic\", \"Slow drive area\",\n",
        "        \"Nature object\", \"Parking area\", \"Sidewalk\", \"Ego car\",\n",
        "        \"Painted driv. instr.\", \"Traffic guide obj.\", \"Dashed line\",\n",
        "        \"RD normal street\", \"Sky\", \"Buildings\", \"Blurred area\", \"Rain dirt\"\n",
        "    ]\n",
        "\n",
        "    # Create a list to store the indices of non-empty columns\n",
        "    non_empty_columns = [i for i, col in enumerate(data.T) if any(col)]\n",
        "\n",
        "    # Remove empty columns and corresponding rows\n",
        "    data_filtered = data[:, non_empty_columns]\n",
        "    axis_labels_filtered = [label for i, label in enumerate(axis_labels) if i in non_empty_columns]\n",
        "\n",
        "    # Normalize each row to represent the percentage of the total in its row\n",
        "    data_percentage = (data_filtered.T / data_filtered.sum(axis=1)).T * 100\n",
        "\n",
        "    # Calculate column sums\n",
        "    col_sums = np.sum(data_filtered, axis=0)\n",
        "\n",
        "    # Convert data to percentages\n",
        "    percentage_matrix = (data_filtered / col_sums) * 100\n",
        "\n",
        "    # Create the heatmap\n",
        "    hm = sn.heatmap(data=percentage_matrix, xticklabels=axis_labels_filtered, yticklabels=axis_labels_filtered)\n",
        "\n",
        "    print(percentage_matrix)\n",
        "    # Set the font size\n",
        "    font = {'size': 4}\n",
        "    plt.rc('font', **font)\n",
        "\n",
        "    # Set the title and labels\n",
        "    plt.title(\"Image Segmentation Decision Matrix (Percentage)\")\n",
        "    plt.xlabel(\"Predicted Labels\")\n",
        "    plt.ylabel(\"True Labels\")\n",
        "\n",
        "    # Display the figure\n",
        "    plt.show()\n",
        "\n",
        "# Example usage\n",
        "# Sample data\n",
        "\n"
      ],
      "metadata": {
        "id": "ogEVo_rbxl53"
      },
      "execution_count": null,
      "outputs": []
    },
    {
      "cell_type": "code",
      "source": [
        "import seaborn as sn\n",
        "import matplotlib.pyplot as plt\n",
        "import numpy as np\n",
        "\n",
        "def plot_matrix(data):\n",
        "    # Calculate column sums\n",
        "\n",
        "\n",
        "    labels = [\n",
        "      \"Car 1\",\n",
        "      \"Car 2\",\n",
        "      \"Car 3\",\n",
        "      \"Car 4\",\n",
        "      \"Bicycle 1\",\n",
        "      \"Bicycle 2\",\n",
        "      \"Bicycle 3\",\n",
        "      \"Bicycle 4\",\n",
        "      \"Pedestrian 1\",\n",
        "      \"Pedestrian 2\",\n",
        "      \"Pedestrian 3\",\n",
        "      \"Truck 1\",\n",
        "      \"Truck 2\",\n",
        "      \"Truck 3\",\n",
        "      \"Small vehicles 1\",\n",
        "      \"Small vehicles 2\",\n",
        "      \"Small vehicles 3\",\n",
        "      \"Traffic signal 1\",\n",
        "      \"Traffic signal 2\",\n",
        "      \"Traffic signal 3\",\n",
        "      \"Traffic sign 1\",\n",
        "      \"Traffic sign 2\",\n",
        "      \"Traffic sign 3\",\n",
        "      \"Utility vehicle 1\",\n",
        "      \"Utility vehicle 2\",\n",
        "      \"Sidebars\",\n",
        "      \"Speed bumper\",\n",
        "      \"Curbstone\",\n",
        "      \"Solid line\",\n",
        "      \"Irrelevant signs\",\n",
        "      \"Road blocks\",\n",
        "      \"Tractor\",\n",
        "      \"Non-drivable street\",\n",
        "      \"Zebra crossing\",\n",
        "      \"Obstacles / trash\",\n",
        "      \"Poles\",\n",
        "      \"RD restricted area\",\n",
        "      \"Animals\",\n",
        "      \"Grid structure\",\n",
        "      \"Signal corpus\",\n",
        "      \"Drivable cobblestone\",\n",
        "      \"Electronic traffic\",\n",
        "      \"Slow drive area\",\n",
        "      \"Nature object\",\n",
        "      \"Parking area\",\n",
        "      \"Sidewalk\",\n",
        "      \"Ego car\",\n",
        "      \"Painted driv. instr.\",\n",
        "      \"Traffic guide obj.\",\n",
        "      \"Dashed line\",\n",
        "      \"RD normal street\",\n",
        "      \"Sky\",\n",
        "      \"Buildings\",\n",
        "      \"Blurred area\",\n",
        "      \"Rain dirt\"\n",
        "  ]\n",
        "    # Convert data to percentages\n",
        "\n",
        "\n",
        "    # Remove empty rows and columns\n",
        "    non_empty_rows = np.any(data != 0, axis=1)\n",
        "    non_empty_cols = np.any(data != 0, axis=0)\n",
        "\n",
        "    filtered_data = data[non_empty_rows][:, non_empty_cols]\n",
        "    filtered_labels = [label for i, label in enumerate(labels) if non_empty_rows[i] and non_empty_cols[i]]\n",
        "\n",
        "\n",
        "    col_sums = np.sum(filtered_data, axis=0)\n",
        "    percentage_matrix = (filtered_data / col_sums) * 100\n",
        "    hm = sn.heatmap(data=percentage_matrix, xticklabels=filtered_labels, yticklabels=filtered_labels)\n",
        "\n",
        "    font = {'size': 4}\n",
        "    plt.rc('font', **font)\n",
        "\n",
        "    plt.title(\"Image Segmentation Decision Matrix (Percentages)\")\n",
        "    plt.xlabel(\"Predicted Labels\")\n",
        "    plt.ylabel(\"True Labels\")\n",
        "\n",
        "    plt.show()\n",
        "\n",
        "# Example usage:\n",
        "# Replace 'your_data' and 'your_labels' with your actual data and labels\n",
        "\n"
      ],
      "metadata": {
        "id": "oUJpUTzzxl2l"
      },
      "execution_count": null,
      "outputs": []
    },
    {
      "cell_type": "code",
      "source": [
        "import seaborn as sn\n",
        "import matplotlib.pyplot as plt\n",
        "\n",
        "def plot_matrix(data):\n",
        "\n",
        "  x_labels = [\n",
        "      \"Car 1\",\n",
        "      \"Car 2\",\n",
        "      \"Car 3\",\n",
        "      \"Car 4\",\n",
        "      \"Bicycle 1\",\n",
        "      \"Bicycle 2\",\n",
        "      \"Bicycle 3\",\n",
        "      \"Bicycle 4\",\n",
        "      \"Pedestrian 1\",\n",
        "      \"Pedestrian 2\",\n",
        "      \"Pedestrian 3\",\n",
        "      \"Truck 1\",\n",
        "      \"Truck 2\",\n",
        "      \"Truck 3\",\n",
        "      \"Small vehicles 1\",\n",
        "      \"Small vehicles 2\",\n",
        "      \"Small vehicles 3\",\n",
        "      \"Traffic signal 1\",\n",
        "      \"Traffic signal 2\",\n",
        "      \"Traffic signal 3\",\n",
        "      \"Traffic sign 1\",\n",
        "      \"Traffic sign 2\",\n",
        "      \"Traffic sign 3\",\n",
        "      \"Utility vehicle 1\",\n",
        "      \"Utility vehicle 2\",\n",
        "      \"Sidebars\",\n",
        "      \"Speed bumper\",\n",
        "      \"Curbstone\",\n",
        "      \"Solid line\",\n",
        "      \"Irrelevant signs\",\n",
        "      \"Road blocks\",\n",
        "      \"Tractor\",\n",
        "      \"Non-drivable street\",\n",
        "      \"Zebra crossing\",\n",
        "      \"Obstacles / trash\",\n",
        "      \"Poles\",\n",
        "      \"RD restricted area\",\n",
        "      \"Animals\",\n",
        "      \"Grid structure\",\n",
        "      \"Signal corpus\",\n",
        "      \"Drivable cobblestone\",\n",
        "      \"Electronic traffic\",\n",
        "      \"Slow drive area\",\n",
        "      \"Nature object\",\n",
        "      \"Parking area\",\n",
        "      \"Sidewalk\",\n",
        "      \"Ego car\",\n",
        "      \"Painted driv. instr.\",\n",
        "      \"Traffic guide obj.\",\n",
        "      \"Dashed line\",\n",
        "      \"RD normal street\",\n",
        "      \"Sky\",\n",
        "      \"Buildings\",\n",
        "      \"Blurred area\",\n",
        "      \"Rain dirt\"\n",
        "  ]\n",
        "\n",
        "  y_labels = [\n",
        "      \"Car 1\",\n",
        "      \"Car 2\",\n",
        "      \"Car 3\",\n",
        "      \"Car 4\",\n",
        "      \"Bicycle 1\",\n",
        "      \"Bicycle 2\",\n",
        "      \"Bicycle 3\",\n",
        "      \"Bicycle 4\",\n",
        "      \"Pedestrian 1\",\n",
        "      \"Pedestrian 2\",\n",
        "      \"Pedestrian 3\",\n",
        "      \"Truck 1\",\n",
        "      \"Truck 2\",\n",
        "      \"Truck 3\",\n",
        "      \"Small vehicles 1\",\n",
        "      \"Small vehicles 2\",\n",
        "      \"Small vehicles 3\",\n",
        "      \"Traffic signal 1\",\n",
        "      \"Traffic signal 2\",\n",
        "      \"Traffic signal 3\",\n",
        "      \"Traffic sign 1\",\n",
        "      \"Traffic sign 2\",\n",
        "      \"Traffic sign 3\",\n",
        "      \"Utility vehicle 1\",\n",
        "      \"Utility vehicle 2\",\n",
        "      \"Sidebars\",\n",
        "      \"Speed bumper\",\n",
        "      \"Curbstone\",\n",
        "      \"Solid line\",\n",
        "      \"Irrelevant signs\",\n",
        "      \"Road blocks\",\n",
        "      \"Tractor\",\n",
        "      \"Non-drivable street\",\n",
        "      \"Zebra crossing\",\n",
        "      \"Obstacles / trash\",\n",
        "      \"Poles\",\n",
        "      \"RD restricted area\",\n",
        "      \"Animals\",\n",
        "      \"Grid structure\",\n",
        "      \"Signal corpus\",\n",
        "      \"Drivable cobblestone\",\n",
        "      \"Electronic traffic\",\n",
        "      \"Slow drive area\",\n",
        "      \"Nature object\",\n",
        "      \"Parking area\",\n",
        "      \"Sidewalk\",\n",
        "      \"Ego car\",\n",
        "      \"Painted driv. instr.\",\n",
        "      \"Traffic guide obj.\",\n",
        "      \"Dashed line\",\n",
        "      \"RD normal street\",\n",
        "      \"Sky\",\n",
        "      \"Buildings\",\n",
        "      \"Blurred area\",\n",
        "      \"Rain dirt\"\n",
        "  ]\n",
        "\n",
        "\n",
        "  hm = sn.heatmap(data=data, xticklabels=x_labels, yticklabels=y_labels)\n",
        "\n",
        "\n",
        "  font = {'size': 4}\n",
        "\n",
        "  # using rc function\n",
        "  plt.rc('font', **font)\n",
        "\n",
        "\n",
        "  plt.title(\"Image Segmentation Decision Matrix\")\n",
        "  plt.xlabel(\"Predicted Labels\")\n",
        "  plt.ylabel(\"True Labels\")\n",
        "\n",
        "  # plt.figure(figsize=(5000,5000))\n",
        "\n",
        "  plt.show()"
      ],
      "metadata": {
        "id": "J-9jzLco4Qao"
      },
      "execution_count": null,
      "outputs": []
    },
    {
      "cell_type": "code",
      "source": [
        "import seaborn as sn\n",
        "import matplotlib.pyplot as plt\n",
        "import numpy as np\n",
        "\n",
        "def plot_matrix(data):\n",
        "    labels = [\n",
        "      \"Car 1\",\n",
        "      \"Car 2\",\n",
        "      \"Car 3\",\n",
        "      \"Car 4\",\n",
        "      \"Bicycle 1\",\n",
        "      \"Bicycle 2\",\n",
        "      \"Bicycle 3\",\n",
        "      \"Bicycle 4\",\n",
        "      \"Pedestrian 1\",\n",
        "      \"Pedestrian 2\",\n",
        "      \"Pedestrian 3\",\n",
        "      \"Truck 1\",\n",
        "      \"Truck 2\",\n",
        "      \"Truck 3\",\n",
        "      \"Small vehicles 1\",\n",
        "      \"Small vehicles 2\",\n",
        "      \"Small vehicles 3\",\n",
        "      \"Traffic signal 1\",\n",
        "      \"Traffic signal 2\",\n",
        "      \"Traffic signal 3\",\n",
        "      \"Traffic sign 1\",\n",
        "      \"Traffic sign 2\",\n",
        "      \"Traffic sign 3\",\n",
        "      \"Utility vehicle 1\",\n",
        "      \"Utility vehicle 2\",\n",
        "      \"Sidebars\",\n",
        "      \"Speed bumper\",\n",
        "      \"Curbstone\",\n",
        "      \"Solid line\",\n",
        "      \"Irrelevant signs\",\n",
        "      \"Road blocks\",\n",
        "      \"Tractor\",\n",
        "      \"Non-drivable street\",\n",
        "      \"Zebra crossing\",\n",
        "      \"Obstacles / trash\",\n",
        "      \"Poles\",\n",
        "      \"RD restricted area\",\n",
        "      \"Animals\",\n",
        "      \"Grid structure\",\n",
        "      \"Signal corpus\",\n",
        "      \"Drivable cobblestone\",\n",
        "      \"Electronic traffic\",\n",
        "      \"Slow drive area\",\n",
        "      \"Nature object\",\n",
        "      \"Parking area\",\n",
        "      \"Sidewalk\",\n",
        "      \"Ego car\",\n",
        "      \"Painted driv. instr.\",\n",
        "      \"Traffic guide obj.\",\n",
        "      \"Dashed line\",\n",
        "      \"RD normal street\",\n",
        "      \"Sky\",\n",
        "      \"Buildings\",\n",
        "      \"Blurred area\",\n",
        "      \"Rain dirt\"\n",
        "  ]\n",
        "\n",
        "    col_sums = np.sum(data, axis=0)\n",
        "\n",
        "    # Check for zero values in col_sums\n",
        "    zero_col_sums = np.where(col_sums == 0)[0]\n",
        "\n",
        "    # Exclude columns with zero sums from both col_sums and data\n",
        "    valid_cols = np.delete(np.arange(len(col_sums)), zero_col_sums)\n",
        "    col_sums = col_sums[valid_cols]\n",
        "    data = data[:, valid_cols]\n",
        "\n",
        "    # Check for zero values in col_sums again after removing invalid columns\n",
        "    zero_col_sums = np.where(col_sums == 0)[0]\n",
        "\n",
        "    # Avoid division by zero\n",
        "    col_sums[zero_col_sums] = 1\n",
        "\n",
        "    # Convert data to percentages\n",
        "    percentage_matrix = (data / col_sums) * 100\n",
        "\n",
        "    # Find indices of non-empty rows and columns\n",
        "    non_empty_indices = np.any(data != 0, axis=1)\n",
        "    filtered_data = data[non_empty_indices][:, non_empty_indices]\n",
        "    filtered_labels = [label for i, label in enumerate(labels) if non_empty_indices[i]]\n",
        "\n",
        "    hm = sn.heatmap(data=percentage_matrix, xticklabels=filtered_labels, yticklabels=filtered_labels)\n",
        "\n",
        "    font = {'size': 4}\n",
        "    plt.rc('font', **font)\n",
        "\n",
        "    plt.title(\"Image Segmentation Decision Matrix (Percentages)\")\n",
        "    plt.xlabel(\"Predicted Labels\")\n",
        "    plt.ylabel(\"True Labels\")\n",
        "\n",
        "    plt.show()\n",
        "\n",
        "# Example usage\n",
        "\n",
        "plot_matrix(accumulatedArray)\n"
      ],
      "metadata": {
        "colab": {
          "base_uri": "https://localhost:8080/",
          "height": 332
        },
        "id": "bNR1aIKQOHig",
        "outputId": "81553bee-5845-489a-c325-cf081c405c27"
      },
      "execution_count": null,
      "outputs": [
        {
          "output_type": "error",
          "ename": "IndexError",
          "evalue": "boolean index did not match indexed array along dimension 1; dimension is 0 but corresponding boolean dimension is 55",
          "traceback": [
            "\u001b[0;31m---------------------------------------------------------------------------\u001b[0m",
            "\u001b[0;31mIndexError\u001b[0m                                Traceback (most recent call last)",
            "\u001b[0;32m<ipython-input-53-066cc4789925>\u001b[0m in \u001b[0;36m<cell line: 101>\u001b[0;34m()\u001b[0m\n\u001b[1;32m     99\u001b[0m \u001b[0;31m# Example usage\u001b[0m\u001b[0;34m\u001b[0m\u001b[0;34m\u001b[0m\u001b[0m\n\u001b[1;32m    100\u001b[0m \u001b[0;34m\u001b[0m\u001b[0m\n\u001b[0;32m--> 101\u001b[0;31m \u001b[0mplot_matrix\u001b[0m\u001b[0;34m(\u001b[0m\u001b[0maccumulatedArray\u001b[0m\u001b[0;34m)\u001b[0m\u001b[0;34m\u001b[0m\u001b[0;34m\u001b[0m\u001b[0m\n\u001b[0m",
            "\u001b[0;32m<ipython-input-53-066cc4789925>\u001b[0m in \u001b[0;36mplot_matrix\u001b[0;34m(data)\u001b[0m\n\u001b[1;32m     83\u001b[0m     \u001b[0;31m# Find indices of non-empty rows and columns\u001b[0m\u001b[0;34m\u001b[0m\u001b[0;34m\u001b[0m\u001b[0m\n\u001b[1;32m     84\u001b[0m     \u001b[0mnon_empty_indices\u001b[0m \u001b[0;34m=\u001b[0m \u001b[0mnp\u001b[0m\u001b[0;34m.\u001b[0m\u001b[0many\u001b[0m\u001b[0;34m(\u001b[0m\u001b[0mdata\u001b[0m \u001b[0;34m!=\u001b[0m \u001b[0;36m0\u001b[0m\u001b[0;34m,\u001b[0m \u001b[0maxis\u001b[0m\u001b[0;34m=\u001b[0m\u001b[0;36m1\u001b[0m\u001b[0;34m)\u001b[0m\u001b[0;34m\u001b[0m\u001b[0;34m\u001b[0m\u001b[0m\n\u001b[0;32m---> 85\u001b[0;31m     \u001b[0mfiltered_data\u001b[0m \u001b[0;34m=\u001b[0m \u001b[0mdata\u001b[0m\u001b[0;34m[\u001b[0m\u001b[0mnon_empty_indices\u001b[0m\u001b[0;34m]\u001b[0m\u001b[0;34m[\u001b[0m\u001b[0;34m:\u001b[0m\u001b[0;34m,\u001b[0m \u001b[0mnon_empty_indices\u001b[0m\u001b[0;34m]\u001b[0m\u001b[0;34m\u001b[0m\u001b[0;34m\u001b[0m\u001b[0m\n\u001b[0m\u001b[1;32m     86\u001b[0m     \u001b[0mfiltered_labels\u001b[0m \u001b[0;34m=\u001b[0m \u001b[0;34m[\u001b[0m\u001b[0mlabel\u001b[0m \u001b[0;32mfor\u001b[0m \u001b[0mi\u001b[0m\u001b[0;34m,\u001b[0m \u001b[0mlabel\u001b[0m \u001b[0;32min\u001b[0m \u001b[0menumerate\u001b[0m\u001b[0;34m(\u001b[0m\u001b[0mlabels\u001b[0m\u001b[0;34m)\u001b[0m \u001b[0;32mif\u001b[0m \u001b[0mnon_empty_indices\u001b[0m\u001b[0;34m[\u001b[0m\u001b[0mi\u001b[0m\u001b[0;34m]\u001b[0m\u001b[0;34m]\u001b[0m\u001b[0;34m\u001b[0m\u001b[0;34m\u001b[0m\u001b[0m\n\u001b[1;32m     87\u001b[0m \u001b[0;34m\u001b[0m\u001b[0m\n",
            "\u001b[0;31mIndexError\u001b[0m: boolean index did not match indexed array along dimension 1; dimension is 0 but corresponding boolean dimension is 55"
          ]
        }
      ]
    },
    {
      "cell_type": "code",
      "source": [
        "accumulatedArray = np.zeros((55,55))"
      ],
      "metadata": {
        "id": "ZwDNXmV1_kzt"
      },
      "execution_count": null,
      "outputs": []
    },
    {
      "cell_type": "code",
      "source": [
        "def train_fn(loader, model, optimizer, loss_fn, scaler):\n",
        "  model.train() # Added this but not sure if needed\n",
        "  loop = tqdm(loader)\n",
        "\n",
        "  for batch_idx, (data, targets) in enumerate(loop):\n",
        "    data = data.to(device=DEVICE)\n",
        "    targets = targets.long()\n",
        "    # targets = targets.float()\n",
        "    targets = targets.to(device=DEVICE)\n",
        "\n",
        "    # forward\n",
        "    with torch.cuda.amp.autocast():\n",
        "      predictions = model(data)\n",
        "      loss = loss_fn(predictions, targets)\n",
        "\n",
        "    # backward\n",
        "    optimizer.zero_grad()\n",
        "    scaler.scale(loss).backward()\n",
        "    scaler.step(optimizer)\n",
        "    scaler.update()\n",
        "\n",
        "    # update tqdm loop\n",
        "    loop.set_postfix(loss=loss.item())\n",
        "\n",
        "def run():\n",
        "  train_transform = A.Compose(\n",
        "      [\n",
        "          A.CenterCrop(height=IMAGE_HEIGHT, width=IMAGE_WIDTH),\n",
        "          A.Normalize(\n",
        "              mean=[0.0, 0.0, 0.0],\n",
        "              std=[1.0, 1.0, 1.0],\n",
        "              max_pixel_value=255.0,\n",
        "          ),\n",
        "          ToTensorV2(),\n",
        "      ],\n",
        "  )\n",
        "\n",
        "  val_transform = A.Compose(\n",
        "      [\n",
        "          A.CenterCrop(height=IMAGE_HEIGHT, width=IMAGE_WIDTH),\n",
        "          A.Normalize(\n",
        "              mean=[0.0, 0.0, 0.0],\n",
        "              std=[1.0, 1.0, 1.0],\n",
        "              max_pixel_value=255.0,\n",
        "          ),\n",
        "          ToTensorV2(),\n",
        "      ],\n",
        "  )\n",
        "\n",
        "  test_transform = A.Compose(\n",
        "      [\n",
        "          A.CenterCrop(height=IMAGE_HEIGHT, width=IMAGE_WIDTH),\n",
        "          A.Normalize(\n",
        "              mean=[0.0, 0.0, 0.0],\n",
        "              std=[1.0, 1.0, 1.0],\n",
        "              max_pixel_value=255.0,\n",
        "          ),\n",
        "          ToTensorV2(),\n",
        "      ]\n",
        "  )\n",
        "\n",
        "  # for different classes, change out_channels to the number of classes\n",
        "  model = UNET(512, 512, in_channels=3, out_channels=55).to(DEVICE)\n",
        "\n",
        "  checkpoint = torch.load('/content/drive/MyDrive/Archie/UNET_Checkpoint11.pth.tar', map_location=torch.device('cpu'))\n",
        "  model.load_state_dict(checkpoint['state_dict'])\n",
        "  # optimizer.load_state_dict(checkpoint['optimizer'])\n",
        "\n",
        "\n",
        "  loss_fn = nn.CrossEntropyLoss()\n",
        "  # binary cross entropy loss for 1 class\n",
        "  # cross entropy loss for multiple classes\n",
        "\n",
        "  optimizer = optim.Adam(model.parameters(), lr=LEARNING_RATE)\n",
        "\n",
        "  # train_loader, val_loader, test_loader = get_loaders(TRAIN_PATHS, VAL_PATHS, TEST_PATHS, MASK_BASE_DIR, BATCH_SIZE, train_transform, val_transform, test_transform, NUM_WORKERS, PIN_MEMORY)\n",
        "\n",
        "  BATCH_SIZE = 1\n",
        "  test_loader = get_test_loader(TEST_PATHS, MASK_BASE_DIR, BATCH_SIZE, test_transform, NUM_WORKERS, PIN_MEMORY)\n",
        "  # scaler = torch.cuda.amp.GradScaler()\n",
        "\n",
        "  # print(\"Evaluating model...\")\n",
        "  # mean_iou_score = evaluate_model(model, test_loader, num_classes=55, device='cuda')\n",
        "  # print(f\"Mean IoU score: {mean_iou_score}\")\n",
        "\n",
        "# ------------------------\n",
        "\n",
        "\n",
        "  model.eval()  # Set the model to evaluation mode\n",
        "  # mean_iou = MeanIoU(num_classes=num_classes)\n",
        "\n",
        "\n",
        "\n",
        "  # Run through images in the test dataset\n",
        "  # Loop through pixels and update accumulatedArray\n",
        "  # i index represents the true pixel label\n",
        "  # j index represents the predicted pixel lab\n",
        "\n",
        "\n",
        "  count = 1\n",
        "  for batch in test_loader:\n",
        "    print(\"Image: \" + str(count))\n",
        "    count += 1\n",
        "    image, mask = batch\n",
        "    # print(image)\n",
        "    # print(image.shape)\n",
        "    # print(\"Length is: \" + str((images)))\n",
        "    # print(images)\n",
        "\n",
        "    # image = image.to(DEVICE)\n",
        "    # mask = mask.to(DEVICE)\n",
        "    # Convert the tensors to numpy arrays\n",
        "\n",
        "    predicted_labels = model(image)\n",
        "\n",
        "    predicted_labels = predicted_labels.argmax(dim=1).squeeze().cpu().numpy()\n",
        "\n",
        "    target_labels = mask.squeeze().cpu().numpy()\n",
        "\n",
        "\n",
        "    # print(target_labels.size)\n",
        "    # print(target_labels.ndim)\n",
        "    # print(predicted_labels.size)\n",
        "    # print(predicted_labels.ndim)\n",
        "\n",
        "    for row in range(IMAGE_WIDTH):\n",
        "      for col in range(IMAGE_HEIGHT):\n",
        "\n",
        "        true_value = target_labels[row][col]\n",
        "        predicted_value = predicted_labels[row][col]\n",
        "\n",
        "        accumulatedArray[true_value][predicted_value] += 1\n",
        "\n",
        "\n",
        "  file_path = '/content/drive/MyDrive/Archie/final_array.txt'\n",
        "\n",
        "  # Write the array to a text file\n",
        "  np.savetxt(file_path, accumulatedArray, fmt='%d', delimiter='\\t')\n",
        "\n",
        "  # Optional: Print a message indicating success\n",
        "  print(f'The array has been successfully written to {file_path}.')\n",
        "  # plot_matrix(accumulatedArray)\n",
        "\n",
        "\n",
        "\n",
        "\n",
        "\n",
        "\n",
        "\n",
        "    # for row in range(IMAGE_WIDTH):\n",
        "    #   for col in range(IMAGE_HEIGHT):\n",
        "    #       # get row, col value from both true image and predicted image\n",
        "\n",
        "    #       true_value = true_masks[row][col]\n",
        "    #       predicted_value = prediction[row][col]\n",
        "    #       i is real classification, j is prediction classification\n",
        "    #       incremenet value in accumulatedArray,\n",
        "    #       accumulatedArray[true_value][predicted_value] += 1\n",
        "\n",
        "\n",
        "  # with torch.no_grad():  # No need to track gradients during evaluation\n",
        "  #   for images, true_masks in loader:\n",
        "  #     images = images.to(DEVICE)\n",
        "  #     true_masks = true_masks.to(DEVICE)\n",
        "  #     pred_masks = model(images)\n",
        "\n",
        "      # # Convert predictions to class indices\n",
        "      # pred_masks = torch.argmax(pred_masks, dim=1)\n",
        "\n",
        "      # # Update mean IoU with current batch\n",
        "      # mean_iou.update_state(true_masks.cpu().numpy(), pred_masks.cpu().numpy())\n",
        "\n",
        "\n",
        "\n",
        "\n",
        "  # for epoch in range(NUM_EPOCHS):\n",
        "  #   train_fn(train_loader, model, optimizer, loss_fn, scaler)\n",
        "\n",
        "  #   # save model\n",
        "  #   checkpoint = {\n",
        "  #       \"state_dict\": model.state_dict(),\n",
        "  #       \"optimizer\": optimizer.state_dict(),\n",
        "  #   }\n",
        "  #   save_checkpoint(checkpoint, epoch_number = epoch + 9)\n",
        "\n",
        "    # print(\"Evaluating model...\")\n",
        "    # mean_iou_score = evaluate_model(model, val_loader, num_classes=55, device='cuda')\n",
        "    # print(f\"Mean IoU score: {mean_iou_score}\")\n",
        "\n",
        "\n",
        "    # total_loss = 0.0\n",
        "    # total_samples = 0\n",
        "    # with torch.no_grad():\n",
        "    #   for data, targets in val_loader:\n",
        "    #     targets = targets.long()\n",
        "    #     data, targets = data.to(DEVICE), targets.to(DEVICE)\n",
        "\n",
        "    #     # Forward pass\n",
        "    #     predictions = model(data)\n",
        "\n",
        "    #     # Calculate the loss\n",
        "    #     loss = loss_fn(predictions, targets)\n",
        "\n",
        "    #     # Update the total loss and number of samples\n",
        "    #     total_loss += loss.item()\n",
        "    #     total_samples += targets.size(0)\n",
        "\n",
        "    # Calculate the average validation loss\n",
        "    # average_loss = total_loss / total_samples\n",
        "    # print(f'Validation Loss: {average_loss}')\n",
        "\n",
        "    # print examples to a folder\n",
        "    # if epoch == NUM_EPOCHS - 1:\n",
        "    #   print(\"Attempting to print to folder...\")\n",
        "    #   save_predictions_as_imgs(\n",
        "    #       val_loader, model, folder=\"/content/drive/MyDrive/Archie/output\", device=DEVICE\n",
        "    #   )\n",
        "    #   print(\"Success\")\n",
        "\n",
        "    #   print(\"Testing model on train dataset\")\n",
        "  # print(\"Evaluating model...\")\n",
        "  # mean_iou_score = evaluate_model(model, test_loader, num_classes=55, device='cuda')\n",
        "  # print(f\"Mean IoU score: {mean_iou_score}\")\n"
      ],
      "metadata": {
        "id": "8skNQ6iVuErF"
      },
      "execution_count": null,
      "outputs": []
    },
    {
      "cell_type": "markdown",
      "metadata": {
        "id": "aRY3N5_ckiYx"
      },
      "source": [
        "# Train"
      ]
    },
    {
      "cell_type": "code",
      "execution_count": null,
      "metadata": {
        "colab": {
          "base_uri": "https://localhost:8080/"
        },
        "id": "ohF4yJ4Z-IVk",
        "outputId": "6b16c18b-b236-48e9-8248-327480a0cf76"
      },
      "outputs": [
        {
          "output_type": "execute_result",
          "data": {
            "text/plain": [
              "23"
            ]
          },
          "metadata": {},
          "execution_count": 17
        }
      ],
      "source": [
        "import gc\n",
        "torch.cuda.empty_cache()\n",
        "gc.collect()"
      ]
    },
    {
      "cell_type": "code",
      "source": [],
      "metadata": {
        "id": "y3zvs6Mw_say"
      },
      "execution_count": null,
      "outputs": []
    },
    {
      "cell_type": "code",
      "execution_count": null,
      "metadata": {
        "id": "YY3zHrRvkhUg",
        "colab": {
          "base_uri": "https://localhost:8080/"
        },
        "outputId": "f67f4940-5324-4a77-e60f-73e8da931d93"
      },
      "outputs": [
        {
          "output_type": "stream",
          "name": "stdout",
          "text": [
            "Image: 1\n",
            "Image: 2\n",
            "Image: 3\n",
            "Image: 4\n",
            "Success!\n"
          ]
        }
      ],
      "source": [
        "run()"
      ]
    },
    {
      "cell_type": "code",
      "execution_count": null,
      "metadata": {
        "id": "r-lcmGt1j9-m",
        "colab": {
          "base_uri": "https://localhost:8080/"
        },
        "outputId": "a6f28085-4831-4ab2-abbf-63dd6f1442b1"
      },
      "outputs": [
        {
          "output_type": "stream",
          "name": "stdout",
          "text": [
            "[[0. 0. 0. ... 0. 0. 0.]\n",
            " [0. 0. 0. ... 0. 0. 0.]\n",
            " [0. 0. 0. ... 0. 0. 0.]\n",
            " ...\n",
            " [0. 0. 0. ... 0. 0. 0.]\n",
            " [0. 0. 0. ... 0. 0. 0.]\n",
            " [0. 0. 0. ... 0. 0. 0.]]\n"
          ]
        }
      ],
      "source": [
        "print(accumulatedArray)"
      ]
    },
    {
      "cell_type": "code",
      "source": [
        "file_path = '/content/drive/MyDrive/Archie/final_array.txt'\n",
        "\n",
        "# Write the array to a text file\n",
        "np.savetxt(file_path, accumulatedArray, fmt='%d', delimiter='\\t')\n",
        "\n",
        "# Optional: Print a message indicating success\n",
        "print(f'The array has been successfully written to {file_path}.')"
      ],
      "metadata": {
        "colab": {
          "base_uri": "https://localhost:8080/"
        },
        "id": "hiqiGon9YpGd",
        "outputId": "28de3ea8-43de-437f-e034-ab78165a1160"
      },
      "execution_count": null,
      "outputs": [
        {
          "output_type": "stream",
          "name": "stdout",
          "text": [
            "The array has been successfully written to /content/drive/MyDrive/Archie/array.txt.\n"
          ]
        }
      ]
    },
    {
      "cell_type": "markdown",
      "metadata": {
        "id": "Ywv8Bt4coRRp"
      },
      "source": [
        "# Save Model"
      ]
    },
    {
      "cell_type": "code",
      "execution_count": null,
      "metadata": {
        "id": "7xmbhFOnoTEO"
      },
      "outputs": [],
      "source": [
        "!cp \"/content/my_checkpoint.pth.tar\" \"/content/drive/My Drive/result.pth.tar\"\n",
        "\n",
        "!mv \"/content/output\" \"/content/drive/My Drive/output\"\n"
      ]
    },
    {
      "cell_type": "markdown",
      "metadata": {
        "id": "GRwpqfZOZQzp"
      },
      "source": [
        "### Test"
      ]
    },
    {
      "cell_type": "code",
      "execution_count": null,
      "metadata": {
        "id": "8UQ4lorfZR2b"
      },
      "outputs": [],
      "source": [
        "import torch\n",
        "\n",
        "# Load model\n",
        "model = UNET(1920, 1200, in_channels=3, out_channels=55).to(DEVICE)\n",
        "model.eval()\n",
        "\n",
        "# Create a dummy input tensor\n",
        "dummy_input = torch.randn(1, 3, 1080, 1920)  # 1 in the first dimension represents batch size\n",
        "\n",
        "# Pass the dummy input through the model\n",
        "with torch.no_grad():  # Disable gradient computation\n",
        "    dummy_output = model(dummy_input)\n",
        "\n",
        "print(dummy_output.size())"
      ]
    },
    {
      "cell_type": "markdown",
      "metadata": {
        "id": "kz0uKNd9wKDf"
      },
      "source": [
        "### Data fetch test"
      ]
    },
    {
      "cell_type": "code",
      "execution_count": null,
      "metadata": {
        "id": "jTmmrzn1wLVy"
      },
      "outputs": [],
      "source": [
        "\n",
        "import os\n",
        "# Define the base directory\n",
        "base_path = '/content/drive/MyDrive/camera_lidar_semantic2/camera_lidar_semantic/'\n",
        "\n",
        "# Get all folder names in the base directory\n",
        "folder_names = [name for name in os.listdir(base_path) if os.path.isdir(os.path.join(base_path, name))]\n",
        "\n",
        "print(folder_names)\n",
        "\n",
        "totalImages = 0\n",
        "totalMasks = 0\n",
        "# Iterate over each folder name\n",
        "for name in folder_names:\n",
        "    # Construct the full path to the target subdirectory\n",
        "    target_sub_dir = os.path.join(base_path, name, 'camera/cam_front_center')\n",
        "    label_sub_dir = os.path.join(base_path, name, 'label/cam_front_center')\n",
        "\n",
        "    # List all .png files in this target subdirectory\n",
        "    dataNames = [file for file in os.listdir(target_sub_dir) if file.endswith('.png')]\n",
        "\n",
        "    labelNames = [file for file in os.listdir(label_sub_dir) if file.endswith('.png')]\n",
        "    # Print the list of .png files\n",
        "    totalImages += len(dataNames)\n",
        "    totalMasks += len(labelNames)\n",
        "    print(name)\n",
        "    print(\"Images: \" + str(len(dataNames)))\n",
        "    print(\"Masks: \" + str(len(labelNames)))\n",
        "\n",
        "print(\"Total Images: \" + str(totalImages))\n",
        "print(\"Total Masks: \" + str(totalMasks))"
      ]
    },
    {
      "cell_type": "code",
      "execution_count": null,
      "metadata": {
        "colab": {
          "base_uri": "https://localhost:8080/"
        },
        "id": "GLJR4n553Y1e",
        "outputId": "1f6c5e69-2dda-400e-a7a4-baa429bf4e89"
      },
      "outputs": [
        {
          "data": {
            "text/plain": [
              "20180925112730"
            ]
          },
          "execution_count": 18,
          "metadata": {},
          "output_type": "execute_result"
        }
      ],
      "source": [
        "# 20180807_145028\n",
        "# Images: 942\n",
        "# Masks: 942\n",
        "# 20180810_142822\n",
        "# Images: 953\n",
        "# Masks: 953\n",
        "# 20180925_101535\n",
        "# Images: 1089\n",
        "# Masks: 1089\n",
        "# 20180925_112730\n",
        "# Images: 993\n",
        "# Masks: 993\n",
        "# 20180925_124435\n",
        "# Images: 1013\n",
        "# Masks: 1013\n",
        "# 20180925_135056\n",
        "# Images: 975\n",
        "# Masks: 975\n",
        "# 20181008_095521\n",
        "# Images: 870\n",
        "# Masks: 870\n",
        "# 20181016_082154\n",
        "# Images: 1804\n",
        "# Masks: 1804\n",
        "# 20181016_095036\n",
        "# Images: 918\n",
        "# Masks: 918\n",
        "# 20181016_125231\n",
        "# Images: 2252\n",
        "# Masks: 2252\n",
        "# 20181107_132300\n",
        "# Images: 579\n",
        "# Masks: 579\n",
        "# 20181107_132730\n",
        "# Images: 954\n",
        "# Masks: 954\n",
        "# 20181107_133258\n",
        "# Images: 188\n",
        "# Masks: 188\n",
        "# 20181107_133445\n",
        "# Images: 1353\n",
        "# Masks: 1353\n",
        "# 20181108_084007\n",
        "# Images: 1421\n",
        "# Masks: 1421\n",
        "# 20181108_103155\n",
        "# Images: 2870\n",
        "# Masks: 2870\n",
        "# 20181108_123750\n",
        "# Images: 2307\n",
        "# Masks: 2307\n",
        "# 20181108_141609\n",
        "# Images: 741\n",
        "# Masks: 741\n",
        "# 20181204_135952\n",
        "# Images: 2823\n",
        "# Masks: 2823\n",
        "# 20181204_154421\n",
        "# Images: 969\n",
        "# Masks: 969\n",
        "# 20181204_170238\n",
        "# Images: 1344\n",
        "# Masks: 1344\n",
        "# 20181204_191844\n",
        "# Images: 1878\n",
        "# Masks: 1878\n",
        "# 20181108_091945\n",
        "# Images: 2212\n",
        "# Masks: 2212\n",
        "# Total Images: 31448\n",
        "# Total Masks: 31448"
      ]
    },
    {
      "cell_type": "code",
      "execution_count": null,
      "metadata": {
        "id": "dtTdNDvb4Dfn"
      },
      "outputs": [],
      "source": [
        "# Images not found\n",
        "# /content/drive/MyDrive/camera_lidar_semantic2/camera_lidar_semantic/20180925_112730/label/cam_front_center/20180925112730_label_frontcenter_000010300.png\n",
        "\n",
        "# 20180925112730_label_frontcenter_000091304\n",
        "\n",
        "##20180925112730_label_frontcenter_00008477\n"
      ]
    },
    {
      "cell_type": "markdown",
      "metadata": {
        "id": "FB1aW73vcD-C"
      },
      "source": [
        "# Test"
      ]
    },
    {
      "cell_type": "code",
      "execution_count": null,
      "metadata": {
        "id": "XvGavQo1cFZb"
      },
      "outputs": [],
      "source": [
        "torch.load(\"UNET_Checkpoint8.pth.tar\", map_location=\"cuda\")\n",
        "\n"
      ]
    },
    {
      "cell_type": "code",
      "source": [
        "run()"
      ],
      "metadata": {
        "colab": {
          "base_uri": "https://localhost:8080/"
        },
        "id": "Ipf2sMgHdAej",
        "outputId": "105aeb5b-6e1b-40ba-b49b-47c36758a9a0"
      },
      "execution_count": null,
      "outputs": [
        {
          "output_type": "stream",
          "name": "stdout",
          "text": [
            "Image: 1\n",
            "Image: 2\n",
            "Image: 3\n",
            "Image: 4\n",
            "Success!\n"
          ]
        }
      ]
    },
    {
      "cell_type": "markdown",
      "source": [
        "# Some graphs"
      ],
      "metadata": {
        "id": "QN4LYK1KvZef"
      }
    },
    {
      "cell_type": "code",
      "source": [
        "import matplotlib.pyplot as plt\n",
        "\n",
        "def plot_loss(train_loss, val_loss):\n",
        "    epochs = range(1, len(train_loss) + 1)\n",
        "\n",
        "    plt.figure(figsize=(8, 6))  # Adjust figure size for better readability\n",
        "\n",
        "    plt.plot(epochs, train_loss, 'bo-', label='Training loss', linewidth=2, markersize=5)\n",
        "    plt.plot(epochs, val_loss, 'ro-', label='Validation loss', linewidth=2, markersize=5)\n",
        "\n",
        "    # Set y-axis range for better visualization\n",
        "    plt.ylim(0, max(max(train_loss), max(val_loss)) + 0.1)\n",
        "\n",
        "    plt.title('Training and Validation Loss')\n",
        "    plt.xlabel('Epochs')\n",
        "    plt.ylabel('Loss')\n",
        "    plt.legend()\n",
        "\n",
        "    plt.grid(True, linestyle='--', alpha=0.7)  # Add grid for better readability\n",
        "    plt.tight_layout()  # Ensure everything fits without overlapping\n",
        "\n",
        "    # Save the plot as an image (optional)\n",
        "    # plt.savefig('training_validation_loss.png', dpi=300)\n",
        "\n",
        "    plt.show()\n",
        "\n",
        "# Example usage\n",
        "train_loss = [3.06, 2.67, 2.38, 2.02, 1.84, 1.55, 1.32, 1.15, 0.897, 0.748]\n",
        "val_loss = [0.0949, 0.0840, 0.0740, 0.0645, 0.0555, 0.0474, 0.0403, 0.0344, 0.0283, 0.0240]\n",
        "\n",
        "plot_loss(train_loss, val_loss)\n"
      ],
      "metadata": {
        "colab": {
          "base_uri": "https://localhost:8080/",
          "height": 498
        },
        "id": "wp5OpdoCvbIy",
        "outputId": "4a479c6d-9fc6-4656-bc28-30234d24dbfc"
      },
      "execution_count": null,
      "outputs": [
        {
          "output_type": "display_data",
          "data": {
            "text/plain": [
              "<Figure size 800x600 with 1 Axes>"
            ],
            "image/png": "[encoded data removed]"
          },
          "metadata": {}
        }
      ]
    },
    {
      "cell_type": "code",
      "source": [
        "import matplotlib.pyplot as plt\n",
        "from pandas.plotting import table\n",
        "\n",
        "train_loss = [3.06, 2.67, 2.38, 2.02, 1.84, 1.55, 1.32, 1.15, 0.897, 0.748]\n",
        "val_loss = [0.0949, 0.0840, 0.0740, 0.0645, 0.0555, 0.0474, 0.0403, 0.0344, 0.0283, 0.0240]\n",
        "\n",
        "# Create a DataFrame for the table\n",
        "import pandas as pd\n",
        "df = pd.DataFrame({\n",
        "    'Epoch': range(1, 11),\n",
        "    'Training Loss': train_loss,\n",
        "    'Validation Loss': val_loss\n",
        "})\n",
        "\n",
        "# Convert 'Epoch' column to integers\n",
        "df['Epoch'] = df['Epoch'].astype(int)\n",
        "\n",
        "# Create a figure and axis\n",
        "fig, ax = plt.subplots(figsize=(8, 4))\n",
        "\n",
        "# Hide the axes\n",
        "ax.axis('off')\n",
        "\n",
        "# Create the table and add it to the axis\n",
        "tab = table(ax, df, loc='center', colWidths=[0.1, 0.15, 0.15])\n",
        "tab.auto_set_font_size(False)\n",
        "tab.set_fontsize(10)\n",
        "tab.scale(1.2, 1.2)\n",
        "\n",
        "# Rotate the column titles for better visibility\n",
        "for i, key in enumerate(df.columns):\n",
        "    ax.text(i + 0.5, 0.95, key, ha='center', va='center', rotation=45)\n",
        "\n",
        "# Save the figure as an image\n",
        "plt.savefig('loss_table.png', bbox_inches='tight', pad_inches=0.05)\n",
        "plt.show()\n"
      ],
      "metadata": {
        "colab": {
          "base_uri": "https://localhost:8080/",
          "height": 371
        },
        "id": "WcvhLMqgxX1q",
        "outputId": "fc789503-3cf4-40d7-8bf2-7780699a0cb9"
      },
      "execution_count": null,
      "outputs": [
        {
          "output_type": "display_data",
          "data": {
            "text/plain": [
              "<Figure size 800x400 with 1 Axes>"
            ],
            "image/png": "[encoded data removed]"
          },
          "metadata": {}
        }
      ]
    },
    {
      "cell_type": "markdown",
      "metadata": {
        "id": "aMODy-Fs62bj"
      },
      "source": [
        "## Decision Matrix"
      ]
    },
    {
      "cell_type": "code",
      "source": [
        "# !pip install seaborn\n",
        "# import seaborn\n",
        "import numpy as np\n",
        "accumulatedArray = np.zeros((55,55))\n",
        "\n",
        "# Run through images in the test dataset\n",
        "# Loop through pixels and update accumulatedArray\n",
        "# i index represents the true pixel label\n",
        "# j index represents the predicted pixel lab\n",
        "\n",
        "\n",
        "# for row in range(WIDTH):\n",
        "  # for col in range(HEIGHT):\n",
        "      # get row, col value from both true image and predicted image\n",
        "\n",
        "      # true_value = real_image[row][col]\n",
        "      # predicted_value = prediction[row][col]\n",
        "      # i is real classification, j is prediction classification\n",
        "      # incremenet value in accumulatedArray,\n",
        "      # accumulatedArray[true_value][predicted_value] += 1\n"
      ],
      "metadata": {
        "id": "tjm3L2u4fJCz"
      },
      "execution_count": null,
      "outputs": []
    },
    {
      "cell_type": "code",
      "source": [],
      "metadata": {
        "id": "Qx7abjXTjFXS"
      },
      "execution_count": null,
      "outputs": []
    },
    {
      "cell_type": "code",
      "source": [
        "print(accumulatedArray)"
      ],
      "metadata": {
        "colab": {
          "base_uri": "https://localhost:8080/"
        },
        "id": "8KgX9QmwjOHy",
        "outputId": "e1984ff7-f232-4e99-b0b8-bd45c94c8787"
      },
      "execution_count": null,
      "outputs": [
        {
          "output_type": "stream",
          "name": "stdout",
          "text": [
            "[[0. 0. 0. ... 0. 0. 0.]\n",
            " [0. 0. 0. ... 0. 0. 0.]\n",
            " [0. 0. 0. ... 0. 0. 0.]\n",
            " ...\n",
            " [0. 0. 0. ... 0. 0. 0.]\n",
            " [0. 0. 0. ... 0. 0. 0.]\n",
            " [0. 0. 0. ... 0. 0. 0.]]\n"
          ]
        }
      ]
    },
    {
      "cell_type": "code",
      "source": [
        "import seaborn as sn\n",
        "import matplotlib.pyplot as plt\n",
        "import numpy as np\n",
        "\n",
        "def plot_matrix(data):\n",
        "    axis_labels = [\n",
        "        \"Car 1\", \"Car 2\", \"Car 3\", \"Car 4\",\n",
        "        \"Bicycle 1\", \"Bicycle 2\", \"Bicycle 3\", \"Bicycle 4\",\n",
        "        \"Pedestrian 1\", \"Pedestrian 2\", \"Pedestrian 3\",\n",
        "        \"Truck 1\", \"Truck 2\", \"Truck 3\",\n",
        "        \"Small vehicles 1\", \"Small vehicles 2\", \"Small vehicles 3\",\n",
        "        \"Traffic signal 1\", \"Traffic signal 2\", \"Traffic signal 3\",\n",
        "        \"Traffic sign 1\", \"Traffic sign 2\", \"Traffic sign 3\",\n",
        "        \"Utility vehicle 1\", \"Utility vehicle 2\",\n",
        "        \"Sidebars\", \"Speed bumper\", \"Curbstone\", \"Solid line\",\n",
        "        \"Irrelevant signs\", \"Road blocks\", \"Tractor\",\n",
        "        \"Non-drivable street\", \"Zebra crossing\", \"Obstacles / trash\", \"Poles\",\n",
        "        \"RD restricted area\", \"Animals\", \"Grid structure\", \"Signal corpus\",\n",
        "        \"Drivable cobblestone\", \"Electronic traffic\", \"Slow drive area\",\n",
        "        \"Nature object\", \"Parking area\", \"Sidewalk\", \"Ego car\",\n",
        "        \"Painted driv. instr.\", \"Traffic guide obj.\", \"Dashed line\",\n",
        "        \"RD normal street\", \"Sky\", \"Buildings\", \"Blurred area\", \"Rain dirt\"\n",
        "    ]\n",
        "\n",
        "    # Create a list to store the indices of non-empty columns\n",
        "    non_empty_columns = [i for i, col in enumerate(data.T) if any(col)]\n",
        "\n",
        "    # Remove empty columns and corresponding rows\n",
        "    data_filtered = data[:, non_empty_columns]\n",
        "    axis_labels_filtered = [label for i, label in enumerate(axis_labels) if i in non_empty_columns]\n",
        "\n",
        "    # Normalize each row to represent the percentage of the total in its row\n",
        "    data_percentage = (data_filtered.T / data_filtered.sum(axis=1)).T * 100\n",
        "\n",
        "    # Calculate column sums\n",
        "    col_sums = np.sum(data_filtered, axis=0)\n",
        "\n",
        "    # Convert data to percentages\n",
        "    percentage_matrix = (data_filtered / col_sums) * 100\n",
        "\n",
        "    # Create the heatmap\n",
        "    hm = sn.heatmap(data=percentage_matrix, xticklabels=axis_labels_filtered, yticklabels=axis_labels_filtered)\n",
        "\n",
        "    print(percentage_matrix)\n",
        "    # Set the font size\n",
        "    font = {'size': 4}\n",
        "    plt.rc('font', **font)\n",
        "\n",
        "    # Set the title and labels\n",
        "    plt.title(\"Image Segmentation Decision Matrix (Percentage)\")\n",
        "    plt.xlabel(\"Predicted Labels\")\n",
        "    plt.ylabel(\"True Labels\")\n",
        "\n",
        "    # Display the figure\n",
        "    plt.show()\n",
        "\n",
        "# Example usage\n",
        "# Sample data\n",
        "data_array = np.random.rand(4, 4)\n",
        "plot_matrix(data_array)\n"
      ],
      "metadata": {
        "id": "NXAQsNGFkmNT",
        "colab": {
          "base_uri": "https://localhost:8080/",
          "height": 514
        },
        "outputId": "06241c23-7741-47fb-b95e-06071b5e8e70"
      },
      "execution_count": null,
      "outputs": [
        {
          "output_type": "stream",
          "name": "stdout",
          "text": [
            "[[31.91876499 20.63059873  9.05016055 14.65951203]\n",
            " [20.23406183 32.35124313 48.28293508 47.19382895]\n",
            " [36.69125718 44.58779153 37.74080757 11.67833417]\n",
            " [11.15591599  2.43036661  4.92609681 26.46832486]]\n"
          ]
        },
        {
          "output_type": "display_data",
          "data": {
            "text/plain": [
              "<Figure size 640x480 with 2 Axes>"
            ],
            "image/png": "[encoded data removed]"
          },
          "metadata": {}
        }
      ]
    },
    {
      "cell_type": "code",
      "source": [
        "plot_matrix(accumulatedArray)"
      ],
      "metadata": {
        "colab": {
          "base_uri": "https://localhost:8080/",
          "height": 304
        },
        "id": "019nes1GpJ1i",
        "outputId": "3ebc98a1-7bee-4d79-f8f5-e3ef4a8724bb"
      },
      "execution_count": null,
      "outputs": [
        {
          "output_type": "error",
          "ename": "ValueError",
          "evalue": "zero-size array to reduction operation fmin which has no identity",
          "traceback": [
            "\u001b[0;31m---------------------------------------------------------------------------\u001b[0m",
            "\u001b[0;31mValueError\u001b[0m                                Traceback (most recent call last)",
            "\u001b[0;32m<ipython-input-33-ee2ad432586a>\u001b[0m in \u001b[0;36m<cell line: 1>\u001b[0;34m()\u001b[0m\n\u001b[0;32m----> 1\u001b[0;31m \u001b[0mplot_matrix\u001b[0m\u001b[0;34m(\u001b[0m\u001b[0maccumulatedArray\u001b[0m\u001b[0;34m)\u001b[0m\u001b[0;34m\u001b[0m\u001b[0;34m\u001b[0m\u001b[0m\n\u001b[0m",
            "\u001b[0;32m<ipython-input-32-324154744336>\u001b[0m in \u001b[0;36mplot_matrix\u001b[0;34m(data)\u001b[0m\n\u001b[1;32m     40\u001b[0m \u001b[0;34m\u001b[0m\u001b[0m\n\u001b[1;32m     41\u001b[0m     \u001b[0;31m# Create the heatmap\u001b[0m\u001b[0;34m\u001b[0m\u001b[0;34m\u001b[0m\u001b[0m\n\u001b[0;32m---> 42\u001b[0;31m     \u001b[0mhm\u001b[0m \u001b[0;34m=\u001b[0m \u001b[0msn\u001b[0m\u001b[0;34m.\u001b[0m\u001b[0mheatmap\u001b[0m\u001b[0;34m(\u001b[0m\u001b[0mdata\u001b[0m\u001b[0;34m=\u001b[0m\u001b[0mpercentage_matrix\u001b[0m\u001b[0;34m,\u001b[0m \u001b[0mxticklabels\u001b[0m\u001b[0;34m=\u001b[0m\u001b[0maxis_labels_filtered\u001b[0m\u001b[0;34m,\u001b[0m \u001b[0myticklabels\u001b[0m\u001b[0;34m=\u001b[0m\u001b[0maxis_labels_filtered\u001b[0m\u001b[0;34m)\u001b[0m\u001b[0;34m\u001b[0m\u001b[0;34m\u001b[0m\u001b[0m\n\u001b[0m\u001b[1;32m     43\u001b[0m \u001b[0;34m\u001b[0m\u001b[0m\n\u001b[1;32m     44\u001b[0m     \u001b[0mprint\u001b[0m\u001b[0;34m(\u001b[0m\u001b[0mpercentage_matrix\u001b[0m\u001b[0;34m)\u001b[0m\u001b[0;34m\u001b[0m\u001b[0;34m\u001b[0m\u001b[0m\n",
            "\u001b[0;32m/usr/local/lib/python3.10/dist-packages/seaborn/matrix.py\u001b[0m in \u001b[0;36mheatmap\u001b[0;34m(data, vmin, vmax, cmap, center, robust, annot, fmt, annot_kws, linewidths, linecolor, cbar, cbar_kws, cbar_ax, square, xticklabels, yticklabels, mask, ax, **kwargs)\u001b[0m\n\u001b[1;32m    444\u001b[0m     \"\"\"\n\u001b[1;32m    445\u001b[0m     \u001b[0;31m# Initialize the plotter object\u001b[0m\u001b[0;34m\u001b[0m\u001b[0;34m\u001b[0m\u001b[0m\n\u001b[0;32m--> 446\u001b[0;31m     plotter = _HeatMapper(data, vmin, vmax, cmap, center, robust, annot, fmt,\n\u001b[0m\u001b[1;32m    447\u001b[0m                           \u001b[0mannot_kws\u001b[0m\u001b[0;34m,\u001b[0m \u001b[0mcbar\u001b[0m\u001b[0;34m,\u001b[0m \u001b[0mcbar_kws\u001b[0m\u001b[0;34m,\u001b[0m \u001b[0mxticklabels\u001b[0m\u001b[0;34m,\u001b[0m\u001b[0;34m\u001b[0m\u001b[0;34m\u001b[0m\u001b[0m\n\u001b[1;32m    448\u001b[0m                           yticklabels, mask)\n",
            "\u001b[0;32m/usr/local/lib/python3.10/dist-packages/seaborn/matrix.py\u001b[0m in \u001b[0;36m__init__\u001b[0;34m(self, data, vmin, vmax, cmap, center, robust, annot, fmt, annot_kws, cbar, cbar_kws, xticklabels, yticklabels, mask)\u001b[0m\n\u001b[1;32m    161\u001b[0m \u001b[0;34m\u001b[0m\u001b[0m\n\u001b[1;32m    162\u001b[0m         \u001b[0;31m# Determine good default values for the colormapping\u001b[0m\u001b[0;34m\u001b[0m\u001b[0;34m\u001b[0m\u001b[0m\n\u001b[0;32m--> 163\u001b[0;31m         self._determine_cmap_params(plot_data, vmin, vmax,\n\u001b[0m\u001b[1;32m    164\u001b[0m                                     cmap, center, robust)\n\u001b[1;32m    165\u001b[0m \u001b[0;34m\u001b[0m\u001b[0m\n",
            "\u001b[0;32m/usr/local/lib/python3.10/dist-packages/seaborn/matrix.py\u001b[0m in \u001b[0;36m_determine_cmap_params\u001b[0;34m(self, plot_data, vmin, vmax, cmap, center, robust)\u001b[0m\n\u001b[1;32m    200\u001b[0m                 \u001b[0mvmin\u001b[0m \u001b[0;34m=\u001b[0m \u001b[0mnp\u001b[0m\u001b[0;34m.\u001b[0m\u001b[0mnanpercentile\u001b[0m\u001b[0;34m(\u001b[0m\u001b[0mcalc_data\u001b[0m\u001b[0;34m,\u001b[0m \u001b[0;36m2\u001b[0m\u001b[0;34m)\u001b[0m\u001b[0;34m\u001b[0m\u001b[0;34m\u001b[0m\u001b[0m\n\u001b[1;32m    201\u001b[0m             \u001b[0;32melse\u001b[0m\u001b[0;34m:\u001b[0m\u001b[0;34m\u001b[0m\u001b[0;34m\u001b[0m\u001b[0m\n\u001b[0;32m--> 202\u001b[0;31m                 \u001b[0mvmin\u001b[0m \u001b[0;34m=\u001b[0m \u001b[0mnp\u001b[0m\u001b[0;34m.\u001b[0m\u001b[0mnanmin\u001b[0m\u001b[0;34m(\u001b[0m\u001b[0mcalc_data\u001b[0m\u001b[0;34m)\u001b[0m\u001b[0;34m\u001b[0m\u001b[0;34m\u001b[0m\u001b[0m\n\u001b[0m\u001b[1;32m    203\u001b[0m         \u001b[0;32mif\u001b[0m \u001b[0mvmax\u001b[0m \u001b[0;32mis\u001b[0m \u001b[0;32mNone\u001b[0m\u001b[0;34m:\u001b[0m\u001b[0;34m\u001b[0m\u001b[0;34m\u001b[0m\u001b[0m\n\u001b[1;32m    204\u001b[0m             \u001b[0;32mif\u001b[0m \u001b[0mrobust\u001b[0m\u001b[0;34m:\u001b[0m\u001b[0;34m\u001b[0m\u001b[0;34m\u001b[0m\u001b[0m\n",
            "\u001b[0;32m/usr/local/lib/python3.10/dist-packages/numpy/lib/nanfunctions.py\u001b[0m in \u001b[0;36mnanmin\u001b[0;34m(a, axis, out, keepdims, initial, where)\u001b[0m\n\u001b[1;32m    341\u001b[0m         \u001b[0;31m# Fast, but not safe for subclasses of ndarray, or object arrays,\u001b[0m\u001b[0;34m\u001b[0m\u001b[0;34m\u001b[0m\u001b[0m\n\u001b[1;32m    342\u001b[0m         \u001b[0;31m# which do not implement isnan (gh-9009), or fmin correctly (gh-8975)\u001b[0m\u001b[0;34m\u001b[0m\u001b[0;34m\u001b[0m\u001b[0m\n\u001b[0;32m--> 343\u001b[0;31m         \u001b[0mres\u001b[0m \u001b[0;34m=\u001b[0m \u001b[0mnp\u001b[0m\u001b[0;34m.\u001b[0m\u001b[0mfmin\u001b[0m\u001b[0;34m.\u001b[0m\u001b[0mreduce\u001b[0m\u001b[0;34m(\u001b[0m\u001b[0ma\u001b[0m\u001b[0;34m,\u001b[0m \u001b[0maxis\u001b[0m\u001b[0;34m=\u001b[0m\u001b[0maxis\u001b[0m\u001b[0;34m,\u001b[0m \u001b[0mout\u001b[0m\u001b[0;34m=\u001b[0m\u001b[0mout\u001b[0m\u001b[0;34m,\u001b[0m \u001b[0;34m**\u001b[0m\u001b[0mkwargs\u001b[0m\u001b[0;34m)\u001b[0m\u001b[0;34m\u001b[0m\u001b[0;34m\u001b[0m\u001b[0m\n\u001b[0m\u001b[1;32m    344\u001b[0m         \u001b[0;32mif\u001b[0m \u001b[0mnp\u001b[0m\u001b[0;34m.\u001b[0m\u001b[0misnan\u001b[0m\u001b[0;34m(\u001b[0m\u001b[0mres\u001b[0m\u001b[0;34m)\u001b[0m\u001b[0;34m.\u001b[0m\u001b[0many\u001b[0m\u001b[0;34m(\u001b[0m\u001b[0;34m)\u001b[0m\u001b[0;34m:\u001b[0m\u001b[0;34m\u001b[0m\u001b[0;34m\u001b[0m\u001b[0m\n\u001b[1;32m    345\u001b[0m             warnings.warn(\"All-NaN slice encountered\", RuntimeWarning,\n",
            "\u001b[0;31mValueError\u001b[0m: zero-size array to reduction operation fmin which has no identity"
          ]
        }
      ]
    },
    {
      "cell_type": "code",
      "source": [
        "import numpy as np\n",
        "\n",
        "# Specify the path to your file\n",
        "file_path = \"/content/drive/MyDrive/Archie/final_array.txt\"  # Replace with the actual path to your file\n",
        "\n",
        "# Load the data from the file into a numpy array\n",
        "accumulatedArray = np.loadtxt(file_path)\n",
        "\n",
        "# Print the array to check the result\n",
        "# print(data_array)\n"
      ],
      "metadata": {
        "id": "UyjKP0qMIZHV"
      },
      "execution_count": null,
      "outputs": []
    },
    {
      "cell_type": "code",
      "source": [
        "import seaborn as sn\n",
        "import matplotlib.pyplot as plt\n",
        "\n",
        "selected_classes = [\"Car 1\", \"Grid structure\", \"Nature object\", \"Sky\", \"RD normal street\", \"Buildings\", \"Truck 1\"]\n",
        "\n",
        "axis_labels = [\n",
        "        \"Car 1\", \"Car 2\", \"Car 3\", \"Car 4\",\n",
        "        \"Bicycle 1\", \"Bicycle 2\", \"Bicycle 3\", \"Bicycle 4\",\n",
        "        \"Pedestrian 1\", \"Pedestrian 2\", \"Pedestrian 3\",\n",
        "        \"Truck 1\", \"Truck 2\", \"Truck 3\",\n",
        "        \"Small vehicles 1\", \"Small vehicles 2\", \"Small vehicles 3\",\n",
        "        \"Traffic signal 1\", \"Traffic signal 2\", \"Traffic signal 3\",\n",
        "        \"Traffic sign 1\", \"Traffic sign 2\", \"Traffic sign 3\",\n",
        "        \"Utility vehicle 1\", \"Utility vehicle 2\",\n",
        "        \"Sidebars\", \"Speed bumper\", \"Curbstone\", \"Solid line\",\n",
        "        \"Irrelevant signs\", \"Road blocks\", \"Tractor\",\n",
        "        \"Non-drivable street\", \"Zebra crossing\", \"Obstacles / trash\", \"Poles\",\n",
        "        \"RD restricted area\", \"Animals\", \"Grid structure\", \"Signal corpus\",\n",
        "        \"Drivable cobblestone\", \"Electronic traffic\", \"Slow drive area\",\n",
        "        \"Nature object\", \"Parking area\", \"Sidewalk\", \"Ego car\",\n",
        "        \"Painted driv. instr.\", \"Traffic guide obj.\", \"Dashed line\",\n",
        "        \"RD normal street\", \"Sky\", \"Buildings\", \"Blurred area\", \"Rain dirt\"\n",
        "    ]\n",
        "\n",
        "\n",
        "selected_indices = [axis_labels.index(class_name) for class_name in selected_classes]\n",
        "selected_accumulatedArray = accumulatedArray[selected_indices][:, selected_indices]\n",
        "selected_axis_labels = [axis_labels[i] for i in selected_indices]\n",
        "\n",
        "hm = sn.heatmap(data=selected_accumulatedArray, xticklabels=selected_axis_labels, yticklabels=selected_axis_labels)\n",
        "\n",
        "plt.title(\"Confusion Matrix\")\n",
        "plt.xlabel(\"Predicted Labels\", fontsize=10)\n",
        "plt.ylabel(\"True Labels\", fontsize=10)\n",
        "plt.tick_params(axis='both', labelsize=5)\n",
        "plt.show()"
      ],
      "metadata": {
        "id": "cr0ZggP1pNv5",
        "colab": {
          "base_uri": "https://localhost:8080/",
          "height": 517
        },
        "outputId": "5c397a88-57c4-4c4e-df47-df7474110c47"
      },
      "execution_count": null,
      "outputs": [
        {
          "output_type": "display_data",
          "data": {
            "text/plain": [
              "<Figure size 640x480 with 2 Axes>"
            ],
            "image/png": "[encoded data removed]"
          },
          "metadata": {}
        }
      ]
    },
    {
      "cell_type": "code",
      "source": [],
      "metadata": {
        "id": "JKbRMjUnJf2w"
      },
      "execution_count": null,
      "outputs": []
    },
    {
      "cell_type": "code",
      "source": [],
      "metadata": {
        "id": "2w-QFkKHc8jO"
      },
      "execution_count": null,
      "outputs": []
    },
    {
      "cell_type": "markdown",
      "source": [
        "### Image cropper"
      ],
      "metadata": {
        "id": "AgopMBbOkJay"
      }
    },
    {
      "cell_type": "code",
      "source": [
        "from PIL import Image\n",
        "import os\n",
        "\n",
        "def resize_images_to_height(directory, target_height=512):\n",
        "    for filename in os.listdir(directory):\n",
        "        if filename.lower().endswith(('.jpg', '.jpeg', '.png', '.gif', '.bmp')):\n",
        "            img_path = os.path.join(directory, filename)\n",
        "            with Image.open(img_path) as img:\n",
        "                # Calculate the new width while maintaining the aspect ratio\n",
        "                aspect_ratio = img.width / img.height\n",
        "                new_width = int(target_height * aspect_ratio)\n",
        "\n",
        "                # Resize the image\n",
        "                resized_img = img.resize((new_width, target_height), Image.ANTIALIAS)\n",
        "\n",
        "                # Save the resized image\n",
        "                resized_img.save(os.path.join(directory, filename))\n",
        "\n",
        "# Example usage:\n",
        "directory_path = '/content/drive/MyDrive/Archie/edgecases'\n",
        "resize_images_to_height(directory_path)\n"
      ],
      "metadata": {
        "id": "Cl9oE4JzkLvf",
        "colab": {
          "base_uri": "https://localhost:8080/"
        },
        "outputId": "5112aa4e-c6cb-4470-9359-02f6ad262251"
      },
      "execution_count": null,
      "outputs": [
        {
          "output_type": "stream",
          "name": "stderr",
          "text": [
            "<ipython-input-3-9caeb2ebfb9a>:14: DeprecationWarning: ANTIALIAS is deprecated and will be removed in Pillow 10 (2023-07-01). Use LANCZOS or Resampling.LANCZOS instead.\n",
            "  resized_img = img.resize((new_width, target_height), Image.ANTIALIAS)\n"
          ]
        }
      ]
    },
    {
      "cell_type": "markdown",
      "source": [],
      "metadata": {
        "id": "rrlRRnOTsHpY"
      }
    }
  ],
  "metadata": {
    "colab": {
      "machine_shape": "hm",
      "provenance": [],
      "collapsed_sections": [
        "85-V8t-6RFaj",
        "aRY3N5_ckiYx",
        "GRwpqfZOZQzp",
        "kz0uKNd9wKDf",
        "QN4LYK1KvZef",
        "aMODy-Fs62bj"
      ],
      "include_colab_link": true
    },
    "kernelspec": {
      "display_name": "Python 3",
      "name": "python3"
    },
    "language_info": {
      "name": "python"
    }
  },
  "nbformat": 4,
  "nbformat_minor": 0
}